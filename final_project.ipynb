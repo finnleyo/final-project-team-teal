{
 "cells": [
  {
   "attachments": {},
   "cell_type": "markdown",
   "id": "8b750025-903e-443c-a7d2-2198a797cd7d",
   "metadata": {},
   "source": [
    "# Analysis and Comparison of Tweets: Boston Marathon Bombings vs. Hurricane Sandy\n",
    "\n",
    "- Vicky Xie: Coding: Data Importing/Reading/Processing, Sentiment Analysis, Topic Modeling, pyLDAvis\n",
    "- Riley Smith: Introduction, Topic Analysis, Visualization\n",
    "- Finnley O'Rourke: Results/Findings: Topic Modeling\n",
    "- Kayla Katakis: Research Questions, Dataset Descriptions, Results/Findings: Sentiment Analysis"
   ]
  },
  {
   "cell_type": "markdown",
   "id": "98f943a9-0647-4388-8a26-ad5666c4e840",
   "metadata": {
    "tags": []
   },
   "source": [
    "## Import and Install Necessary Packages"
   ]
  },
  {
   "cell_type": "code",
   "execution_count": 1,
   "id": "16ddbdb4-c1db-4c85-892f-51dd0c3d7cf3",
   "metadata": {
    "tags": []
   },
   "outputs": [
    {
     "name": "stdout",
     "output_type": "stream",
     "text": [
      "Collecting textblob\n",
      "  Using cached textblob-0.17.1-py2.py3-none-any.whl (636 kB)\n",
      "Collecting nltk>=3.1\n",
      "  Using cached nltk-3.8.1-py3-none-any.whl (1.5 MB)\n",
      "Requirement already satisfied: joblib in /opt/conda/lib/python3.10/site-packages (from nltk>=3.1->textblob) (1.2.0)\n",
      "Collecting regex>=2021.8.3\n",
      "  Using cached regex-2023.6.3-cp310-cp310-manylinux_2_17_x86_64.manylinux2014_x86_64.whl (770 kB)\n",
      "Requirement already satisfied: tqdm in /opt/conda/lib/python3.10/site-packages (from nltk>=3.1->textblob) (4.65.0)\n",
      "Collecting click\n",
      "  Using cached click-8.1.3-py3-none-any.whl (96 kB)\n",
      "Installing collected packages: regex, click, nltk, textblob\n",
      "\u001b[31mERROR: pip's dependency resolver does not currently take into account all the packages that are installed. This behaviour is the source of the following dependency conflicts.\n",
      "datapane 0.16.5 requires pydantic<2.0.0,>=1.6.0, which is not installed.\n",
      "datapane 0.16.5 requires pandas<2.0.0,>=1.1.0, but you have pandas 2.0.2 which is incompatible.\u001b[0m\u001b[31m\n",
      "\u001b[0mSuccessfully installed click-8.1.3 nltk-3.8.1 regex-2023.6.3 textblob-0.17.1\n",
      "Requirement already satisfied: nltk in /opt/conda/lib/python3.10/site-packages (3.8.1)\n",
      "Requirement already satisfied: tqdm in /opt/conda/lib/python3.10/site-packages (from nltk) (4.65.0)\n",
      "Requirement already satisfied: regex>=2021.8.3 in /opt/conda/lib/python3.10/site-packages (from nltk) (2023.6.3)\n",
      "Requirement already satisfied: click in /opt/conda/lib/python3.10/site-packages (from nltk) (8.1.3)\n",
      "Requirement already satisfied: joblib in /opt/conda/lib/python3.10/site-packages (from nltk) (1.2.0)\n",
      "Collecting bokeh\n",
      "  Using cached bokeh-3.1.1-py3-none-any.whl (8.3 MB)\n",
      "Requirement already satisfied: numpy>=1.16 in /opt/conda/lib/python3.10/site-packages (from bokeh) (1.24.2)\n",
      "Requirement already satisfied: pandas>=1.2 in /home/jovyan/.local/lib/python3.10/site-packages (from bokeh) (2.0.2)\n",
      "Requirement already satisfied: packaging>=16.8 in /opt/conda/lib/python3.10/site-packages (from bokeh) (23.0)\n",
      "Collecting xyzservices>=2021.09.1\n",
      "  Using cached xyzservices-2023.5.0-py3-none-any.whl (56 kB)\n",
      "Requirement already satisfied: PyYAML>=3.10 in /opt/conda/lib/python3.10/site-packages (from bokeh) (6.0)\n",
      "Requirement already satisfied: pillow>=7.1.0 in /opt/conda/lib/python3.10/site-packages (from bokeh) (9.4.0)\n",
      "Requirement already satisfied: tornado>=5.1 in /opt/conda/lib/python3.10/site-packages (from bokeh) (6.2)\n",
      "Requirement already satisfied: Jinja2>=2.9 in /opt/conda/lib/python3.10/site-packages (from bokeh) (3.1.2)\n",
      "Requirement already satisfied: contourpy>=1 in /opt/conda/lib/python3.10/site-packages (from bokeh) (1.0.7)\n",
      "Requirement already satisfied: MarkupSafe>=2.0 in /opt/conda/lib/python3.10/site-packages (from Jinja2>=2.9->bokeh) (2.1.2)\n",
      "Requirement already satisfied: pytz>=2020.1 in /opt/conda/lib/python3.10/site-packages (from pandas>=1.2->bokeh) (2022.7.1)\n",
      "Requirement already satisfied: python-dateutil>=2.8.2 in /opt/conda/lib/python3.10/site-packages (from pandas>=1.2->bokeh) (2.8.2)\n",
      "Requirement already satisfied: tzdata>=2022.1 in /home/jovyan/.local/lib/python3.10/site-packages (from pandas>=1.2->bokeh) (2023.3)\n",
      "Requirement already satisfied: six>=1.5 in /opt/conda/lib/python3.10/site-packages (from python-dateutil>=2.8.2->pandas>=1.2->bokeh) (1.16.0)\n",
      "Installing collected packages: xyzservices, bokeh\n",
      "Successfully installed bokeh-3.1.1 xyzservices-2023.5.0\n"
     ]
    },
    {
     "name": "stderr",
     "output_type": "stream",
     "text": [
      "[nltk_data] Downloading package vader_lexicon to\n",
      "[nltk_data]     /home/jovyan/nltk_data...\n",
      "[nltk_data]   Package vader_lexicon is already up-to-date!\n",
      "[nltk_data] Downloading package stopwords to /home/jovyan/nltk_data...\n",
      "[nltk_data]   Package stopwords is already up-to-date!\n"
     ]
    },
    {
     "name": "stdout",
     "output_type": "stream",
     "text": [
      "Requirement already satisfied: pyLDAvis in /home/jovyan/.local/lib/python3.10/site-packages (3.4.1)\n",
      "Requirement already satisfied: scipy in /opt/conda/lib/python3.10/site-packages (from pyLDAvis) (1.10.1)\n",
      "Requirement already satisfied: pandas>=2.0.0 in /home/jovyan/.local/lib/python3.10/site-packages (from pyLDAvis) (2.0.2)\n",
      "Requirement already satisfied: numexpr in /home/jovyan/.local/lib/python3.10/site-packages (from pyLDAvis) (2.8.4)\n",
      "Requirement already satisfied: funcy in /home/jovyan/.local/lib/python3.10/site-packages (from pyLDAvis) (2.0)\n",
      "Requirement already satisfied: setuptools in /opt/conda/lib/python3.10/site-packages (from pyLDAvis) (67.4.0)\n",
      "Requirement already satisfied: joblib>=1.2.0 in /opt/conda/lib/python3.10/site-packages (from pyLDAvis) (1.2.0)\n",
      "Requirement already satisfied: scikit-learn>=1.0.0 in /opt/conda/lib/python3.10/site-packages (from pyLDAvis) (1.2.2)\n",
      "Requirement already satisfied: gensim in /home/jovyan/.local/lib/python3.10/site-packages (from pyLDAvis) (4.3.1)\n",
      "Requirement already satisfied: numpy>=1.24.2 in /opt/conda/lib/python3.10/site-packages (from pyLDAvis) (1.24.2)\n",
      "Requirement already satisfied: jinja2 in /opt/conda/lib/python3.10/site-packages (from pyLDAvis) (3.1.2)\n",
      "Requirement already satisfied: python-dateutil>=2.8.2 in /opt/conda/lib/python3.10/site-packages (from pandas>=2.0.0->pyLDAvis) (2.8.2)\n",
      "Requirement already satisfied: tzdata>=2022.1 in /home/jovyan/.local/lib/python3.10/site-packages (from pandas>=2.0.0->pyLDAvis) (2023.3)\n",
      "Requirement already satisfied: pytz>=2020.1 in /opt/conda/lib/python3.10/site-packages (from pandas>=2.0.0->pyLDAvis) (2022.7.1)\n",
      "Requirement already satisfied: threadpoolctl>=2.0.0 in /opt/conda/lib/python3.10/site-packages (from scikit-learn>=1.0.0->pyLDAvis) (3.1.0)\n",
      "Collecting smart-open>=1.8.1\n",
      "  Using cached smart_open-6.3.0-py3-none-any.whl (56 kB)\n",
      "Requirement already satisfied: MarkupSafe>=2.0 in /opt/conda/lib/python3.10/site-packages (from jinja2->pyLDAvis) (2.1.2)\n",
      "Requirement already satisfied: six>=1.5 in /opt/conda/lib/python3.10/site-packages (from python-dateutil>=2.8.2->pandas>=2.0.0->pyLDAvis) (1.16.0)\n",
      "Installing collected packages: smart-open\n",
      "Successfully installed smart-open-6.3.0\n"
     ]
    }
   ],
   "source": [
    "# Install Neccesary Packages\n",
    "!pip install textblob\n",
    "!pip install nltk \n",
    "!pip install bokeh\n",
    "\n",
    "# Import Necessary Libraries\n",
    "import pandas as pd\n",
    "import re\n",
    "import nltk\n",
    "nltk.download('vader_lexicon')\n",
    "from nltk.sentiment.vader import SentimentIntensityAnalyzer\n",
    "from textblob import TextBlob\n",
    "import matplotlib.pyplot as plt\n",
    "import seaborn as sns\n",
    "\n",
    "from sklearn.feature_extraction.text import CountVectorizer\n",
    "from sklearn.decomposition import LatentDirichletAllocation as LDA\n",
    "from nltk.corpus import stopwords\n",
    "\n",
    "\n",
    "# Downloading and Setting Up the Stopwords Package and Stemmer\n",
    "nltk.download('stopwords')\n",
    "stop_words = set(stopwords.words('english'))\n",
    "from nltk.stem import PorterStemmer\n",
    "stemmer = PorterStemmer()\n",
    "\n",
    "import matplotlib.colors as mcolors\n",
    "import numpy as np\n",
    "from sklearn.manifold import TSNE\n",
    "\n",
    "!pip install pyLDAvis\n",
    "import gensim\n",
    "import pyLDAvis.gensim"
   ]
  },
  {
   "cell_type": "markdown",
   "id": "a4872ee5-9a7c-431e-915e-4617bad79d85",
   "metadata": {
    "tags": []
   },
   "source": [
    "# Introduction"
   ]
  },
  {
   "cell_type": "markdown",
   "id": "68c9a2f0-032e-4d5c-bb9c-91b123a32d3f",
   "metadata": {
    "tags": []
   },
   "source": [
    "Our project focuses on the use of sentiment analysis and natural language processing in order to extract data from tweets regarding the Boston Marathon Bombings and Hurricane Sandy. The datasets observed looks at tweets in the aftermath of the both disasters, some of which are classified as “on topic” and others that are classified as “off-topic”. The “on-topic” tweets refer directly to the bombing or the hurricane while the “off-topic” tweets are about anything else. \n",
    " \n",
    "In order to extrapolate specific types of data from the data set our group used both VaderSentiment and TextBlob which helped create sentiment analysis scores for the various tweets. While both VaderSentiment and TextBlob are repositories that help coders perform sentiment analysis there are a few key differences that create variance within the data. \n",
    "\n",
    "Some of the differences between the two models include sentiment intensity vs. sentiment polarity. VaderSentimet uses a rule-based analysis in order to assign an intensity score (-1 to 1) to a given dataset. In contrast TextBlob uses a few different components like part-of-speech tagging and noun phrase extraction in order to assign a given tweet a polarity score (negative, neutral, or positive). Additionally, VaderSentiment is designed to incorporate other aspects of tweets such as emojis and capitalization which helps the program discern the level of sentiment."
   ]
  },
  {
   "cell_type": "markdown",
   "id": "f2cc8c86-9a5d-4c28-b17b-9440736067fd",
   "metadata": {
    "tags": []
   },
   "source": [
    "# Research Questions"
   ]
  },
  {
   "cell_type": "markdown",
   "id": "f555a7ff-68fa-4c5a-b4f4-bca6d0726cb0",
   "metadata": {
    "tags": []
   },
   "source": [
    "In this project, we will perform sentiment analysis and topic modeling to answer the following questions:\n",
    "- How do Vader and TextBlob differ in creating sentiment scores for on topic tweets in regards to the Boston Marathon Bombings?\n",
    "- How do Vader and TextBlob differ in creating sentiment scores for on-topic tweets about man-made disasters (Boston Marathon Bombing) versus natural disasters (Hurricane Sandy)?\n",
    "- What are the main topic cluster that crop up in the tweets that are ‘on-topic’ in regards to the Boston Marathon Bombings? \n",
    "- How do they compare to the ‘on-topic’ topic clusters in the Hurricane Sandy tweets?"
   ]
  },
  {
   "cell_type": "markdown",
   "id": "851305a7-c792-4876-8000-0724b602e112",
   "metadata": {
    "tags": []
   },
   "source": [
    "# Dataset Description"
   ]
  },
  {
   "cell_type": "markdown",
   "id": "5be2ce09-aae9-49bf-b43f-9e5eccbf241a",
   "metadata": {},
   "source": [
    "The Boston Bombings dataset takes looks at just over 10,000 tweets that are either about the Boston Marathon bombings or about other random topics. The Boston Bombings dataset has 3 columns.\n",
    "\n",
    "- `label` - a string that indicates whether or not the tweet/observation is about the Boston Marathon Bombings , can either be ‘on-topic’ or ‘off-topic’\n",
    "- `tweet id` - a string that gives each observation a unique identifier value\n",
    "- `tweet` - a string that  represents the entire text of each unique tweet\n",
    "\n",
    "Using the describe() function, we can see the the number of values for each column (count), and how many of those values are unique (unique). Additionally, we can see the ‘top’ value, which represents the most common value , and its frequency. For this dataset, there are 10,012 tweet id’s that are all unique and 10,012 total tweets, with 9,226 of those being unique. We see that our “top” id value only has a frequency of one, which is intuitive due to the unique nature of that variable. Our “top” tweet is actually a retweet that shows up 34 times in the dataset, meaning that there is likely an original tweet that was retweeted 34 times. There are only two unique “label” values, either on-topic or off-topic, with the more common label being on-topic with a count of 5,648.\n",
    "\n",
    "The Hurricane Sandy dataset is structured identically to the Boston Bombing dataset, with the same 3 columns. The major difference, of course, is that being “on-topic” now refers to tweets that are directly related to Hurricane Sandy as opposed to the Boston Marathon Bombings. \n",
    "\n",
    "Using the describe() function on the Hurricane Sandy dataframe, we can see that there is nearly an equal number of tweets, with Hurricane Sandy having 10,008 tweets, each with their own unique id. Of the 10,008 tweets, 9,431 are unique with two potential labels, either on or off topic, which is the same as before. Similarly to the Boston Bombing data frame, the \"top\" tweet in this dataset is in the form of a retweet with a frequency of 28, meaning there is a likely an original tweet, and its retweets come up 28 times in this dataset. The more common label in this dataset is on-topic with a count of 6,138."
   ]
  },
  {
   "cell_type": "markdown",
   "id": "ada705f5-1ea0-4b1c-93da-f8a8f2ca7e64",
   "metadata": {
    "tags": []
   },
   "source": [
    "## 2013 Boston Bombing DF"
   ]
  },
  {
   "cell_type": "code",
   "execution_count": 2,
   "id": "f9e7b812-d39f-462d-b618-521e4909f7e5",
   "metadata": {
    "tags": []
   },
   "outputs": [
    {
     "data": {
      "text/html": [
       "<div>\n",
       "<style scoped>\n",
       "    .dataframe tbody tr th:only-of-type {\n",
       "        vertical-align: middle;\n",
       "    }\n",
       "\n",
       "    .dataframe tbody tr th {\n",
       "        vertical-align: top;\n",
       "    }\n",
       "\n",
       "    .dataframe thead th {\n",
       "        text-align: right;\n",
       "    }\n",
       "</style>\n",
       "<table border=\"1\" class=\"dataframe\">\n",
       "  <thead>\n",
       "    <tr style=\"text-align: right;\">\n",
       "      <th></th>\n",
       "      <th>tweet id</th>\n",
       "      <th>tweet</th>\n",
       "      <th>label</th>\n",
       "    </tr>\n",
       "  </thead>\n",
       "  <tbody>\n",
       "    <tr>\n",
       "      <th>count</th>\n",
       "      <td>10012</td>\n",
       "      <td>10012</td>\n",
       "      <td>10012</td>\n",
       "    </tr>\n",
       "    <tr>\n",
       "      <th>unique</th>\n",
       "      <td>10012</td>\n",
       "      <td>9226</td>\n",
       "      <td>2</td>\n",
       "    </tr>\n",
       "    <tr>\n",
       "      <th>top</th>\n",
       "      <td>'325208201740029952'</td>\n",
       "      <td>RT @DannyAmendola: I will DONATE $100 for EVER...</td>\n",
       "      <td>on-topic</td>\n",
       "    </tr>\n",
       "    <tr>\n",
       "      <th>freq</th>\n",
       "      <td>1</td>\n",
       "      <td>34</td>\n",
       "      <td>5648</td>\n",
       "    </tr>\n",
       "  </tbody>\n",
       "</table>\n",
       "</div>"
      ],
      "text/plain": [
       "                    tweet id  \\\n",
       "count                  10012   \n",
       "unique                 10012   \n",
       "top     '325208201740029952'   \n",
       "freq                       1   \n",
       "\n",
       "                                                    tweet     label  \n",
       "count                                               10012     10012  \n",
       "unique                                               9226         2  \n",
       "top     RT @DannyAmendola: I will DONATE $100 for EVER...  on-topic  \n",
       "freq                                                   34      5648  "
      ]
     },
     "execution_count": 2,
     "metadata": {},
     "output_type": "execute_result"
    }
   ],
   "source": [
    "bomb=pd.read_csv(\"2013_Boston_Bombings-ontopic_offtopic.csv\")\n",
    "bomb.describe()"
   ]
  },
  {
   "cell_type": "markdown",
   "id": "3b73d7f6-aeb0-49e8-816f-d739cf722250",
   "metadata": {
    "tags": []
   },
   "source": [
    "## 2012 Sandy Hurricane DF"
   ]
  },
  {
   "cell_type": "code",
   "execution_count": 3,
   "id": "962f598d-545b-4d5f-b568-2822da0e64fa",
   "metadata": {
    "tags": []
   },
   "outputs": [
    {
     "data": {
      "text/html": [
       "<div>\n",
       "<style scoped>\n",
       "    .dataframe tbody tr th:only-of-type {\n",
       "        vertical-align: middle;\n",
       "    }\n",
       "\n",
       "    .dataframe tbody tr th {\n",
       "        vertical-align: top;\n",
       "    }\n",
       "\n",
       "    .dataframe thead th {\n",
       "        text-align: right;\n",
       "    }\n",
       "</style>\n",
       "<table border=\"1\" class=\"dataframe\">\n",
       "  <thead>\n",
       "    <tr style=\"text-align: right;\">\n",
       "      <th></th>\n",
       "      <th>tweet id</th>\n",
       "      <th>tweet</th>\n",
       "      <th>label</th>\n",
       "    </tr>\n",
       "  </thead>\n",
       "  <tbody>\n",
       "    <tr>\n",
       "      <th>count</th>\n",
       "      <td>10008</td>\n",
       "      <td>10008</td>\n",
       "      <td>10008</td>\n",
       "    </tr>\n",
       "    <tr>\n",
       "      <th>unique</th>\n",
       "      <td>10008</td>\n",
       "      <td>9431</td>\n",
       "      <td>2</td>\n",
       "    </tr>\n",
       "    <tr>\n",
       "      <th>top</th>\n",
       "      <td>'262596552399396864'</td>\n",
       "      <td>RT @HurricaneSandyw: FOR EVERY 100 RETWEETS, W...</td>\n",
       "      <td>on-topic</td>\n",
       "    </tr>\n",
       "    <tr>\n",
       "      <th>freq</th>\n",
       "      <td>1</td>\n",
       "      <td>28</td>\n",
       "      <td>6138</td>\n",
       "    </tr>\n",
       "  </tbody>\n",
       "</table>\n",
       "</div>"
      ],
      "text/plain": [
       "                    tweet id  \\\n",
       "count                  10008   \n",
       "unique                 10008   \n",
       "top     '262596552399396864'   \n",
       "freq                       1   \n",
       "\n",
       "                                                    tweet     label  \n",
       "count                                               10008     10008  \n",
       "unique                                               9431         2  \n",
       "top     RT @HurricaneSandyw: FOR EVERY 100 RETWEETS, W...  on-topic  \n",
       "freq                                                   28      6138  "
      ]
     },
     "execution_count": 3,
     "metadata": {},
     "output_type": "execute_result"
    }
   ],
   "source": [
    "sandy=pd.read_csv(\"2012_Sandy_Hurricane-ontopic_offtopic.csv\")\n",
    "sandy.describe()"
   ]
  },
  {
   "cell_type": "markdown",
   "id": "2da1dc92-aeb2-4f27-a77d-6433d25b91ce",
   "metadata": {
    "tags": []
   },
   "source": [
    "# Preprocessing"
   ]
  },
  {
   "cell_type": "markdown",
   "id": "09bcf01e-e4fb-4f93-a6ed-844da7cda835",
   "metadata": {},
   "source": [
    "Before we begin analyzing the data, we first need to clean up our `tweet` column to get rid of any unnecessary information. \n",
    "To do so, we wrote a function called clean_text() that removes URLs, hashtags, mentions, and any unnecessary whitespace from the text to make sure that only the most meaningful aspects of the text are left for analysis. \n",
    "\n",
    "Additionally, our research questions revolve entirely around the on-topic tweets, so we will filter our datasets to include only these tweets to make our analysis easier and more efficient. We will also drop any empty tweets from the dataset."
   ]
  },
  {
   "cell_type": "code",
   "execution_count": 4,
   "id": "422a0f79-bbbf-4623-b59e-8665c29d7310",
   "metadata": {
    "tags": []
   },
   "outputs": [],
   "source": [
    "# text cleaning\n",
    "def clean_text(text):\n",
    "    text = re.sub(r'http\\S+|www\\S+|https\\S+', '', text, flags=re.MULTILINE)  # remove URLs\n",
    "    text = re.sub(r'@\\w+', '', text)  # remove mentions\n",
    "    text = re.sub(r'#', '', text) # remove hashtag\n",
    "    text = re.sub(r'\\s+', ' ', text)  # remove extra spaces\n",
    "    return text.strip()\n",
    "\n",
    "# Apply cleaning to Boston Bombing df:\n",
    "bomb['clean_text'] = bomb.loc[(bomb[' label'] == 'on-topic')][' tweet'].apply(clean_text)\n",
    "bomb=bomb.dropna(subset = ['clean_text'])\n",
    "\n",
    "# Apply cleaning to Hurrican Sandy df:\n",
    "sandy['clean_text'] = sandy.loc[(sandy[' label'] == 'on-topic')][' tweet'].apply(clean_text)\n",
    "sandy=sandy.dropna(subset = ['clean_text'])"
   ]
  },
  {
   "cell_type": "markdown",
   "id": "9b79ce8b-31b5-4b3e-a118-dc0b5ccc6e32",
   "metadata": {
    "tags": []
   },
   "source": [
    "## Boston Bombing processed text:"
   ]
  },
  {
   "cell_type": "code",
   "execution_count": 5,
   "id": "c61a0cea-059f-4caf-8c97-7af87b7df4e8",
   "metadata": {
    "tags": []
   },
   "outputs": [
    {
     "data": {
      "text/plain": [
       "2     This is fucking crazy. Suspect 2 has like 2 ho...\n",
       "5     Back Bay Businesses Large And Small Affected B...\n",
       "9     9000 agents/officers working for 14 hours, so ...\n",
       "17    Tough to grasp what's happening right now in ....\n",
       "19    Thank you to everyone who is keeping our city ...\n",
       "Name: clean_text, dtype: object"
      ]
     },
     "execution_count": 5,
     "metadata": {},
     "output_type": "execute_result"
    }
   ],
   "source": [
    "bomb['clean_text'].head()"
   ]
  },
  {
   "cell_type": "markdown",
   "id": "fdcc0035-3661-40be-879f-bafb45f0de7b",
   "metadata": {
    "tags": []
   },
   "source": [
    "## Hurricane Sandy processed text:"
   ]
  },
  {
   "cell_type": "code",
   "execution_count": 6,
   "id": "88807f27-5c37-4ea0-8114-ab17988d241f",
   "metadata": {
    "tags": []
   },
   "outputs": [
    {
     "data": {
      "text/plain": [
       "1     Sandy be soooo mad that she be shattering our ...\n",
       "5     Neighborly duties. arrives to the rescue sport...\n",
       "7     I don't know how I'm getting back to Jersey si...\n",
       "10              Already flooded so much SANDY @ Hoboken\n",
       "12    On that note, i pray that everyone stays safe,...\n",
       "Name: clean_text, dtype: object"
      ]
     },
     "execution_count": 6,
     "metadata": {},
     "output_type": "execute_result"
    }
   ],
   "source": [
    "sandy['clean_text'].head()"
   ]
  },
  {
   "cell_type": "markdown",
   "id": "5bf42a68-455a-426c-9722-993de158d5c8",
   "metadata": {
    "tags": []
   },
   "source": [
    "# Analysis"
   ]
  },
  {
   "cell_type": "markdown",
   "id": "75c8c039-a816-447b-95de-65df216598df",
   "metadata": {
    "tags": []
   },
   "source": [
    "For our analysis, we chose to use Sentiment Analysis and Topic Modeling. Because we are interesteed in the way people tweet about both man-made and natural disasters, we felt that Sentiment Analysis would be a great way to judge how people use Twitter to either sympathize with our create positivity from these disasters. Additionally, Topic Modeling can help us understand what common themes pop up in tweets about these disasters and help us understand how people react when these events occur.\n",
    "\n",
    "These two methods give us insight to how people communicate in the wake of disasters. Specifically, sentiment analysis gives us in-depth and statistical data to interpret initial public reactions and tones. In combination with topic modeling, which gives us the ability to see which subjects are the most popular, researchers are able to gain a more holistic view of how people communicate using Twitter.\n",
    "\n",
    "In this research project Sentiment Analysis and Topic Modeling lay out the largest and most prevalent topics and sentiments in relation to the Boston Bombing and Hurricane Sandy. Furthermore, we will also observe the differences between TextBlob and Vader in order to see how the programs interpreted data differently."
   ]
  },
  {
   "cell_type": "markdown",
   "id": "d6e048c6-71fb-40a6-9c3e-2fff316c3e1e",
   "metadata": {
    "tags": []
   },
   "source": [
    "# Sentiment Analysis"
   ]
  },
  {
   "cell_type": "markdown",
   "id": "43446707-46b0-45df-bf15-7f42c80c07a4",
   "metadata": {
    "tags": []
   },
   "source": [
    "In order to carry out our Sentiment Analysis, we first had to develop a few functions that we can then apply to our two datasets using both TextBlob and Vader. \n",
    "\n",
    "Our first function `get_sentiment_textblob()` takes in a text value, which will be each tweet in the dataset, and then using the TextBlob package to return a sentiment score label. Any score greater than 0 is 'Positive' sentiment, less than 0 is 'Negative', and equal to 0 is 'Neutral'. Our other TextBlob function, `get_sent_textblob_cont()` takes each tweet and returns the numerical, continuous sentiment score.\n",
    "\n",
    "We also have `get_sentiment_vader()` that works the same way and gives tweets a 'Positive' label to tweets with a score of 0.05 or higher, 'Negative' when the score is less than -0.05, and 'Neutral' if the score is between those two values. Since the Vader library uses more aspects of the tweets, such as capitalizations and emojis, we chose to give the Vader functions a slightly wider range for neutral tweets to account for the larger scope of variables that go into calculating the score.  Similarly to its TextBlob counterpart, `get_sent_vader_cont()` takes each tweet and returns its numerical, continuous sentiment score.\n",
    "\n",
    "Then we apply all four of our functions to each of our two datasets to create dataframes that include each unique tweet and the sentiment scores and labels from each library."
   ]
  },
  {
   "cell_type": "code",
   "execution_count": 7,
   "id": "0e2a1e04-3ccb-4eff-9e26-6a6a812cb5de",
   "metadata": {
    "tags": []
   },
   "outputs": [],
   "source": [
    "# Define a function for sentiment analysis using TextBlob\n",
    "def get_sentiment_textblob(text):\n",
    "    \"\"\"\n",
    "    this function takes text as the input and calculates the sentiment score of this given text.\n",
    "    \"\"\"\n",
    "    sentiment = TextBlob(text).sentiment.polarity\n",
    "    if sentiment > 0:\n",
    "        return \"Positive\"\n",
    "    elif sentiment < 0:\n",
    "        return \"Negative\"\n",
    "    else:\n",
    "        return \"Neutral\"\n",
    "\n",
    "# get continuous textblob sentiment scores\n",
    "def get_sent_textblob_cont(text):\n",
    "    return TextBlob(text).sentiment.polarity\n",
    "\n",
    "# Define a function for sentiment analysis using NLTK's Vader\n",
    "def get_sentiment_vader(text):\n",
    "    sia = SentimentIntensityAnalyzer()\n",
    "    sentiment = sia.polarity_scores(text)\n",
    "    if sentiment['compound'] > 0.05:\n",
    "        return \"Positive\"\n",
    "    elif sentiment['compound'] < -0.05:\n",
    "        return \"Negative\"\n",
    "    else:\n",
    "        return \"Neutral\"\n",
    "    \n",
    "# get continuous vader sentiment scores\n",
    "def get_sent_vader_cont(text):\n",
    "    sia = SentimentIntensityAnalyzer()\n",
    "    return sia.polarity_scores(text)['compound']"
   ]
  },
  {
   "cell_type": "markdown",
   "id": "53b5c79d-be71-4330-99a6-89521cf6f921",
   "metadata": {
    "tags": []
   },
   "source": [
    "## Boston Bombing"
   ]
  },
  {
   "cell_type": "code",
   "execution_count": 8,
   "id": "0f0b601a-9ce3-41f1-865c-2c9513290673",
   "metadata": {
    "tags": []
   },
   "outputs": [
    {
     "data": {
      "text/html": [
       "<div>\n",
       "<style scoped>\n",
       "    .dataframe tbody tr th:only-of-type {\n",
       "        vertical-align: middle;\n",
       "    }\n",
       "\n",
       "    .dataframe tbody tr th {\n",
       "        vertical-align: top;\n",
       "    }\n",
       "\n",
       "    .dataframe thead th {\n",
       "        text-align: right;\n",
       "    }\n",
       "</style>\n",
       "<table border=\"1\" class=\"dataframe\">\n",
       "  <thead>\n",
       "    <tr style=\"text-align: right;\">\n",
       "      <th></th>\n",
       "      <th>clean_text</th>\n",
       "      <th>sentiment_textblob</th>\n",
       "      <th>sent_textblob_cont</th>\n",
       "      <th>sentiment_vader</th>\n",
       "      <th>sent_vader_cont</th>\n",
       "    </tr>\n",
       "  </thead>\n",
       "  <tbody>\n",
       "    <tr>\n",
       "      <th>2</th>\n",
       "      <td>This is fucking crazy. Suspect 2 has like 2 ho...</td>\n",
       "      <td>Negative</td>\n",
       "      <td>-0.600000</td>\n",
       "      <td>Negative</td>\n",
       "      <td>-0.3962</td>\n",
       "    </tr>\n",
       "    <tr>\n",
       "      <th>5</th>\n",
       "      <td>Back Bay Businesses Large And Small Affected B...</td>\n",
       "      <td>Negative</td>\n",
       "      <td>-0.011905</td>\n",
       "      <td>Negative</td>\n",
       "      <td>-0.1531</td>\n",
       "    </tr>\n",
       "    <tr>\n",
       "      <th>9</th>\n",
       "      <td>9000 agents/officers working for 14 hours, so ...</td>\n",
       "      <td>Positive</td>\n",
       "      <td>0.200000</td>\n",
       "      <td>Positive</td>\n",
       "      <td>0.5233</td>\n",
       "    </tr>\n",
       "    <tr>\n",
       "      <th>17</th>\n",
       "      <td>Tough to grasp what's happening right now in ....</td>\n",
       "      <td>Positive</td>\n",
       "      <td>0.132275</td>\n",
       "      <td>Positive</td>\n",
       "      <td>0.8519</td>\n",
       "    </tr>\n",
       "    <tr>\n",
       "      <th>19</th>\n",
       "      <td>Thank you to everyone who is keeping our city ...</td>\n",
       "      <td>Positive</td>\n",
       "      <td>0.500000</td>\n",
       "      <td>Positive</td>\n",
       "      <td>0.8271</td>\n",
       "    </tr>\n",
       "    <tr>\n",
       "      <th>...</th>\n",
       "      <td>...</td>\n",
       "      <td>...</td>\n",
       "      <td>...</td>\n",
       "      <td>...</td>\n",
       "      <td>...</td>\n",
       "    </tr>\n",
       "    <tr>\n",
       "      <th>10007</th>\n",
       "      <td>RT : Boston bombing suspects’ dad says sons we...</td>\n",
       "      <td>Negative</td>\n",
       "      <td>-0.250000</td>\n",
       "      <td>Neutral</td>\n",
       "      <td>0.0000</td>\n",
       "    </tr>\n",
       "    <tr>\n",
       "      <th>10008</th>\n",
       "      <td>Like the boston marathon, on a episode peter h...</td>\n",
       "      <td>Neutral</td>\n",
       "      <td>0.000000</td>\n",
       "      <td>Negative</td>\n",
       "      <td>-0.4939</td>\n",
       "    </tr>\n",
       "    <tr>\n",
       "      <th>10009</th>\n",
       "      <td>RT : MUST WATCH: Bruins fans sing emotional Na...</td>\n",
       "      <td>Negative</td>\n",
       "      <td>-0.050000</td>\n",
       "      <td>Positive</td>\n",
       "      <td>0.1531</td>\n",
       "    </tr>\n",
       "    <tr>\n",
       "      <th>10010</th>\n",
       "      <td>RT : So that Boston bombing was fake just like...</td>\n",
       "      <td>Negative</td>\n",
       "      <td>-0.500000</td>\n",
       "      <td>Negative</td>\n",
       "      <td>-0.1531</td>\n",
       "    </tr>\n",
       "    <tr>\n",
       "      <th>10011</th>\n",
       "      <td>RT : Both FBI and al Qaeda struggling to ident...</td>\n",
       "      <td>Negative</td>\n",
       "      <td>-0.400000</td>\n",
       "      <td>Negative</td>\n",
       "      <td>-0.4215</td>\n",
       "    </tr>\n",
       "  </tbody>\n",
       "</table>\n",
       "<p>5648 rows × 5 columns</p>\n",
       "</div>"
      ],
      "text/plain": [
       "                                              clean_text sentiment_textblob  \\\n",
       "2      This is fucking crazy. Suspect 2 has like 2 ho...           Negative   \n",
       "5      Back Bay Businesses Large And Small Affected B...           Negative   \n",
       "9      9000 agents/officers working for 14 hours, so ...           Positive   \n",
       "17     Tough to grasp what's happening right now in ....           Positive   \n",
       "19     Thank you to everyone who is keeping our city ...           Positive   \n",
       "...                                                  ...                ...   \n",
       "10007  RT : Boston bombing suspects’ dad says sons we...           Negative   \n",
       "10008  Like the boston marathon, on a episode peter h...            Neutral   \n",
       "10009  RT : MUST WATCH: Bruins fans sing emotional Na...           Negative   \n",
       "10010  RT : So that Boston bombing was fake just like...           Negative   \n",
       "10011  RT : Both FBI and al Qaeda struggling to ident...           Negative   \n",
       "\n",
       "       sent_textblob_cont sentiment_vader  sent_vader_cont  \n",
       "2               -0.600000        Negative          -0.3962  \n",
       "5               -0.011905        Negative          -0.1531  \n",
       "9                0.200000        Positive           0.5233  \n",
       "17               0.132275        Positive           0.8519  \n",
       "19               0.500000        Positive           0.8271  \n",
       "...                   ...             ...              ...  \n",
       "10007           -0.250000         Neutral           0.0000  \n",
       "10008            0.000000        Negative          -0.4939  \n",
       "10009           -0.050000        Positive           0.1531  \n",
       "10010           -0.500000        Negative          -0.1531  \n",
       "10011           -0.400000        Negative          -0.4215  \n",
       "\n",
       "[5648 rows x 5 columns]"
      ]
     },
     "execution_count": 8,
     "metadata": {},
     "output_type": "execute_result"
    }
   ],
   "source": [
    "#Apply Sentiment Analysis functions to the Boston Bombings dataset\n",
    "bomb['sentiment_textblob'] = bomb['clean_text'].apply(get_sentiment_textblob)\n",
    "bomb['sent_textblob_cont'] = bomb['clean_text'].apply(get_sent_textblob_cont)\n",
    "bomb['sentiment_vader'] = bomb['clean_text'].apply(get_sentiment_vader)\n",
    "bomb['sent_vader_cont'] = bomb['clean_text'].apply(get_sent_vader_cont)\n",
    "bomb[[\"clean_text\", \"sentiment_textblob\", \"sent_textblob_cont\", \"sentiment_vader\", \"sent_vader_cont\"]]"
   ]
  },
  {
   "cell_type": "markdown",
   "id": "1db197fb-b066-497f-a74c-b05c7c0306ae",
   "metadata": {
    "tags": []
   },
   "source": [
    "## Hurricane Sandy"
   ]
  },
  {
   "cell_type": "code",
   "execution_count": 9,
   "id": "b9b17b80-ea04-4785-8745-28b7f25a5dcd",
   "metadata": {
    "tags": []
   },
   "outputs": [
    {
     "data": {
      "text/html": [
       "<div>\n",
       "<style scoped>\n",
       "    .dataframe tbody tr th:only-of-type {\n",
       "        vertical-align: middle;\n",
       "    }\n",
       "\n",
       "    .dataframe tbody tr th {\n",
       "        vertical-align: top;\n",
       "    }\n",
       "\n",
       "    .dataframe thead th {\n",
       "        text-align: right;\n",
       "    }\n",
       "</style>\n",
       "<table border=\"1\" class=\"dataframe\">\n",
       "  <thead>\n",
       "    <tr style=\"text-align: right;\">\n",
       "      <th></th>\n",
       "      <th>clean_text</th>\n",
       "      <th>sentiment_textblob</th>\n",
       "      <th>sent_textblob_cont</th>\n",
       "      <th>sentiment_vader</th>\n",
       "      <th>sent_vader_cont</th>\n",
       "    </tr>\n",
       "  </thead>\n",
       "  <tbody>\n",
       "    <tr>\n",
       "      <th>1</th>\n",
       "      <td>Sandy be soooo mad that she be shattering our ...</td>\n",
       "      <td>Negative</td>\n",
       "      <td>-0.625000</td>\n",
       "      <td>Negative</td>\n",
       "      <td>-0.4939</td>\n",
       "    </tr>\n",
       "    <tr>\n",
       "      <th>5</th>\n",
       "      <td>Neighborly duties. arrives to the rescue sport...</td>\n",
       "      <td>Neutral</td>\n",
       "      <td>0.000000</td>\n",
       "      <td>Positive</td>\n",
       "      <td>0.5106</td>\n",
       "    </tr>\n",
       "    <tr>\n",
       "      <th>7</th>\n",
       "      <td>I don't know how I'm getting back to Jersey si...</td>\n",
       "      <td>Neutral</td>\n",
       "      <td>0.000000</td>\n",
       "      <td>Neutral</td>\n",
       "      <td>0.0000</td>\n",
       "    </tr>\n",
       "    <tr>\n",
       "      <th>10</th>\n",
       "      <td>Already flooded so much SANDY @ Hoboken</td>\n",
       "      <td>Positive</td>\n",
       "      <td>0.200000</td>\n",
       "      <td>Neutral</td>\n",
       "      <td>0.0000</td>\n",
       "    </tr>\n",
       "    <tr>\n",
       "      <th>12</th>\n",
       "      <td>On that note, i pray that everyone stays safe,...</td>\n",
       "      <td>Positive</td>\n",
       "      <td>0.392045</td>\n",
       "      <td>Positive</td>\n",
       "      <td>0.8439</td>\n",
       "    </tr>\n",
       "    <tr>\n",
       "      <th>...</th>\n",
       "      <td>...</td>\n",
       "      <td>...</td>\n",
       "      <td>...</td>\n",
       "      <td>...</td>\n",
       "      <td>...</td>\n",
       "    </tr>\n",
       "    <tr>\n",
       "      <th>10003</th>\n",
       "      <td>sandy is a weak name for a hurricane</td>\n",
       "      <td>Negative</td>\n",
       "      <td>-0.375000</td>\n",
       "      <td>Negative</td>\n",
       "      <td>-0.4404</td>\n",
       "    </tr>\n",
       "    <tr>\n",
       "      <th>10004</th>\n",
       "      <td>so freaking excited :D and i don't know...i ha...</td>\n",
       "      <td>Positive</td>\n",
       "      <td>0.687500</td>\n",
       "      <td>Positive</td>\n",
       "      <td>0.6975</td>\n",
       "    </tr>\n",
       "    <tr>\n",
       "      <th>10005</th>\n",
       "      <td>RT : I don't find these hurricane jokes funny....</td>\n",
       "      <td>Positive</td>\n",
       "      <td>0.250000</td>\n",
       "      <td>Positive</td>\n",
       "      <td>0.5994</td>\n",
       "    </tr>\n",
       "    <tr>\n",
       "      <th>10006</th>\n",
       "      <td>Best wishes to our friends in the northeast. S...</td>\n",
       "      <td>Positive</td>\n",
       "      <td>0.812500</td>\n",
       "      <td>Positive</td>\n",
       "      <td>0.9020</td>\n",
       "    </tr>\n",
       "    <tr>\n",
       "      <th>10007</th>\n",
       "      <td>UPDATE 7-Threat of Hurricane Sandy grows as it...</td>\n",
       "      <td>Positive</td>\n",
       "      <td>0.200000</td>\n",
       "      <td>Neutral</td>\n",
       "      <td>0.0000</td>\n",
       "    </tr>\n",
       "  </tbody>\n",
       "</table>\n",
       "<p>6138 rows × 5 columns</p>\n",
       "</div>"
      ],
      "text/plain": [
       "                                              clean_text sentiment_textblob  \\\n",
       "1      Sandy be soooo mad that she be shattering our ...           Negative   \n",
       "5      Neighborly duties. arrives to the rescue sport...            Neutral   \n",
       "7      I don't know how I'm getting back to Jersey si...            Neutral   \n",
       "10               Already flooded so much SANDY @ Hoboken           Positive   \n",
       "12     On that note, i pray that everyone stays safe,...           Positive   \n",
       "...                                                  ...                ...   \n",
       "10003               sandy is a weak name for a hurricane           Negative   \n",
       "10004  so freaking excited :D and i don't know...i ha...           Positive   \n",
       "10005  RT : I don't find these hurricane jokes funny....           Positive   \n",
       "10006  Best wishes to our friends in the northeast. S...           Positive   \n",
       "10007  UPDATE 7-Threat of Hurricane Sandy grows as it...           Positive   \n",
       "\n",
       "       sent_textblob_cont sentiment_vader  sent_vader_cont  \n",
       "1               -0.625000        Negative          -0.4939  \n",
       "5                0.000000        Positive           0.5106  \n",
       "7                0.000000         Neutral           0.0000  \n",
       "10               0.200000         Neutral           0.0000  \n",
       "12               0.392045        Positive           0.8439  \n",
       "...                   ...             ...              ...  \n",
       "10003           -0.375000        Negative          -0.4404  \n",
       "10004            0.687500        Positive           0.6975  \n",
       "10005            0.250000        Positive           0.5994  \n",
       "10006            0.812500        Positive           0.9020  \n",
       "10007            0.200000         Neutral           0.0000  \n",
       "\n",
       "[6138 rows x 5 columns]"
      ]
     },
     "execution_count": 9,
     "metadata": {},
     "output_type": "execute_result"
    }
   ],
   "source": [
    "#Applying Sentiment Analysis Functions to Hurricane Sandy Dataset\n",
    "sandy['sentiment_textblob'] = sandy['clean_text'].apply(get_sentiment_textblob)\n",
    "sandy['sent_textblob_cont'] = sandy['clean_text'].apply(get_sent_textblob_cont)\n",
    "sandy['sentiment_vader'] = sandy['clean_text'].apply(get_sentiment_vader)\n",
    "sandy['sent_vader_cont'] = sandy['clean_text'].apply(get_sent_vader_cont)\n",
    "sandy[[\"clean_text\", \"sentiment_textblob\", \"sent_textblob_cont\", \"sentiment_vader\", \"sent_vader_cont\"]]"
   ]
  },
  {
   "cell_type": "markdown",
   "id": "640aab84-7999-4f0c-987d-a7a5689cef6d",
   "metadata": {
    "tags": []
   },
   "source": [
    "## Visualization "
   ]
  },
  {
   "cell_type": "markdown",
   "id": "fee25659-6d8b-4f70-aaa6-fac828286b40",
   "metadata": {},
   "source": [
    "To analyze the difference between Vader and TextBlob in creating sentiment scores, we used bar plots that are color coded to represent the different libraries. TextBlob counts are shown in mediumturquoise, Vader in yellowgreen, and any overlapping counts are shown in green. To create these plots, we used Seaborns countplot() function to create two layers of the plot, one with the continuous scores from the TextBlob functions, and one with the continous scores from Vader. \n",
    "\n",
    "The data reveals that there is a significant difference in the way that each program caluculated the scores. In relation to the Boston Bombings Vader observed significantly more \"Negative\" sentiments than TextBlob. Conversely, TextBlob recorded a much larger sample of \"Neutral\" Tweets. However the two programs recognized a similar amount of tweets with a \"Positive\" Sentiment. \n",
    "\n",
    "For Hurricane Sandy both Vader and TextBlob had significantly less Variane within the data. There was not a notable difference in the detection and sorting of different sentiments. Vader detected a slightly larger amount of \"Positive\" tweets, while TextBlob had more \"Negative\". But both programs had a very similar amount of responses with a \"Neutral\" connotation. The data is much more uniform when compaared to the Boston Bombings. It also indicates that people might be more likely the have similar opinions on Natural Disatsers rather than Man Made Disasters. "
   ]
  },
  {
   "cell_type": "markdown",
   "id": "719e4dc3-6ca9-4779-ab1c-0dc938c1fc1d",
   "metadata": {
    "tags": []
   },
   "source": [
    "### Boston Bombing"
   ]
  },
  {
   "cell_type": "code",
   "execution_count": 10,
   "id": "ce58c4e7-c515-43c3-91e5-c8bfeb6ec465",
   "metadata": {
    "tags": []
   },
   "outputs": [
    {
     "data": {
      "image/png": "[encoded data removed]",
      "text/plain": [
       "<Figure size 1000x500 with 1 Axes>"
      ]
     },
     "metadata": {},
     "output_type": "display_data"
    }
   ],
   "source": [
    "plt.figure(figsize=(10, 5))\n",
    "sns.countplot(x=\"sentiment_textblob\", data= bomb , label=\"TextBlob\", color='mediumturquoise', alpha=0.5)\n",
    "sns.countplot(x=\"sentiment_vader\", data= bomb , label=\"Vader\", color='yellowgreen', alpha=0.5)\n",
    "plt.legend()\n",
    "plt.title('Distribution of Sentiment Scores from TextBlob and Vader: Boston Bombings')\n",
    "plt.show()"
   ]
  },
  {
   "cell_type": "markdown",
   "id": "2b776783-c4bc-482a-a939-64200f7fe3b9",
   "metadata": {
    "tags": []
   },
   "source": [
    "### Hurricane Sandy"
   ]
  },
  {
   "cell_type": "code",
   "execution_count": 11,
   "id": "a67f3067-234b-407f-b2b9-84f85fe2f15a",
   "metadata": {
    "tags": []
   },
   "outputs": [
    {
     "data": {
      "image/png": "[encoded data removed]",
      "text/plain": [
       "<Figure size 1000x500 with 1 Axes>"
      ]
     },
     "metadata": {},
     "output_type": "display_data"
    }
   ],
   "source": [
    "plt.figure(figsize=(10, 5))\n",
    "sns.countplot(x=\"sentiment_textblob\", data=sandy, label=\"TextBlob\", color='mediumturquoise', alpha=0.5)\n",
    "sns.countplot(x=\"sentiment_vader\", data=sandy , label=\"Vader\", color='yellowgreen', alpha=0.5)\n",
    "plt.legend()\n",
    "plt.title('Distribution of Sentiment Scores from TextBlob and Vader: Hurricane Sandy')\n",
    "plt.show()"
   ]
  },
  {
   "cell_type": "markdown",
   "id": "f8ea61b7-b558-4ae5-b424-19153ea558e4",
   "metadata": {
    "tags": []
   },
   "source": [
    "# Topic Modeling"
   ]
  },
  {
   "attachments": {},
   "cell_type": "markdown",
   "id": "ed10a9d1-7b5d-44d8-87ae-e11ab7a739a9",
   "metadata": {},
   "source": [
    "Topic modeling is part of a larger group of algorithms known as 'unsupervised learning'. 'Unsupervised' because we don't provide the algorithm with predefined labels, it finds structure on its own, and 'learning' because it gets better and better as it processes more data. In order for us to execute Topic Modeling, we had to apply a few functions that will allow us to look at the ‘unsupervised learning’ aspect of Topic Modeling. ‘Unsupervised’ because we don’t provide the algorithm with predefined labels as it finds structure on its own, and ‘learning’ also because it gets better and better as it processes more data. Using the nltk, we are able to identify the larger theme of the tweets surrounding the Boston Bombing and Hurricane Sandy events. \n",
    "\t\n",
    "First, we cleaned the text in both datasets. Then, used we constructed a topic model by tweaking the two parameters and using the functions ‘number_topics = 5’ and ‘number_words = 10’. Then created and fit the LDA model with a fixed random state to prevent changes with every update by creating ‘lda = LDA(n_components=number_topics, n_jobs=-1’ and ‘lda.fit(count_data)’.\n",
    "\t\n",
    "In order to view the topics, we created the function ‘def print_topics’, which includes the model, count_vectorizer, and the number_words. We then used bokeh to graph a topic cluster of the five most talked about things from the events from both the Boston Bombing and Sandy Hurricane events. Because we have two different datasets, it’s important to note that we had to differentiate the code by using _boom and _nature in order to create two different visuals that weren’t the same. By using pylDAvis we were able to see the results of what words were showing up repeatedly in all the tweets about the two separate events."
   ]
  },
  {
   "cell_type": "markdown",
   "id": "f40a7e6c-dae2-4124-bb0d-1113df530339",
   "metadata": {
    "tags": []
   },
   "source": [
    "## Boston Bombing"
   ]
  },
  {
   "cell_type": "code",
   "execution_count": 13,
   "id": "e5d3835c-af15-46f6-911a-6fa76cd399d0",
   "metadata": {
    "tags": []
   },
   "outputs": [
    {
     "name": "stdout",
     "output_type": "stream",
     "text": [
      "\n",
      "Topic #1:\n",
      "boston rt marathon bombing bomb suspect breaking suspects explosions news\n",
      "\n",
      "Topic #2:\n",
      "boston rt prayforboston marathon old died explosions year people running\n",
      "\n",
      "Topic #3:\n",
      "boston rt marathon suspects bombing fbi bombings prayforboston thoughts bostonmarathon\n",
      "\n",
      "Topic #4:\n",
      "boston rt suspect bombing marathon police bostonmarathon dead bomb suspects\n",
      "\n",
      "Topic #5:\n",
      "boston rt bombing explosion bostonmarathon obama texas prayforboston martin right\n"
     ]
    }
   ],
   "source": [
    "# Initialize CountVectorizer\n",
    "count_vectorizer = CountVectorizer(stop_words='english')\n",
    "\n",
    "# We will only use the 'text_cleaned' column for our analysis\n",
    "boom = bomb['clean_text']\n",
    "\n",
    "# Fit and transform the processed titles\n",
    "count_data_boom = count_vectorizer.fit_transform(boom)\n",
    "\n",
    "# Tweak the two parameters below (use int values below 15)\n",
    "number_topics = 5\n",
    "number_words = 10\n",
    "\n",
    "# Create and fit the LDA model with a fixed random state to prevent changes with every update\n",
    "lda_model = LDA(n_components=number_topics, n_jobs=-1, random_state=5)\n",
    "lda_model.fit(count_data_boom)\n",
    "\n",
    "def print_topics(model, count_vectorizer, n_top_words):\n",
    "    words = count_vectorizer.get_feature_names_out()\n",
    "    topic_word_distributions = model.components_\n",
    "    for topic_idx, topic in enumerate(topic_word_distributions):\n",
    "        print(\"\\nTopic #%d:\" % (topic_idx + 1))\n",
    "        print(\" \".join([words[i]\n",
    "                        for i in topic.argsort()[:-n_top_words - 1:-1]]))\n",
    "\n",
    "print_topics(lda_model, count_vectorizer, number_words)"
   ]
  },
  {
   "cell_type": "markdown",
   "id": "c9dc41c9-5da1-4984-b87f-67bb06a56d2c",
   "metadata": {
    "tags": []
   },
   "source": [
    "\n",
    "\n",
    "The data reveals that the top 5 Subjects in the Bosston Bombings are: \n",
    "\n",
    "Topic #1:\n",
    "boston rt marathon bombing bomb suspect breaking suspects explosions news\n",
    "\n",
    "- This topic surrounds the initial breaking news of the Boston Bombing. \n",
    "- It surrounds the actual events and actions of the day. \n",
    "- Terms like \"breaking\", \"explosions\", and \"news\" indicate that this event had just \n",
    "occured. \n",
    "\n",
    "\n",
    "Topic #2:\n",
    "boston rt prayforboston marathon old died explosions year people running\n",
    "\n",
    "- This topic surrounds some of the shock and sympathy in the aftermath of the attack. \n",
    "- Users shared their thoughts and prayers through the use of terms like \"#prayforboston\", \"died\", and \"people\".\n",
    "\n",
    "\n",
    "Topic #3:\n",
    "boston rt marathon suspects bombing fbi bombings prayforboston thoughts bostonmarathon\n",
    "\n",
    "- This topic looks at the actual events following the Bombing. \n",
    "- They indicate that the public was sharing information in relation to the initial response to the attack. \n",
    "- Terms like, \"suspects\", \"fbi\", and \"bombing\" demonstrate that the public discourse surrounded justice and resolution. \n",
    "\n",
    "\n",
    "Topic #4:\n",
    "boston rt suspect bombing marathon police bostonmarathon dead bomb suspects\n",
    "\n",
    "- This topic is specifically focussed on the response of law enforcement. \n",
    "- It relates to how the FBI and Boston PD were attempting to locate the extremists. \n",
    "- Terms such as \"suspect\", \"police\", and \"suspects\" demonstrate this.\n",
    "\n",
    "\n",
    "Topic #5:\n",
    "boston rt bombing explosion bostonmarathon obama texas prayforboston martin right\n",
    "\n",
    "- This topic surrounds the political response in the aftermath of the Boston Bombing. \n",
    "- It references aspects of politics through terms like \"Obama\" and \"right\".\n",
    "\n"
   ]
  },
  {
   "cell_type": "markdown",
   "id": "22a895b0-6e92-47c6-8b4c-4c2fbb77fa7f",
   "metadata": {},
   "source": [
    "### Visualization"
   ]
  },
  {
   "cell_type": "code",
   "execution_count": 15,
   "id": "fec78e31-7fa3-436c-b635-22865132bb52",
   "metadata": {
    "tags": []
   },
   "outputs": [
    {
     "name": "stdout",
     "output_type": "stream",
     "text": [
      "[t-SNE] Computing 91 nearest neighbors...\n",
      "[t-SNE] Indexed 5632 samples in 0.003s...\n",
      "[t-SNE] Computed neighbors for 5632 samples in 0.211s...\n",
      "[t-SNE] Computed conditional probabilities for sample 1000 / 5632\n",
      "[t-SNE] Computed conditional probabilities for sample 2000 / 5632\n",
      "[t-SNE] Computed conditional probabilities for sample 3000 / 5632\n",
      "[t-SNE] Computed conditional probabilities for sample 4000 / 5632\n",
      "[t-SNE] Computed conditional probabilities for sample 5000 / 5632\n",
      "[t-SNE] Computed conditional probabilities for sample 5632 / 5632\n",
      "[t-SNE] Mean sigma: 0.000000\n",
      "[t-SNE] KL divergence after 250 iterations with early exaggeration: 55.625057\n",
      "[t-SNE] KL divergence after 1000 iterations: 0.382354\n"
     ]
    },
    {
     "data": {
      "text/html": [
       "<style>\n",
       "        .bk-notebook-logo {\n",
       "            display: block;\n",
       "            width: 20px;\n",
       "            height: 20px;\n",
       "            background-image: url(data:image/png;base64,iVBORw0KGgoAAAANSUhEUgAAABQAAAAUCAYAAACNiR0NAAAABHNCSVQICAgIfAhkiAAAAAlwSFlzAAALEgAACxIB0t1+/AAAABx0RVh0U29mdHdhcmUAQWRvYmUgRmlyZXdvcmtzIENTNui8sowAAAOkSURBVDiNjZRtaJVlGMd/1/08zzln5zjP1LWcU9N0NkN8m2CYjpgQYQXqSs0I84OLIC0hkEKoPtiH3gmKoiJDU7QpLgoLjLIQCpEsNJ1vqUOdO7ppbuec5+V+rj4ctwzd8IIbbi6u+8f1539dt3A78eXC7QizUF7gyV1fD1Yqg4JWz84yffhm0qkFqBogB9rM8tZdtwVsPUhWhGcFJngGeWrPzHm5oaMmkfEg1usvLFyc8jLRqDOMru7AyC8saQr7GG7f5fvDeH7Ej8CM66nIF+8yngt6HWaKh7k49Soy9nXurCi1o3qUbS3zWfrYeQDTB/Qj6kX6Ybhw4B+bOYoLKCC9H3Nu/leUTZ1JdRWkkn2ldcCamzrcf47KKXdAJllSlxAOkRgyHsGC/zRday5Qld9DyoM4/q/rUoy/CXh3jzOu3bHUVZeU+DEn8FInkPBFlu3+nW3Nw0mk6vCDiWg8CeJaxEwuHS3+z5RgY+YBR6V1Z1nxSOfoaPa4LASWxxdNp+VWTk7+4vzaou8v8PN+xo+KY2xsw6une2frhw05CTYOmQvsEhjhWjn0bmXPjpE1+kplmmkP3suftwTubK9Vq22qKmrBhpY4jvd5afdRA3wGjFAgcnTK2s4hY0/GPNIb0nErGMCRxWOOX64Z8RAC4oCXdklmEvcL8o0BfkNK4lUg9HTl+oPlQxdNo3Mg4Nv175e/1LDGzZen30MEjRUtmXSfiTVu1kK8W4txyV6BMKlbgk3lMwYCiusNy9fVfvvwMxv8Ynl6vxoByANLTWplvuj/nF9m2+PDtt1eiHPBr1oIfhCChQMBw6Aw0UulqTKZdfVvfG7VcfIqLG9bcldL/+pdWTLxLUy8Qq38heUIjh4XlzZxzQm19lLFlr8vdQ97rjZVOLf8nclzckbcD4wxXMidpX30sFd37Fv/GtwwhzhxGVAprjbg0gCAEeIgwCZyTV2Z1REEW8O4py0wsjeloKoMr6iCY6dP92H6Vw/oTyICIthibxjm/DfN9lVz8IqtqKYLUXfoKVMVQVVJOElGjrnnUt9T9wbgp8AyYKaGlqingHZU/uG2NTZSVqwHQTWkx9hxjkpWDaCg6Ckj5qebgBVbT3V3NNXMSiWSDdGV3hrtzla7J+duwPOToIg42ChPQOQjspnSlp1V+Gjdged7+8UN5CRAV7a5EdFNwCjEaBR27b3W890TE7g24NAP/mMDXRWrGoFPQI9ls/MWO2dWFAar/xcOIImbbpA3zgAAAABJRU5ErkJggg==);\n",
       "        }\n",
       "    </style>\n",
       "    <div>\n",
       "        <a href=\"https://bokeh.org\" target=\"_blank\" class=\"bk-notebook-logo\"></a>\n",
       "        <span id=\"f1e5b230-2229-4909-9b75-5eeedbbcc9a6\">Loading BokehJS ...</span>\n",
       "    </div>\n"
      ]
     },
     "metadata": {},
     "output_type": "display_data"
    },
    {
     "data": {
      "application/javascript": "(function(root) {\n  function now() {\n    return new Date();\n  }\n\n  const force = true;\n\n  if (typeof root._bokeh_onload_callbacks === \"undefined\" || force === true) {\n    root._bokeh_onload_callbacks = [];\n    root._bokeh_is_loading = undefined;\n  }\n\nconst JS_MIME_TYPE = 'application/javascript';\n  const HTML_MIME_TYPE = 'text/html';\n  const EXEC_MIME_TYPE = 'application/vnd.bokehjs_exec.v0+json';\n  const CLASS_NAME = 'output_bokeh rendered_html';\n\n  /**\n   * Render data to the DOM node\n   */\n  function render(props, node) {\n    const script = document.createElement(\"script\");\n    node.appendChild(script);\n  }\n\n  /**\n   * Handle when an output is cleared or removed\n   */\n  function handleClearOutput(event, handle) {\n    const cell = handle.cell;\n\n    const id = cell.output_area._bokeh_element_id;\n    const server_id = cell.output_area._bokeh_server_id;\n    // Clean up Bokeh references\n    if (id != null && id in Bokeh.index) {\n      Bokeh.index[id].model.document.clear();\n      delete Bokeh.index[id];\n    }\n\n    if (server_id !== undefined) {\n      // Clean up Bokeh references\n      const cmd_clean = \"from bokeh.io.state import curstate; print(curstate().uuid_to_server['\" + server_id + \"'].get_sessions()[0].document.roots[0]._id)\";\n      cell.notebook.kernel.execute(cmd_clean, {\n        iopub: {\n          output: function(msg) {\n            const id = msg.content.text.trim();\n            if (id in Bokeh.index) {\n              Bokeh.index[id].model.document.clear();\n              delete Bokeh.index[id];\n            }\n          }\n        }\n      });\n      // Destroy server and session\n      const cmd_destroy = \"import bokeh.io.notebook as ion; ion.destroy_server('\" + server_id + \"')\";\n      cell.notebook.kernel.execute(cmd_destroy);\n    }\n  }\n\n  /**\n   * Handle when a new output is added\n   */\n  function handleAddOutput(event, handle) {\n    const output_area = handle.output_area;\n    const output = handle.output;\n\n    // limit handleAddOutput to display_data with EXEC_MIME_TYPE content only\n    if ((output.output_type != \"display_data\") || (!Object.prototype.hasOwnProperty.call(output.data, EXEC_MIME_TYPE))) {\n      return\n    }\n\n    const toinsert = output_area.element.find(\".\" + CLASS_NAME.split(' ')[0]);\n\n    if (output.metadata[EXEC_MIME_TYPE][\"id\"] !== undefined) {\n      toinsert[toinsert.length - 1].firstChild.textContent = output.data[JS_MIME_TYPE];\n      // store reference to embed id on output_area\n      output_area._bokeh_element_id = output.metadata[EXEC_MIME_TYPE][\"id\"];\n    }\n    if (output.metadata[EXEC_MIME_TYPE][\"server_id\"] !== undefined) {\n      const bk_div = document.createElement(\"div\");\n      bk_div.innerHTML = output.data[HTML_MIME_TYPE];\n      const script_attrs = bk_div.children[0].attributes;\n      for (let i = 0; i < script_attrs.length; i++) {\n        toinsert[toinsert.length - 1].firstChild.setAttribute(script_attrs[i].name, script_attrs[i].value);\n        toinsert[toinsert.length - 1].firstChild.textContent = bk_div.children[0].textContent\n      }\n      // store reference to server id on output_area\n      output_area._bokeh_server_id = output.metadata[EXEC_MIME_TYPE][\"server_id\"];\n    }\n  }\n\n  function register_renderer(events, OutputArea) {\n\n    function append_mime(data, metadata, element) {\n      // create a DOM node to render to\n      const toinsert = this.create_output_subarea(\n        metadata,\n        CLASS_NAME,\n        EXEC_MIME_TYPE\n      );\n      this.keyboard_manager.register_events(toinsert);\n      // Render to node\n      const props = {data: data, metadata: metadata[EXEC_MIME_TYPE]};\n      render(props, toinsert[toinsert.length - 1]);\n      element.append(toinsert);\n      return toinsert\n    }\n\n    /* Handle when an output is cleared or removed */\n    events.on('clear_output.CodeCell', handleClearOutput);\n    events.on('delete.Cell', handleClearOutput);\n\n    /* Handle when a new output is added */\n    events.on('output_added.OutputArea', handleAddOutput);\n\n    /**\n     * Register the mime type and append_mime function with output_area\n     */\n    OutputArea.prototype.register_mime_type(EXEC_MIME_TYPE, append_mime, {\n      /* Is output safe? */\n      safe: true,\n      /* Index of renderer in `output_area.display_order` */\n      index: 0\n    });\n  }\n\n  // register the mime type if in Jupyter Notebook environment and previously unregistered\n  if (root.Jupyter !== undefined) {\n    const events = require('base/js/events');\n    const OutputArea = require('notebook/js/outputarea').OutputArea;\n\n    if (OutputArea.prototype.mime_types().indexOf(EXEC_MIME_TYPE) == -1) {\n      register_renderer(events, OutputArea);\n    }\n  }\n  if (typeof (root._bokeh_timeout) === \"undefined\" || force === true) {\n    root._bokeh_timeout = Date.now() + 5000;\n    root._bokeh_failed_load = false;\n  }\n\n  const NB_LOAD_WARNING = {'data': {'text/html':\n     \"<div style='background-color: #fdd'>\\n\"+\n     \"<p>\\n\"+\n     \"BokehJS does not appear to have successfully loaded. If loading BokehJS from CDN, this \\n\"+\n     \"may be due to a slow or bad network connection. Possible fixes:\\n\"+\n     \"</p>\\n\"+\n     \"<ul>\\n\"+\n     \"<li>re-rerun `output_notebook()` to attempt to load from CDN again, or</li>\\n\"+\n     \"<li>use INLINE resources instead, as so:</li>\\n\"+\n     \"</ul>\\n\"+\n     \"<code>\\n\"+\n     \"from bokeh.resources import INLINE\\n\"+\n     \"output_notebook(resources=INLINE)\\n\"+\n     \"</code>\\n\"+\n     \"</div>\"}};\n\n  function display_loaded() {\n    const el = document.getElementById(\"f1e5b230-2229-4909-9b75-5eeedbbcc9a6\");\n    if (el != null) {\n      el.textContent = \"BokehJS is loading...\";\n    }\n    if (root.Bokeh !== undefined) {\n      if (el != null) {\n        el.textContent = \"BokehJS \" + root.Bokeh.version + \" successfully loaded.\";\n      }\n    } else if (Date.now() < root._bokeh_timeout) {\n      setTimeout(display_loaded, 100)\n    }\n  }\n\n  function run_callbacks() {\n    try {\n      root._bokeh_onload_callbacks.forEach(function(callback) {\n        if (callback != null)\n          callback();\n      });\n    } finally {\n      delete root._bokeh_onload_callbacks\n    }\n    console.debug(\"Bokeh: all callbacks have finished\");\n  }\n\n  function load_libs(css_urls, js_urls, callback) {\n    if (css_urls == null) css_urls = [];\n    if (js_urls == null) js_urls = [];\n\n    root._bokeh_onload_callbacks.push(callback);\n    if (root._bokeh_is_loading > 0) {\n      console.debug(\"Bokeh: BokehJS is being loaded, scheduling callback at\", now());\n      return null;\n    }\n    if (js_urls == null || js_urls.length === 0) {\n      run_callbacks();\n      return null;\n    }\n    console.debug(\"Bokeh: BokehJS not loaded, scheduling load and callback at\", now());\n    root._bokeh_is_loading = css_urls.length + js_urls.length;\n\n    function on_load() {\n      root._bokeh_is_loading--;\n      if (root._bokeh_is_loading === 0) {\n        console.debug(\"Bokeh: all BokehJS libraries/stylesheets loaded\");\n        run_callbacks()\n      }\n    }\n\n    function on_error(url) {\n      console.error(\"failed to load \" + url);\n    }\n\n    for (let i = 0; i < css_urls.length; i++) {\n      const url = css_urls[i];\n      const element = document.createElement(\"link\");\n      element.onload = on_load;\n      element.onerror = on_error.bind(null, url);\n      element.rel = \"stylesheet\";\n      element.type = \"text/css\";\n      element.href = url;\n      console.debug(\"Bokeh: injecting link tag for BokehJS stylesheet: \", url);\n      document.body.appendChild(element);\n    }\n\n    for (let i = 0; i < js_urls.length; i++) {\n      const url = js_urls[i];\n      const element = document.createElement('script');\n      element.onload = on_load;\n      element.onerror = on_error.bind(null, url);\n      element.async = false;\n      element.src = url;\n      console.debug(\"Bokeh: injecting script tag for BokehJS library: \", url);\n      document.head.appendChild(element);\n    }\n  };\n\n  function inject_raw_css(css) {\n    const element = document.createElement(\"style\");\n    element.appendChild(document.createTextNode(css));\n    document.body.appendChild(element);\n  }\n\n  const js_urls = [\"https://cdn.bokeh.org/bokeh/release/bokeh-3.1.1.min.js\", \"https://cdn.bokeh.org/bokeh/release/bokeh-gl-3.1.1.min.js\", \"https://cdn.bokeh.org/bokeh/release/bokeh-widgets-3.1.1.min.js\", \"https://cdn.bokeh.org/bokeh/release/bokeh-tables-3.1.1.min.js\", \"https://cdn.bokeh.org/bokeh/release/bokeh-mathjax-3.1.1.min.js\"];\n  const css_urls = [];\n\n  const inline_js = [    function(Bokeh) {\n      Bokeh.set_log_level(\"info\");\n    },\nfunction(Bokeh) {\n    }\n  ];\n\n  function run_inline_js() {\n    if (root.Bokeh !== undefined || force === true) {\n          for (let i = 0; i < inline_js.length; i++) {\n      inline_js[i].call(root, root.Bokeh);\n    }\nif (force === true) {\n        display_loaded();\n      }} else if (Date.now() < root._bokeh_timeout) {\n      setTimeout(run_inline_js, 100);\n    } else if (!root._bokeh_failed_load) {\n      console.log(\"Bokeh: BokehJS failed to load within specified timeout.\");\n      root._bokeh_failed_load = true;\n    } else if (force !== true) {\n      const cell = $(document.getElementById(\"f1e5b230-2229-4909-9b75-5eeedbbcc9a6\")).parents('.cell').data().cell;\n      cell.output_area.append_execute_result(NB_LOAD_WARNING)\n    }\n  }\n\n  if (root._bokeh_is_loading === 0) {\n    console.debug(\"Bokeh: BokehJS loaded, going straight to plotting\");\n    run_inline_js();\n  } else {\n    load_libs(css_urls, js_urls, function() {\n      console.debug(\"Bokeh: BokehJS plotting callback run at\", now());\n      run_inline_js();\n    });\n  }\n}(window));",
      "application/vnd.bokehjs_load.v0+json": ""
     },
     "metadata": {},
     "output_type": "display_data"
    },
    {
     "data": {
      "text/html": [
       "\n",
       "  <div id=\"f9b489f1-84db-4966-a1f3-fa3e530c1b20\" data-root-id=\"p1307\" style=\"display: contents;\"></div>\n"
      ]
     },
     "metadata": {},
     "output_type": "display_data"
    },
    {
     "data": {
      "application/javascript": "(function(root) {\n  function embed_document(root) {\n  const docs_json = {\"6f2923d9-c566-4f13-856e-503411585431\":{\"version\":\"3.1.1\",\"title\":\"Bokeh Application\",\"defs\":[],\"roots\":[{\"type\":\"object\",\"name\":\"Figure\",\"id\":\"p1307\",\"attributes\":{\"width\":900,\"height\":700,\"x_range\":{\"type\":\"object\",\"name\":\"DataRange1d\",\"id\":\"p1309\"},\"y_range\":{\"type\":\"object\",\"name\":\"DataRange1d\",\"id\":\"p1308\"},\"x_scale\":{\"type\":\"object\",\"name\":\"LinearScale\",\"id\":\"p1321\"},\"y_scale\":{\"type\":\"object\",\"name\":\"LinearScale\",\"id\":\"p1323\"},\"title\":{\"type\":\"object\",\"name\":\"Title\",\"id\":\"p1310\",\"attributes\":{\"text\":\"Clustering of Top 10 Boston Bombing Topics\"}},\"renderers\":[{\"type\":\"object\",\"name\":\"GlyphRenderer\",\"id\":\"p1360\",\"attributes\":{\"data_source\":{\"type\":\"object\",\"name\":\"ColumnDataSource\",\"id\":\"p1354\",\"attributes\":{\"selected\":{\"type\":\"object\",\"name\":\"Selection\",\"id\":\"p1356\",\"attributes\":{\"indices\":[],\"line_indices\":[]}},\"selection_policy\":{\"type\":\"object\",\"name\":\"UnionRenderers\",\"id\":\"p1355\"},\"data\":{\"type\":\"map\",\"entries\":[[\"x\",{\"type\":\"ndarray\",\"array\":{\"type\":\"bytes\",\"data\":\"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\"},\"shape\":[1499],\"dtype\":\"float32\",\"order\":\"little\"}],[\"y\",{\"type\":\"ndarray\",\"array\":{\"type\":\"bytes\",\"data\":\"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\"},\"shape\":[1499],\"dtype\":\"float32\",\"order\":\"little\"}]]}}},\"view\":{\"type\":\"object\",\"name\":\"CDSView\",\"id\":\"p1361\",\"attributes\":{\"filter\":{\"type\":\"object\",\"name\":\"AllIndices\",\"id\":\"p1362\"}}},\"glyph\":{\"type\":\"object\",\"name\":\"Scatter\",\"id\":\"p1357\",\"attributes\":{\"x\":{\"type\":\"field\",\"field\":\"x\"},\"y\":{\"type\":\"field\",\"field\":\"y\"},\"line_color\":{\"type\":\"value\",\"value\":\"#1f77b4\"},\"fill_color\":{\"type\":\"value\",\"value\":\"#1f77b4\"},\"hatch_color\":{\"type\":\"value\",\"value\":\"#1f77b4\"}}},\"nonselection_glyph\":{\"type\":\"object\",\"name\":\"Scatter\",\"id\":\"p1358\",\"attributes\":{\"x\":{\"type\":\"field\",\"field\":\"x\"},\"y\":{\"type\":\"field\",\"field\":\"y\"},\"line_color\":{\"type\":\"value\",\"value\":\"#1f77b4\"},\"line_alpha\":{\"type\":\"value\",\"value\":0.1},\"fill_color\":{\"type\":\"value\",\"value\":\"#1f77b4\"},\"fill_alpha\":{\"type\":\"value\",\"value\":0.1},\"hatch_color\":{\"type\":\"value\",\"value\":\"#1f77b4\"},\"hatch_alpha\":{\"type\":\"value\",\"value\":0.1}}},\"muted_glyph\":{\"type\":\"object\",\"name\":\"Scatter\",\"id\":\"p1359\",\"attributes\":{\"x\":{\"type\":\"field\",\"field\":\"x\"},\"y\":{\"type\":\"field\",\"field\":\"y\"},\"line_color\":{\"type\":\"value\",\"value\":\"#1f77b4\"},\"line_alpha\":{\"type\":\"value\",\"value\":0.2},\"fill_color\":{\"type\":\"value\",\"value\":\"#1f77b4\"},\"fill_alpha\":{\"type\":\"value\",\"value\":0.2},\"hatch_color\":{\"type\":\"value\",\"value\":\"#1f77b4\"},\"hatch_alpha\":{\"type\":\"value\",\"value\":0.2}}}}},{\"type\":\"object\",\"name\":\"GlyphRenderer\",\"id\":\"p1369\",\"attributes\":{\"data_source\":{\"type\":\"object\",\"name\":\"ColumnDataSource\",\"id\":\"p1363\",\"attributes\":{\"selected\":{\"type\":\"object\",\"name\":\"Selection\",\"id\":\"p1365\",\"attributes\":{\"indices\":[],\"line_indices\":[]}},\"selection_policy\":{\"type\":\"object\",\"name\":\"UnionRenderers\",\"id\":\"p1364\"},\"data\":{\"type\":\"map\",\"entries\":[[\"x\",{\"type\":\"ndarray\",\"array\":{\"type\":\"bytes\",\"data\":\"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\"},\"shape\":[1649],\"dtype\":\"float32\",\"order\":\"little\"}],[\"y\",{\"type\":\"ndarray\",\"array\":{\"type\":\"bytes\",\"data\":\"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\"},\"shape\":[1649],\"dtype\":\"float32\",\"order\":\"little\"}]]}}},\"view\":{\"type\":\"object\",\"name\":\"CDSView\",\"id\":\"p1370\",\"attributes\":{\"filter\":{\"type\":\"object\",\"name\":\"AllIndices\",\"id\":\"p1371\"}}},\"glyph\":{\"type\":\"object\",\"name\":\"Scatter\",\"id\":\"p1366\",\"attributes\":{\"x\":{\"type\":\"field\",\"field\":\"x\"},\"y\":{\"type\":\"field\",\"field\":\"y\"},\"line_color\":{\"type\":\"value\",\"value\":\"#ff7f0e\"},\"fill_color\":{\"type\":\"value\",\"value\":\"#ff7f0e\"},\"hatch_color\":{\"type\":\"value\",\"value\":\"#ff7f0e\"}}},\"nonselection_glyph\":{\"type\":\"object\",\"name\":\"Scatter\",\"id\":\"p1367\",\"attributes\":{\"x\":{\"type\":\"field\",\"field\":\"x\"},\"y\":{\"type\":\"field\",\"field\":\"y\"},\"line_color\":{\"type\":\"value\",\"value\":\"#ff7f0e\"},\"line_alpha\":{\"type\":\"value\",\"value\":0.1},\"fill_color\":{\"type\":\"value\",\"value\":\"#ff7f0e\"},\"fill_alpha\":{\"type\":\"value\",\"value\":0.1},\"hatch_color\":{\"type\":\"value\",\"value\":\"#ff7f0e\"},\"hatch_alpha\":{\"type\":\"value\",\"value\":0.1}}},\"muted_glyph\":{\"type\":\"object\",\"name\":\"Scatter\",\"id\":\"p1368\",\"attributes\":{\"x\":{\"type\":\"field\",\"field\":\"x\"},\"y\":{\"type\":\"field\",\"field\":\"y\"},\"line_color\":{\"type\":\"value\",\"value\":\"#ff7f0e\"},\"line_alpha\":{\"type\":\"value\",\"value\":0.2},\"fill_color\":{\"type\":\"value\",\"value\":\"#ff7f0e\"},\"fill_alpha\":{\"type\":\"value\",\"value\":0.2},\"hatch_color\":{\"type\":\"value\",\"value\":\"#ff7f0e\"},\"hatch_alpha\":{\"type\":\"value\",\"value\":0.2}}}}},{\"type\":\"object\",\"name\":\"GlyphRenderer\",\"id\":\"p1378\",\"attributes\":{\"data_source\":{\"type\":\"object\",\"name\":\"ColumnDataSource\",\"id\":\"p1372\",\"attributes\":{\"selected\":{\"type\":\"object\",\"name\":\"Selection\",\"id\":\"p1374\",\"attributes\":{\"indices\":[],\"line_indices\":[]}},\"selection_policy\":{\"type\":\"object\",\"name\":\"UnionRenderers\",\"id\":\"p1373\"},\"data\":{\"type\":\"map\",\"entries\":[[\"x\",{\"type\":\"ndarray\",\"array\":{\"type\":\"bytes\",\"data\":\"qWSKQC+PoUFcugDCa6r2QK4G4UDPMpRAszWiQVpbzUDhjbvBG5iQQVU7hUEh0brBS9gSQfyWDsKNmDrCH78QwtgGokFTu49BvmauQTbZtMHYe55BZhDzwcD7EMIz8HXBksSgwUvDCsKeso9By5xQQcPf70CNjo9Be2YlwlAPZEGtOn5Bg+P+wctG2sEuAwhB1KgrQZv29cHndQxBcng4wlOKMMI9za/BajOMQE+s70D9appACEdhQK38PMKDmT/CEE9HQSoDBkG/7CBB3a+PQZxdoMGtZLBB+u2dQXMa1EAW1gtBMXCuQTeLLUEuTp1Boa/7waNuNEEv3oBBh+OIQVMcgUApb4RBmFShQT7crUHuZn/B05mPQcDpcMEdkY9BohGpQI273UHNCK5BA76PQb0PB0FJgwfCrJ7lwT7ohEFuL7BBiBmqwcWmgsFjr4tBS3JNQW88o0A2vI9BcBMFwmwcM8KI53DBJRczwhGuj0FEGBtBkMgNQbk6pkEdjD7CUghhQeEkiEGTvI9Bw1qaP0+oCkEFPK9B014Pwj7W80BBX7PBvyNPQfcNKEGzcyhBQw+eQSNoK0EIJlJBtijZQNWrj0HwtHjBaJaPQTPQH8JtbIVBHEUnwvixhkHfba9BrqC1wUOe80BHWeBABqefQZABDEGaE4FBZlZ/wcGiJsKTrVpBWdihQWl2IMJQ56dBOl4lQbId4cGHXUxA3FKnQfSRj0GROhDCWeZuwbqc9MFEBN/BRvahQV5GOUG99iPC/9ywwfYtDkEjfqxBmm9CwukbOcIbPKlAA2epwf6eEsKT4zvC/9ywwT6SrcGhs7BBqSk8wrixj0HbKh5BlR+ZQNM2QcLR8oXBR7SYQUw4N8KY155BY98BwqEt98FlGYJBesPGQK1YNcJf/rTBrWy6wRWX48GM6PvB6jA6QeBz4sHvYl1BmiCzwYHPsMGrXArCv4+PQfriJsKNrGdBYQihQR6QyEBgCKFBjw/TQKFUHkEm1IRB5WYrQSbUhEFUFoPBK/PHP2SGx0DIBzfCHtUMwpYagEEYcQnC8G8FQT6btMHrpTTCsNYOwggDsEGQ2lFAaN00wksYfMG5OphAkToQwn40IcL6vqJAwPYjwpgoocENgIJBCfyxwZ4j68GLHTzCbTFdQdpF98GpmptANKSqwf6IKkFRUwLCR3hTQZzbW0GBpQfCbBRWQFUfMkFEAfLBzZKPQcVwpkBtcXZAoFmhwR8MNkFGBiFA8SCYQaf0BsJcPPnBk2YYQePD6kArmw1BgLgiQRuer0F5t/TBEPyqQcCzD8K0tOlANShFQWPwg0FLTbnBFHchwnicikFLOWJBzdg4whasJsLIBzfCoce4QHySj0HIBzfC0YPWQKyrqMEdfCLC6Rs5wnFcA8J7i5lA2kJjQQyi10DlDSfCnikDwtXHoEExeCPCPPOeQcgHN8KROhDCnOnowVY0gEHIBzfCiJarQdCgh0GXGqvByPuvQa/nD8I9V4lB5JSCQZpigUF5pYNBdTa8weM1gsGxvjdBu7aBwZE6EMJ9NNhASUsSwp0bhkE2UP3BdAKrwZPFoMGlVJo/VBaDwWeGrUF7pnVAzVmCwZE6EMKjzU9Bj/81wiGXCMJa3ezBFgglwlFVtcHduPzBtp4Hwrqhr0FK5wHCS/A2wpGqikBWVbvBi/rnQNDTE8LA9iPCq+ijQSK/CMJLTPTB2F+NQOXA6sFjOCDCcdMOQVRo80DNNg/CyAc3wldRq8GNhyLC1lisQIvBq0CLqQVBkToQwpE6EMIoFoVAssN/wW9sg0HfkLTBMMGuQT5xyUAgk49B1qk1wjPv10F4ka1BFnAjwh7ipEH8IgJBDyoBwpE6EMKhN6dBn/u1wTerIML7u6NBbNghQW0RYEGlVJo/J5SQQRDb6kB7G4BBMOOdQcgHN8Jc+jjCugcIQCZFPcI7/axBkToQwpE6EMLPTcdAKtcBwlWasEGdU/rBJcc8QX1qQsLtRHnBwPYjwhhxCcK8GHhAd0aywfzSfD/dBatBu03NQMxO6D/2SZ5BwPYjwsNQp0Fm/4HBvEQ9wpMXKMJWD6vBhEr/wTatYUE8CDjC1TawwRNMr0GwsvPBlfavQaeKsEH8kY9BzuV3wSFyokGfIgjCMN4hwg6e1kHIBzfCYAW2QFV2t8FnaifCufuaQBhxCcLA9iPClrCPQYUZ+MHfFnrBRayzwWz2NUE4PQfCVGxnQNACk0ByshlBffUmQXG9F0GSzaDBwPYjwvHCgUExDYPBjYkSwj6btMFesI9B5w4uQUSf+sE3GbLBoWlCwqM8CcKsTkLCxa1/Qei8oMHxBsY/23ucQJE6EMIfmY9B+ysPwm4SCcIWl6tBcCblwZaqEcKxE69B3vevwVlGDEExYQ7CZlC7wf/188H2s49BkToQwqf9rcHc0dNAz9KhQSqUr0HduPzBREIRwqBIPcKROhDCe8doQLaOfMHDIKHBZ80GwpYKgsEu/69B9TerQUWpgMGROhDCWh/xwRB/CsJ6VaJBwgJgQTZtCMLqjV1BO48zQa4AD0G396hAkToQwhWX48EDw4VBr+cPwmfnpEFHzohACmPgwUM6h0FmVK1BIwf9wedPEsIMvrtA3CaBwfoS0UBxXAPCRn8QQe+iv0DIBzfCkpn3wdzR00DIBzfCeSK/QZdeJ8Gg07vBYSwyQZol3kBA+k9B4UIXQRS7j0F9nYJBqfI6QflZr0HP6t9AzgYBwtEJFUEWl6tBTsyCQXySj0GbIIpAFfsQwsgHN8KIiDTCcpUVQa+KCMIWrJpAkToQwnxWfsE3DR5BCiKWQK6v+cFOK6BARvCrwc67qkDoxYRBhuepwRcnIkFgCKFBixTyQBVTnEFSBiFAZ2SYQUs5q0HRl7LB/G8gQQ0hq8F8Vn7BUXafQM36oMEKmeRAJvSmwW0RYEHwmqFBjxWzweswX0ElyBVBn285wvE5ocEH6qnBkToQwoplC8LLH+nBjGiqQZdwrcE+kq3BdG4wwmK9ocGbPhNByAc3wh8afMHRjATChc+ywSUbhEAT5grCyAc3wtpcvUFQWkLCW4GCwctgeUDUeTvCYrCPQThVgcHdT7HB3P8SQTppA8J1ujfC6DV4wdACNsKg081AjNEDwv/csME9I2lA+dr+QHOZM8KI8bHBTMEUwt0qrUFgr9ZBXRWiQUo9t8F4miTCJSGOQOmxgUGyPatBkToQwnmm/EDQrdlBuH0Fwp5kOsLrHOg/fVS8wcEffEFo8uNAtLDWQJE6EMJpOPfB8r1xwQoilkDA9iPCNY8iwjjuu0ASEOXBnrQPwlGHGkGp9S9BH+WmwW19oEE8BaNAEX0dQcvWsMF2GcpAXzUmwezjqUH0GDhB44mhQaYsv0GWYEVB/xDJQKxDAsLQ0xPCzVmCwfQhfkBjOCDCJYzwQJOHqkEGATrCCb4Iwod758HMp8RAc6m7wT3lOsJhLDJBFYeAQZRYMkGaILPBI4L1QD5iP8JIydo/l8KuQcgHN8Kvk+rBnZyeQXUEhEFH62NBBACtwYmPIcJ17ClB+Ur4QM3YOMLC4p5Bh6j0wZbJusHIBzfCEGBjQetL78FF3KpBfO7xwSNrIMKpriDCV32CQUCzsEG8lZBB+XhsQLk6mECP/zXCaB/owTmaBcJP8hdBkpn3wfmi30C6EgbCNK2HQc1NesG7sldB1wYIwhTegkGvI5pBWX4CwvAuQcLc0dNAYSwyQRiJQcKcB6tBtJOwQeB+RkH+kbBBQiKEQatcCsJkZK9BHHavQZKKu8E1jyLC5dL4weGHJsK+9iPCB97/QKcA4kDlDSfCkToQwittgEGIlq/Bl5u1wQoilkB7/vDBcZrOQOVmK0G99iPCo2WywW4qE8KEu+/BXsuqwe41tMGgwwrCxxoNQboHCEAzXJ9BWgqhQWMpRkE2t7BBtUGqwUcP1EC0V5FA3bqsQdBhAMLUC6HBRqKqQZE6EMKj6LnByAc3wqmam0DIBzfCkToQwk9bLEEZ0zBBvckjwsXEOsJd8odBvWasQR39CMJ+Vp9B4UAIwl7LqsEudolB5oEowmOxoUGlnmBAz+eIQX6Wt8Ecno9B3caXQMgHN8LnswXC/eQ0wr5aNkGYzq9BLey1waKOiUGTNhPCWZweQcjhI8LjbLlAwPYjwh52nUF4RSfCbbS5QEJLBEGxsY9BBu+JQJlqqsHhd4NBTcCQQJ0yhkAMr49BkXyCwcXo4cHecBNBeBc2wgBDoEEhqfDBptaAQWLPjEGpV4hAjX2EQYpvEMJW0zDCc8e+QOEmDMJzQKxBy6+PQTca+8GROhDCO6+PQdVzEcK4xbrBSzXVQG89D0F94atBX/60wcgHN8L5n/NAwmlgQVLgp8G6nPTBYKinQRI5sEGhaULCANmjQcisCcLg9HvB9zUGwlhVoMHIBzfCd3+gQeEvucFFvIFBtnH6wYdRQsLP1yXCqukPwq1susFXJXrBqSk8wh4lFEG6oa9BGHEJwn2RCsKyHeHB4DKDQeSGEcJLDhHCpILQQKSV98HkwdBAYigmwps+E0ET5grCOmkDwoXl4MElHMFA9bgBwpxlE8K/PbvBejI1wg04gMHIBzfCCg4nwkaf9cEVU5xBWvg1QdBB/cHA9iPCHGqVQBpiA8L/ESJAmd8Hwsji68FrXkhBq7ePQcD2I8KxJmJAh9ivwZ37qsET6E9BJTYKwnpVokFs9jVBjesHwipJq8HxEcBAOSSwQX1UvMGA9KbBfQ0oQZE6EMIVQIFA57MFwrwrjEACWoPBUp85wmEsMkFPHp1AtkpzwaXeYEDMiq5BdTZaQSZ7J8KqWDdAXYKhwYV1DsJOPJNA/9ywwQhePkFIheXBI4IFwrLDf8Gb5RBBPeOtQS3CQcJftydBOaC4wSqOa0DbAKFB1ir/wU1ZqsEnObnBkToQwh5dJUE9yH9B0K3lwWPkrEE=\"},\"shape\":[929],\"dtype\":\"float32\",\"order\":\"little\"}],[\"y\",{\"type\":\"ndarray\",\"array\":{\"type\":\"bytes\",\"data\":\"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\"},\"shape\":[929],\"dtype\":\"float32\",\"order\":\"little\"}]]}}},\"view\":{\"type\":\"object\",\"name\":\"CDSView\",\"id\":\"p1379\",\"attributes\":{\"filter\":{\"type\":\"object\",\"name\":\"AllIndices\",\"id\":\"p1380\"}}},\"glyph\":{\"type\":\"object\",\"name\":\"Scatter\",\"id\":\"p1375\",\"attributes\":{\"x\":{\"type\":\"field\",\"field\":\"x\"},\"y\":{\"type\":\"field\",\"field\":\"y\"},\"line_color\":{\"type\":\"value\",\"value\":\"#2ca02c\"},\"fill_color\":{\"type\":\"value\",\"value\":\"#2ca02c\"},\"hatch_color\":{\"type\":\"value\",\"value\":\"#2ca02c\"}}},\"nonselection_glyph\":{\"type\":\"object\",\"name\":\"Scatter\",\"id\":\"p1376\",\"attributes\":{\"x\":{\"type\":\"field\",\"field\":\"x\"},\"y\":{\"type\":\"field\",\"field\":\"y\"},\"line_color\":{\"type\":\"value\",\"value\":\"#2ca02c\"},\"line_alpha\":{\"type\":\"value\",\"value\":0.1},\"fill_color\":{\"type\":\"value\",\"value\":\"#2ca02c\"},\"fill_alpha\":{\"type\":\"value\",\"value\":0.1},\"hatch_color\":{\"type\":\"value\",\"value\":\"#2ca02c\"},\"hatch_alpha\":{\"type\":\"value\",\"value\":0.1}}},\"muted_glyph\":{\"type\":\"object\",\"name\":\"Scatter\",\"id\":\"p1377\",\"attributes\":{\"x\":{\"type\":\"field\",\"field\":\"x\"},\"y\":{\"type\":\"field\",\"field\":\"y\"},\"line_color\":{\"type\":\"value\",\"value\":\"#2ca02c\"},\"line_alpha\":{\"type\":\"value\",\"value\":0.2},\"fill_color\":{\"type\":\"value\",\"value\":\"#2ca02c\"},\"fill_alpha\":{\"type\":\"value\",\"value\":0.2},\"hatch_color\":{\"type\":\"value\",\"value\":\"#2ca02c\"},\"hatch_alpha\":{\"type\":\"value\",\"value\":0.2}}}}},{\"type\":\"object\",\"name\":\"GlyphRenderer\",\"id\":\"p1387\",\"attributes\":{\"data_source\":{\"type\":\"object\",\"name\":\"ColumnDataSource\",\"id\":\"p1381\",\"attributes\":{\"selected\":{\"type\":\"object\",\"name\":\"Selection\",\"id\":\"p1383\",\"attributes\":{\"indices\":[],\"line_indices\":[]}},\"selection_policy\":{\"type\":\"object\",\"name\":\"UnionRenderers\",\"id\":\"p1382\"},\"data\":{\"type\":\"map\",\"entries\":[[\"x\",{\"type\":\"ndarray\",\"array\":{\"type\":\"bytes\",\"data\":\"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\"},\"shape\":[1044],\"dtype\":\"float32\",\"order\":\"little\"}],[\"y\",{\"type\":\"ndarray\",\"array\":{\"type\":\"bytes\",\"data\":\"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\"},\"shape\":[1044],\"dtype\":\"float32\",\"order\":\"little\"}]]}}},\"view\":{\"type\":\"object\",\"name\":\"CDSView\",\"id\":\"p1388\",\"attributes\":{\"filter\":{\"type\":\"object\",\"name\":\"AllIndices\",\"id\":\"p1389\"}}},\"glyph\":{\"type\":\"object\",\"name\":\"Scatter\",\"id\":\"p1384\",\"attributes\":{\"x\":{\"type\":\"field\",\"field\":\"x\"},\"y\":{\"type\":\"field\",\"field\":\"y\"},\"line_color\":{\"type\":\"value\",\"value\":\"#d62728\"},\"fill_color\":{\"type\":\"value\",\"value\":\"#d62728\"},\"hatch_color\":{\"type\":\"value\",\"value\":\"#d62728\"}}},\"nonselection_glyph\":{\"type\":\"object\",\"name\":\"Scatter\",\"id\":\"p1385\",\"attributes\":{\"x\":{\"type\":\"field\",\"field\":\"x\"},\"y\":{\"type\":\"field\",\"field\":\"y\"},\"line_color\":{\"type\":\"value\",\"value\":\"#d62728\"},\"line_alpha\":{\"type\":\"value\",\"value\":0.1},\"fill_color\":{\"type\":\"value\",\"value\":\"#d62728\"},\"fill_alpha\":{\"type\":\"value\",\"value\":0.1},\"hatch_color\":{\"type\":\"value\",\"value\":\"#d62728\"},\"hatch_alpha\":{\"type\":\"value\",\"value\":0.1}}},\"muted_glyph\":{\"type\":\"object\",\"name\":\"Scatter\",\"id\":\"p1386\",\"attributes\":{\"x\":{\"type\":\"field\",\"field\":\"x\"},\"y\":{\"type\":\"field\",\"field\":\"y\"},\"line_color\":{\"type\":\"value\",\"value\":\"#d62728\"},\"line_alpha\":{\"type\":\"value\",\"value\":0.2},\"fill_color\":{\"type\":\"value\",\"value\":\"#d62728\"},\"fill_alpha\":{\"type\":\"value\",\"value\":0.2},\"hatch_color\":{\"type\":\"value\",\"value\":\"#d62728\"},\"hatch_alpha\":{\"type\":\"value\",\"value\":0.2}}}}},{\"type\":\"object\",\"name\":\"GlyphRenderer\",\"id\":\"p1396\",\"attributes\":{\"data_source\":{\"type\":\"object\",\"name\":\"ColumnDataSource\",\"id\":\"p1390\",\"attributes\":{\"selected\":{\"type\":\"object\",\"name\":\"Selection\",\"id\":\"p1392\",\"attributes\":{\"indices\":[],\"line_indices\":[]}},\"selection_policy\":{\"type\":\"object\",\"name\":\"UnionRenderers\",\"id\":\"p1391\"},\"data\":{\"type\":\"map\",\"entries\":[[\"x\",{\"type\":\"ndarray\",\"array\":{\"type\":\"bytes\",\"data\":\"MEFYweR5McBg2wXBlfmMwUvuEr2De7tALXahwVBzrMGHWcnBt8yJv0lWjcG0v1fBemO+QBFpycEHfSq9G8kAwQMWKEEJC2zBwKxwwI2oRMAViqvBTiCLwV9rJb1LOw7BurnswAo/bsHu7/vALKVxwXghekCICwPBUMubwMYTpcEZy1/AlnJrwIEHNsDem38+WfK7QJmk4sCwGYLBhtsjQVW4MsC74gxB2KSdwR/fjcF9AazBw6FfwD22wED1TQ/Bs0nywOrwWMFWQEPAFsOKv7QIaMDKxmjAASOawAYdiEAV91zB+rQOwWqKacC2wsnBhZm6QHlmrMFlyMnBmVI6wB/zaUCqGVfBUuo/wNinbcH/s2zBU28KwXr0okCfWp3BAYxFwM7vhz8Wl4zBN/iMwdLzqMH6i4RAtutYwUR0mj9esbhAUw88wJSlwEBgcI3BaOBywKyYhb+q0XLBbbk3wAOIjMFQWTHAg2lYwQoYpkDuvAjBX80NwZrRnsELBDjA87KtwcNvib9yVsRAEewCwZIuK0F6SV3BkRmLwU1G+cBE6sJAcqAHwcFFjcEM6FXB6PmawK+sVcHUDYxA4/SJv6eZhMFfsx3AfgWLv7syq8G6y4LARFn1wK9fi7/t7F7AqjOfwekvYcAkCU9AZBUGwYvNXcELkNjAwLnjwIw1jcEXxVZAo1OrwRLVDMEN8lfBpDsKwWbMm8DIv4e/pBW8QAnCg8EPegDBIxuNwafsfj+jf5vAcXlswHqNh7+/tMNAmtBgQNabb8DlpVfBU2ENweo2hb+gGQTBhayfwV1aMr2CdavB+g8CwfGMir8ODt3AOiZ8QAqgU8FpnfnApmplwPoPAsGT1IzBozfEQGwdv0Du+wXBw5eBv5ZPKEGBAOHAWgbHQHZMu0C7KzzA3L1mwDF/BMHVy5VAIhu4QMF1xECuq6vBKfEEwezHmsAPU7pARh98wI7jScAHUXdA+n5fwf3DycEWiI5AbIcqQUw6QcAjSLZAwM5twcDoasH46t7AC5ZiQAadbcEFK8nBWBFswabMycGqTqrBLaOcwF1HacDSkFXApVmMwaM3xECjN8RAowFjwW4nMsCYBlbAkGC/QJwQUEAt/kzBvzNNwZQm58CZ9KLB/J6swXKLk0D4hopAaj8bweF3hcBDjonBFpfJwesYUcFcjWfAism7QMxifUBLTDHA3DQMwe3xhsAxCErAXcwvwAT8vECu14PB0X2gwJ8+SsExCErAoLHJwfJP5MBdbGzAagoLwaf/FMGln2RAIWyOQK89u0Aci3HB7wPKwcwjk8BCcTLAAshRwNEqVcGeCbzADGlfwCeZycEyBYXBhp+jQDlsV8B8a6zB90XLwKNfd8C1EYI/JRSrwQLtv0BvXazBP5FVwcMRmMAcfYzBCFeCQPvtbMA40IPBXqdiwC7AF0BAwcnB1gsCwQYHv0CCdavBLp/sPyKQX8Hx3lTBe5x4wNf4h0ABoZ7AGn+rwYHMDkE+wcnBio9SQAYxkUD3DAfB2UP9wEQEVcGfs8nBFa/cwPJ1e0APU7pAn0cbwMSsFkBOk/68To2ewchOL0D8PV3BXQefwdYLAsGzjP6/g6h3QHtAxL9oysnBlXMSwG+dbcFb3FTBg/krwKM3xED6PqHBmvydwbwcocHfKazBpyB/wBVVjcF7ZnPAz+C+wG/PycHTTr1A7MeawGPSVME92ovBgzKiwY+Jm8BODcm8BSDFQNWkeEC9jj3AlXeGv1+kL8Anu6zBuEGhwdFrycGa/J3BdK5PwPV9v8DGOHpAcB6Ev9ZLxECzfj/AmcdXwW9drMFUyJjAFZhbwO3FwUCXJzXAfu0IwXDUK8CRzk3BiN2hwQ9TukDxmGbAuaiswVsirMEsWMnBkluhwVnylUDyOlnBWg2fwK/hbcHDXcnB0RW9QIAmZ8B1vx5AEZ2MwRvrXMFdkF3AigpVwXMzaMAeoG/AmvydwdnFycHpvEjAsk8swHCDYcCgJufAAXwCQMJsiUAk+blAFz1LwRmlyT+wtCJAhuC7QPD8g8FF7IPBEU9Wwf90FcHWeHDBKXWGv1ubvkCXIlXB1goCwaM3xECONlnB+g8CweAcN8Czzv4/PleNwcHHVMHf4TPA4exowG+dbcERNJHA+2LtwBdyw0CnrljBzyiswWRzqcGWgm8/3/8CwdaAxcAUsPrARKm8QJweJ0Ht7X9AcKWgwZn0osH93fHANwqAQDomfED7dX5AFa66QB9AI0EUQYJAWGk/QLMcu0CFUbVAj3dWwduHaUDVHfvAHfEwwA+/g8ERMKLBbIdLwYeaMMCzVE7A1d2NwaauWMFCFSpBAfqdweDeu0Cp0sNAHIQzP9mhjMGkysnB9HZ0wHvaE8B4vGnAPdqLwcCLasBxwsnBb4JUwaP5k8Bc4zjALm1CwF+COMAu8otAGGd6QOzHmsAelJzB8FfIwBJzasDeCjXAMfS8QIBKFcGxvqHB5rODwRu25cDU93tAJ2SFwHGTnsFQ1cA/BaiUwD1MqECl6cJAPrOxQHvhycG/M03B5yt8QA+CNMBXfn9AXUWIv5fFTMFmP5jApWkiQSLAycHLMNPA33IFwSHRqsEeUZ3BDyC7wPxHw0B1O2jA73yLwWr6I8B722vBJfhVwW7oXsGsobFAsi5OQNPgosFoj1XBd05JQOLLaMCaCjXAAZsvwBz/mcAT2ozBAiHCQITXDEEJwNTANbI5QA==\"},\"shape\":[511],\"dtype\":\"float32\",\"order\":\"little\"}],[\"y\",{\"type\":\"ndarray\",\"array\":{\"type\":\"bytes\",\"data\":\"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\"},\"shape\":[511],\"dtype\":\"float32\",\"order\":\"little\"}]]}}},\"view\":{\"type\":\"object\",\"name\":\"CDSView\",\"id\":\"p1397\",\"attributes\":{\"filter\":{\"type\":\"object\",\"name\":\"AllIndices\",\"id\":\"p1398\"}}},\"glyph\":{\"type\":\"object\",\"name\":\"Scatter\",\"id\":\"p1393\",\"attributes\":{\"x\":{\"type\":\"field\",\"field\":\"x\"},\"y\":{\"type\":\"field\",\"field\":\"y\"},\"line_color\":{\"type\":\"value\",\"value\":\"#9467bd\"},\"fill_color\":{\"type\":\"value\",\"value\":\"#9467bd\"},\"hatch_color\":{\"type\":\"value\",\"value\":\"#9467bd\"}}},\"nonselection_glyph\":{\"type\":\"object\",\"name\":\"Scatter\",\"id\":\"p1394\",\"attributes\":{\"x\":{\"type\":\"field\",\"field\":\"x\"},\"y\":{\"type\":\"field\",\"field\":\"y\"},\"line_color\":{\"type\":\"value\",\"value\":\"#9467bd\"},\"line_alpha\":{\"type\":\"value\",\"value\":0.1},\"fill_color\":{\"type\":\"value\",\"value\":\"#9467bd\"},\"fill_alpha\":{\"type\":\"value\",\"value\":0.1},\"hatch_color\":{\"type\":\"value\",\"value\":\"#9467bd\"},\"hatch_alpha\":{\"type\":\"value\",\"value\":0.1}}},\"muted_glyph\":{\"type\":\"object\",\"name\":\"Scatter\",\"id\":\"p1395\",\"attributes\":{\"x\":{\"type\":\"field\",\"field\":\"x\"},\"y\":{\"type\":\"field\",\"field\":\"y\"},\"line_color\":{\"type\":\"value\",\"value\":\"#9467bd\"},\"line_alpha\":{\"type\":\"value\",\"value\":0.2},\"fill_color\":{\"type\":\"value\",\"value\":\"#9467bd\"},\"fill_alpha\":{\"type\":\"value\",\"value\":0.2},\"hatch_color\":{\"type\":\"value\",\"value\":\"#9467bd\"},\"hatch_alpha\":{\"type\":\"value\",\"value\":0.2}}}}}],\"toolbar\":{\"type\":\"object\",\"name\":\"Toolbar\",\"id\":\"p1315\",\"attributes\":{\"tools\":[{\"type\":\"object\",\"name\":\"PanTool\",\"id\":\"p1339\"},{\"type\":\"object\",\"name\":\"WheelZoomTool\",\"id\":\"p1340\"},{\"type\":\"object\",\"name\":\"BoxZoomTool\",\"id\":\"p1341\",\"attributes\":{\"overlay\":{\"type\":\"object\",\"name\":\"BoxAnnotation\",\"id\":\"p1342\",\"attributes\":{\"syncable\":false,\"level\":\"overlay\",\"visible\":false,\"left_units\":\"canvas\",\"right_units\":\"canvas\",\"bottom_units\":\"canvas\",\"top_units\":\"canvas\",\"line_color\":\"black\",\"line_alpha\":1.0,\"line_width\":2,\"line_dash\":[4,4],\"fill_color\":\"lightgrey\",\"fill_alpha\":0.5}}}},{\"type\":\"object\",\"name\":\"SaveTool\",\"id\":\"p1343\"},{\"type\":\"object\",\"name\":\"ResetTool\",\"id\":\"p1344\"},{\"type\":\"object\",\"name\":\"HelpTool\",\"id\":\"p1345\"}]}},\"left\":[{\"type\":\"object\",\"name\":\"LinearAxis\",\"id\":\"p1332\",\"attributes\":{\"ticker\":{\"type\":\"object\",\"name\":\"BasicTicker\",\"id\":\"p1333\",\"attributes\":{\"mantissas\":[1,2,5]}},\"formatter\":{\"type\":\"object\",\"name\":\"BasicTickFormatter\",\"id\":\"p1335\"},\"major_label_policy\":{\"type\":\"object\",\"name\":\"AllLabels\",\"id\":\"p1334\"}}}],\"right\":[{\"type\":\"object\",\"name\":\"Legend\",\"id\":\"p1399\",\"attributes\":{\"location\":\"top_left\",\"items\":[{\"type\":\"object\",\"name\":\"LegendItem\",\"id\":\"p1400\",\"attributes\":{\"label\":{\"type\":\"value\",\"value\":\"Initial Breaking News\"},\"renderers\":[{\"id\":\"p1360\"}]}},{\"type\":\"object\",\"name\":\"LegendItem\",\"id\":\"p1401\",\"attributes\":{\"label\":{\"type\":\"value\",\"value\":\"Public Sympathy\"},\"renderers\":[{\"id\":\"p1369\"}]}},{\"type\":\"object\",\"name\":\"LegendItem\",\"id\":\"p1402\",\"attributes\":{\"label\":{\"type\":\"value\",\"value\":\"Aftershock\"},\"renderers\":[{\"id\":\"p1378\"}]}},{\"type\":\"object\",\"name\":\"LegendItem\",\"id\":\"p1403\",\"attributes\":{\"label\":{\"type\":\"value\",\"value\":\"Law Enforcement\"},\"renderers\":[{\"id\":\"p1387\"}]}},{\"type\":\"object\",\"name\":\"LegendItem\",\"id\":\"p1404\",\"attributes\":{\"label\":{\"type\":\"value\",\"value\":\"Politics\"},\"renderers\":[{\"id\":\"p1396\"}]}}]}}],\"below\":[{\"type\":\"object\",\"name\":\"LinearAxis\",\"id\":\"p1325\",\"attributes\":{\"ticker\":{\"type\":\"object\",\"name\":\"BasicTicker\",\"id\":\"p1326\",\"attributes\":{\"mantissas\":[1,2,5]}},\"formatter\":{\"type\":\"object\",\"name\":\"BasicTickFormatter\",\"id\":\"p1328\"},\"major_label_policy\":{\"type\":\"object\",\"name\":\"AllLabels\",\"id\":\"p1327\"}}}],\"center\":[{\"type\":\"object\",\"name\":\"Grid\",\"id\":\"p1331\",\"attributes\":{\"axis\":{\"id\":\"p1325\"}}},{\"type\":\"object\",\"name\":\"Grid\",\"id\":\"p1338\",\"attributes\":{\"dimension\":1,\"axis\":{\"id\":\"p1332\"}}}]}}],\"callbacks\":{\"type\":\"map\"}}};\n  const render_items = [{\"docid\":\"6f2923d9-c566-4f13-856e-503411585431\",\"roots\":{\"p1307\":\"f9b489f1-84db-4966-a1f3-fa3e530c1b20\"},\"root_ids\":[\"p1307\"]}];\n  root.Bokeh.embed.embed_items_notebook(docs_json, render_items);\n  }\n  if (root.Bokeh !== undefined) {\n    embed_document(root);\n  } else {\n    let attempts = 0;\n    const timer = setInterval(function(root) {\n      if (root.Bokeh !== undefined) {\n        clearInterval(timer);\n        embed_document(root);\n      } else {\n        attempts++;\n        if (attempts > 100) {\n          clearInterval(timer);\n          console.log(\"Bokeh: ERROR: Unable to run BokehJS code because BokehJS library is missing\");\n        }\n      }\n    }, 10, root)\n  }\n})(window);",
      "application/vnd.bokehjs_exec.v0+json": ""
     },
     "metadata": {
      "application/vnd.bokehjs_exec.v0+json": {
       "id": "p1307"
      }
     },
     "output_type": "display_data"
    }
   ],
   "source": [
    "# Get topic weights\n",
    "topic_weights = lda_model.transform(count_data_boom)\n",
    "\n",
    "# Array of topic weights    \n",
    "arr_boom = pd.DataFrame(topic_weights).fillna(0).values\n",
    "\n",
    "# Keep the well separated points (optional)\n",
    "arr_boom = arr_boom[np.amax(arr_boom, axis=1) > 0.35]\n",
    "\n",
    "# Dominant topic number in each doc\n",
    "topic_num_boom = np.argmax(arr_boom, axis=1)\n",
    "\n",
    "# tSNE Dimension Reduction\n",
    "tsne_model_boom = TSNE(n_components=2, verbose=1, random_state=5, angle=.99, init='pca')\n",
    "tsne_lda_boom = tsne_model_boom.fit_transform(arr_boom)\n",
    "\n",
    "from bokeh.io import output_notebook\n",
    "from bokeh.plotting import figure, show\n",
    "from bokeh.models import Legend\n",
    "\n",
    "# Plot the Topic Clusters using Bokeh\n",
    "output_notebook()\n",
    "mycolors_boom = np.array([color for name, color in mcolors.TABLEAU_COLORS.items()])\n",
    "plot_boom = figure(title=\"Clustering of Top {} Boston Bombing Topics\".format(number_words), \n",
    "              width=900, height=700)\n",
    "\n",
    "scatter_list_boom = []\n",
    "for topic in np.unique(topic_num_boom):\n",
    "    indices = np.where(topic_num_boom == topic)[0]\n",
    "    scatter = plot_boom.scatter(x=tsne_lda_boom[indices, 0], \n",
    "                                y=tsne_lda_boom[indices, 1], \n",
    "                                color=mycolors_boom[topic])\n",
    "    scatter_list_boom.append(scatter)\n",
    "\n",
    "# Define topic labels\n",
    "topic_labels_boom = ['Initial Breaking News', 'Public Sympathy', 'Aftershock', 'Law Enforcement', 'Politics']\n",
    "\n",
    "# Create legend\n",
    "legend_boom = Legend(items=[(label, [scatter]) for label, scatter in zip(topic_labels_boom, scatter_list_boom)],\n",
    "                location='top_left')\n",
    "plot_boom.add_layout(legend_boom, 'right')\n",
    "\n",
    "show(plot_boom)"
   ]
  },
  {
   "cell_type": "markdown",
   "id": "46bf5ada-4815-459d-b74a-70971bda8d8e",
   "metadata": {
    "tags": []
   },
   "source": [
    "## pyLDAvis with Boston Marathon Bombing"
   ]
  },
  {
   "cell_type": "code",
   "execution_count": 16,
   "id": "bf7f7553-8173-4147-8b69-41f4547ecdc7",
   "metadata": {
    "tags": []
   },
   "outputs": [
    {
     "data": {
      "text/html": [
       "\n",
       "<link rel=\"stylesheet\" type=\"text/css\" href=\"https://cdn.jsdelivr.net/gh/bmabey/pyLDAvis@3.4.0/pyLDAvis/js/ldavis.v1.0.0.css\">\n",
       "\n",
       "\n",
       "<div id=\"ldavis_el1021404233388646243048412356\" style=\"background-color:white;\"></div>\n",
       "<script type=\"text/javascript\">\n",
       "\n",
       "var ldavis_el1021404233388646243048412356_data = {\"mdsDat\": {\"x\": [-0.10756802471452973, 0.0028550709508471284, -0.07163048899617099, 0.027849250657013186, 0.1484941921028403], \"y\": [0.05681912079350122, -0.057059388306663565, 0.0428618445333013, -0.12991925341346763, 0.08729767639332865], \"topics\": [1, 2, 3, 4, 5], \"cluster\": [1, 1, 1, 1, 1], \"Freq\": [29.725291120634516, 22.85187479868571, 22.33240604658581, 14.345468012368285, 10.744960021725678]}, \"tinfo\": {\"Term\": [\"suspect\", \"suspects\", \"bombings\", \"bombing\", \"fbi\", \"photos\", \"breaking\", \"prayforboston\", \"boston\", \"prayers\", \"bomb\", \"explosions\", \"marathon\", \"bostonmarathon\", \"thoughts\", \"killed\", \"police\", \"sandy\", \"hook\", \"releases\", \"identified\", \"people\", \"100\", \"died\", \"kids\", \"new\", \"affected\", \"april\", \"saddened\", \"running\", \"russia\", \"region\", \"ss\", \"attention\", \"meaning\", \"caucasus\", \"racists\", \"tells\", \"hellos\", \"sources\", \"court\", \"enforcement\", \"actual\", \"identified\", \"chechnya\", \"reportedly\", \"medical\", \"threats\", \"aid\", \"donatetoboston\", \"online\", \"mt\", \"surviving\", \"courthouse\", \"bauman\", \"sons\", \"jeff\", \"underway\", \"abc\", \"tx\", \"pressure\", \"law\", \"official\", \"pinned\", \"lived\", \"cooker\", \"reports\", \"ap\", \"breaking\", \"sandy\", \"hook\", \"explosions\", \"globe\", \"arrest\", \"tsarnaev\", \"kids\", \"19\", \"died\", \"dzhokhar\", \"boston\", \"news\", \"rt\", \"old\", \"suspect\", \"year\", \"bombing\", \"marathon\", \"watertown\", \"bomb\", \"running\", \"girl\", \"suspects\", \"prayforboston\", \"cnn\", \"dead\", \"bombings\", \"victims\", \"fbi\", \"bostonmarathon\", \"tragedy\", \"200\", \"pass\", \"fo\", \"season\", \"evil\", \"commissioner\", \"dont\", \"100\", \"deported\", \"relief\", \"campbell\", \"krystle\", \"politicians\", \"head\", \"fund\", \"catch\", \"insurance\", \"volunteer\", \"forward\", \"middle\", \"purple\", \"slowly\", \"urging\", \"newtown\", \"ta\", \"china\", \"deserves\", \"especially\", \"blood\", \"suffering\", \"anthem\", \"scrolling\", \"gt\", \"legs\", \"hate\", \"line\", \"finish\", \"yr\", \"affected\", \"game\", \"runners\", \"prayers\", \"sending\", \"stop\", \"prayforboston\", \"love\", \"yesterday\", \"friends\", \"world\", \"people\", \"boston\", \"rt\", \"marathon\", \"explosion\", \"tragedy\", \"today\", \"thoughts\", \"just\", \"don\", \"bostonmarathon\", \"bombing\", \"explosions\", \"running\", \"killed\", \"died\", \"victims\", \"old\", \"donate\", \"massive\", \"use\", \"gunfight\", \"moments\", \"iconic\", \"blog\", \"linked\", \"laurel\", \"threa\", \"offer\", \"poor\", \"cctv\", \"islamic\", \"contained\", \"unde\", \"183\", \"google\", \"p2\", \"resolution\", \"device\", \"information\", \"forgiveness\", \"cispa\", \"finding\", \"reported\", \"tips\", \"pellets\", \"male\", \"breaks\", \"13\", \"picture\", \"passed\", \"shrapnel\", \"condolences\", \"mulugeta\", \"mitshooting\", \"dark\", \"goes\", \"dare\", \"olds\", \"homeless\", \"14\", \"police\", \"scanner\", \"doctors\", \"killed\", \"far\", \"suspect\", \"bostonmarathon\", \"week\", \"bomb\", \"new\", \"rt\", \"bombing\", \"men\", \"boston\", \"martin\", \"sad\", \"man\", \"stay\", \"second\", \"marathon\", \"uncle\", \"victims\", \"attack\", \"run\", \"dead\", \"suspects\", \"photo\", \"year\", \"prayforboston\", \"cnn\", \"fbi\", \"just\", \"breaking\", \"explosion\", \"tragedy\", \"people\", \"saddened\", \"sarasota\", \"loss\", \"malik\", \"expected\", \"zayn\", \"cover\", \"mind\", \"release\", \"clip\", \"dude\", \"asks\", \"illustrated\", \"fears\", \"aunt\", \"idiot\", \"met\", \"identifying\", \"civic\", \"horror\", \"culprit\", \"means\", \"fact\", \"116gc7\", \"plates\", \"anniversary\", \"solidarity\", \"suffered\", \"predicted\", \"yankees\", \"amid\", \"sun\", \"funny\", \"remain\", \"4chan\", \"funds\", \"photos\", \"blaming\", \"releases\", \"westboro\", \"green\", \"baptist\", \"youtube\", \"act\", \"fbi\", \"bombings\", \"feel\", \"domestic\", \"images\", \"life\", \"suspects\", \"terrorist\", \"marathon\", \"boston\", \"thoughts\", \"know\", \"help\", \"rt\", \"bombers\", \"bombing\", \"don\", \"people\", \"like\", \"victims\", \"video\", \"prayers\", \"bostonmarathon\", \"prayforboston\", \"just\", \"attack\", \"new\", \"photo\", \"question\", \"save\", \"job\", \"april\", \"40\", \"absolutely\", \"chechen\", \"nephews\", \"okc\", \"tcot\", \"heartless\", \"wing\", \"soldiers\", \"benghazi\", \"traffic\", \"transit\", \"carrying\", \"titanic\", \"military\", \"later\", \"past\", \"yahoo\", \"kept\", \"daily\", \"remaining\", \"crowdsourcing\", \"hold\", \"christian\", \"sabres\", \"schools\", \"communities\", \"questions\", \"15th\", \"hillsborough\", \"shit\", \"200k\", \"check\", \"blames\", \"shut\", \"15\", \"social\", \"terrorists\", \"did\", \"press\", \"fuck\", \"bombing\", \"days\", \"boston\", \"connected\", \"america\", \"disaster\", \"obama\", \"bostonmarathon\", \"rt\", \"right\", \"time\", \"prayforboston\", \"marathon\", \"need\", \"going\", \"muslim\", \"suspect\", \"like\", \"explosion\", \"bomb\", \"live\", \"just\", \"tragedy\", \"today\"], \"Freq\": [673.0, 489.0, 350.0, 1392.0, 321.0, 127.0, 279.0, 930.0, 4086.0, 187.0, 436.0, 358.0, 1853.0, 531.0, 148.0, 226.0, 258.0, 133.0, 132.0, 71.0, 92.0, 301.0, 58.0, 193.0, 114.0, 101.0, 116.0, 32.0, 36.0, 139.0, 31.385710696489962, 36.28167903459892, 24.642649915705164, 22.542292189303147, 17.963228012883594, 17.962557836835032, 17.66224285290173, 19.033072180468046, 17.040792872889345, 29.495736268922858, 31.536472460766326, 47.14719318597376, 21.97629231564676, 87.86864188327534, 29.22644245333161, 13.587689433572113, 14.231078861069022, 25.769115605398092, 12.790489033600045, 27.851345162508657, 12.78263349357375, 15.272498096333349, 29.636462100460914, 11.518590500260666, 11.413140805217864, 11.634512392228517, 11.153261013843405, 10.74603345750922, 10.739620373964181, 11.07837301741407, 42.515103418210465, 54.30344441912594, 52.407978632135986, 24.327830539895356, 20.350127770021444, 30.14760778607595, 92.74421162187848, 52.68342655742526, 213.28949406396333, 105.43046971549356, 104.7383208034662, 257.6441880372811, 29.806341518333117, 103.63208106404775, 66.55824651427446, 85.15571725828026, 32.587122860577686, 127.84499590426978, 48.9544110819818, 1499.3917274379169, 149.6216704360556, 1137.7745039513277, 129.56015648754618, 311.8462743625028, 140.6721728995311, 514.0387669282784, 626.8700074560387, 77.21035507704413, 184.01610030192202, 83.09992902377267, 59.80334348137392, 177.34851322544282, 226.95386760290378, 67.50542618765178, 80.13381522922866, 118.21817872518025, 106.97532761181445, 86.1393129243684, 76.58995398752326, 61.41900612698063, 39.784181799755466, 39.17306234246504, 35.668509856372104, 34.857243289328785, 15.892675255791017, 15.88757595728027, 15.622852004814176, 56.00671016769294, 13.768948012634837, 46.27448845152837, 12.117443213345803, 12.11734045670075, 11.760226149339346, 11.441457910277968, 46.60109188477502, 40.67553860856371, 10.678002440284539, 10.510736743360736, 10.376646457444926, 10.17810206591973, 9.432051002682122, 9.058843149377132, 8.757907469759298, 8.732627907900676, 9.032962746580077, 8.543356590003684, 8.34095953787682, 8.329010509950365, 16.580770857631016, 10.154818409173696, 16.73420222762677, 11.026465922590559, 65.08162902331833, 26.40562626213508, 27.239784726215166, 42.9254809825329, 57.627896047988884, 25.13678720902277, 87.23587606617028, 28.896444483864354, 37.018923413900104, 126.19612083367717, 20.005342994482206, 39.85936826607037, 448.7379035887352, 51.343356723583014, 52.24722129957519, 26.29279090281332, 76.43998891920015, 139.09886172638045, 875.5396839485531, 688.547708243421, 461.25818424855186, 100.2661094118716, 110.67767528893917, 72.08658947748707, 72.02631128775857, 74.23493978171403, 46.82341159504932, 93.89047061292389, 132.23080166693458, 71.1625160946345, 51.459854215560405, 57.48412237545247, 53.88130313882527, 51.84319358863248, 47.67677984305178, 43.15012413472589, 42.00080767122901, 17.564838750129855, 13.761562052943054, 11.070449692780675, 10.835771905830125, 10.858619028307464, 10.363170788066943, 10.129995128636574, 22.890288071230813, 10.10522048505163, 9.974566772289993, 9.640366412145317, 9.910843510260454, 16.9027115392052, 12.92877669787551, 9.142565257209768, 9.030566796673002, 9.13705187737014, 9.143506004667858, 8.675596768963997, 8.719856530952558, 8.436517204433416, 8.436245928850616, 8.42285649134482, 19.334883335870067, 8.230390998230902, 16.498446763112224, 7.71281322567937, 7.705490877043387, 12.166497889140572, 36.42249184916572, 20.181092996770243, 18.267810719112557, 13.032751259040312, 11.270625270325015, 17.766731941454236, 20.01058269433315, 48.720034673695054, 39.024385924081145, 39.251543310299276, 39.05867962089287, 40.96389057825409, 159.26099914863156, 16.922453985860884, 18.35929684033706, 132.39194627543745, 43.51910014773264, 296.86670312590934, 230.19192370298336, 60.557028268949495, 193.22054023166595, 60.07431115220407, 770.3171910151368, 392.6011589766236, 25.48093641337444, 803.500144722835, 35.92340056613717, 55.63443504353726, 72.02543296539854, 31.089375680359623, 32.03699917250162, 350.6399784614795, 27.95864624488975, 94.76705783305589, 69.69291484683671, 49.33304775416876, 60.51833279455774, 111.03676418791153, 50.14066515092463, 69.95154299012576, 128.68706660185444, 45.447279569348595, 63.67381037368417, 52.925060048510204, 55.56678491053922, 53.1565801597823, 52.197014963064824, 51.93650671959267, 35.22837823235219, 22.896992665196162, 34.90328748109895, 23.72323005033176, 16.934614197639245, 28.620876639114798, 11.240157684795152, 11.240190833917108, 33.29456238443161, 8.594311240176406, 8.146469290321082, 7.240087631401992, 7.051812265682217, 6.79919131851861, 11.081125220173625, 6.265180017983786, 6.26053062964894, 7.062201827648694, 6.078819685998615, 7.177160294824535, 6.316260575112034, 6.059093270668309, 8.926219959485946, 5.754441640867425, 5.754429993878629, 5.728772125523784, 5.7235488990102175, 5.475631991436572, 7.916116041850686, 5.34919452088079, 14.709001859819987, 9.857754186630611, 16.398014129864123, 9.819604026870637, 9.148285927467409, 6.782748010145243, 93.26326636171683, 8.986257498958857, 51.89757368194738, 10.722690035921778, 7.83860622734046, 10.381738773696041, 14.932705573610505, 11.658523793776324, 147.11346667441137, 156.098577392935, 18.622941983111108, 11.181674570365303, 28.326637865257982, 39.13319786749441, 168.94086977058382, 44.39260530379145, 342.537352743563, 573.512636424159, 56.84335817134343, 34.73573927582366, 43.798135828303764, 317.0048024044654, 24.172273431877425, 160.07628567580235, 34.530408238896555, 65.00308442268016, 38.438342099658186, 60.302259401625975, 39.586785366514654, 42.89107909199566, 64.48158601976141, 69.50021973630516, 38.33642915585524, 37.59542981025663, 28.65252957097145, 28.946221832277104, 12.358025615216759, 10.832304974762101, 10.377760809094426, 30.442695444062135, 13.411273419804491, 9.257262875973627, 19.43516836869978, 9.01128168189395, 8.73918758803273, 21.50505102559501, 9.379604894964, 7.477668722308647, 7.213217984871033, 7.133788815448414, 6.940817888329465, 11.759633347445128, 10.276680607920163, 6.707862610978374, 8.369926235166348, 6.8849764255170065, 6.415264995416817, 6.163012088507023, 5.716445466400701, 5.664380049821397, 5.65418398682752, 5.394091438880082, 5.392942922241013, 5.384886529304788, 5.364633983487018, 6.078570112018177, 7.538062646049792, 8.200100787099776, 11.08018996183333, 8.779845681008446, 26.580157821730847, 7.4755944804556735, 11.205214872744826, 12.82485015160893, 12.134314839893024, 17.74857420069575, 15.971626030733868, 29.229000234078587, 31.853859015295537, 14.295242689010923, 14.34382732510127, 193.97995216775783, 19.43945643257571, 334.58723893729666, 12.443547995905957, 19.93974263048734, 13.22204699916875, 30.793739571570168, 66.06499625748194, 144.9992841874253, 26.867456759301113, 19.24494743935291, 56.85295198811483, 71.9620275951496, 18.991953012790077, 21.052050294499264, 15.792681568581223, 38.14493590976225, 21.56837881713984, 25.681838637356517, 28.682597553274682, 19.20000799308636, 20.14811435040012, 18.913526404780704, 16.510899385932472], \"Total\": [673.0, 489.0, 350.0, 1392.0, 321.0, 127.0, 279.0, 930.0, 4086.0, 187.0, 436.0, 358.0, 1853.0, 531.0, 148.0, 226.0, 258.0, 133.0, 132.0, 71.0, 92.0, 301.0, 58.0, 193.0, 114.0, 101.0, 116.0, 32.0, 36.0, 139.0, 32.233590056876814, 37.34323001869891, 25.44224828655781, 23.286415467806894, 18.696101999666556, 18.695857055448826, 18.394554644830382, 19.83031588458754, 17.774207783699794, 30.777666066615435, 33.010536831698275, 49.365200777862356, 23.13393788019944, 92.56605979643645, 30.79014251557248, 14.328342612777115, 15.049399191641719, 27.2799580475727, 13.547291160136206, 29.50341032361474, 13.549022204065695, 16.207130751776432, 31.50637352480074, 12.257948556813423, 12.155338244447648, 12.398187447302597, 11.90607588569914, 11.483303833772757, 11.48309959003676, 11.848875128218685, 45.69950724058748, 59.37239193769128, 57.27990437431855, 26.481927326758598, 22.14518723484001, 33.704792054733275, 111.03947121249568, 61.95422829595072, 279.6074511751776, 133.0794846797238, 132.3629162237639, 358.71081585638234, 33.666809661700185, 136.8649808312829, 84.28792220439311, 114.49384978303078, 37.546054137458384, 193.58906102467995, 61.21137077390907, 4086.531431470761, 243.43455852439874, 3058.6434898017765, 215.65543584274343, 673.2518889896737, 244.051950335643, 1392.9269654153968, 1853.2675505047828, 115.3317668623965, 436.9534227484123, 139.2636404353703, 87.40195689112743, 489.02971095605506, 930.7320095179133, 114.36674364000721, 160.82760171082074, 350.79955695160044, 315.0198264836968, 321.04925817884, 531.2189305806739, 270.33437131804385, 40.50335628876529, 39.89206266814459, 36.384540850056204, 35.87419877813499, 16.62837007015304, 16.623719515251263, 16.349905356240903, 58.837119135782174, 14.528859526238175, 48.96765278752367, 12.84167981436097, 12.841640832441364, 12.48719638179607, 12.169459884358437, 49.568684600542724, 43.408869562963, 11.40178573959995, 11.229546834650824, 11.092731227278955, 10.939699857331574, 10.145760005929247, 9.785973109571621, 9.473740411087562, 9.45086058600254, 9.782908218047135, 9.257426528302684, 9.059526579766038, 9.055641959518512, 18.02805308008922, 11.068615636049795, 18.790929009821504, 12.131489067793026, 80.37058147862048, 30.788944221938923, 31.960168650351886, 52.804651843858075, 72.86637768319747, 29.572410420221118, 116.7455060466893, 34.69353621650589, 45.80989562119928, 187.40328099262192, 23.530906032259967, 53.19794619091476, 930.7320095179133, 71.74480771272917, 74.35101251308252, 32.79103774056069, 124.04324157106667, 301.2538935983561, 4086.531431470761, 3058.6434898017765, 1853.2675505047828, 229.64335305121384, 270.33437131804385, 145.28682669957968, 148.85596114055843, 203.0425938801099, 94.95368532650069, 531.2189305806739, 1392.9269654153968, 358.71081585638234, 139.2636404353703, 226.0066728426062, 193.58906102467995, 315.0198264836968, 215.65543584274343, 92.86855111271994, 43.25355758351825, 18.354309834378434, 14.497378802859409, 11.829733220736676, 11.581571207481915, 11.632226531324257, 11.1078354614052, 10.863667445188224, 24.594820841943402, 10.859758380131458, 10.735623658350473, 10.383904278309473, 10.68038463341979, 18.223865150385315, 13.947816008523004, 9.887575423928247, 9.768771738679815, 9.889807693409807, 9.899941994770511, 9.41617465038183, 9.46794963128616, 9.169972718490524, 9.169943304250294, 9.168601776507561, 21.050273855171067, 8.970748506497374, 17.99504272566081, 8.447570956938902, 8.446132442162916, 13.360068311778878, 40.06723341481874, 22.402975260040215, 20.279616507280494, 14.352638907518099, 12.421294543830554, 20.105422895634256, 23.172981170885468, 61.142016475035135, 48.563105431688506, 49.914993695418396, 50.22648348306309, 53.242742262884285, 258.6076202694, 19.834189167309823, 21.852954713560568, 226.0066728426062, 64.1429085950963, 673.2518889896737, 531.2189305806739, 100.29047146515816, 436.9534227484123, 101.144803918011, 3058.6434898017765, 1392.9269654153968, 35.134209542534954, 4086.531431470761, 56.28006143156027, 105.54455454710813, 152.82407630821425, 46.417646019965154, 49.04149558909597, 1853.2675505047828, 39.9506864838262, 315.0198264836968, 196.79390880102878, 108.98726503124567, 160.82760171082074, 489.02971095605506, 119.30006762095451, 244.051950335643, 930.7320095179133, 114.36674364000721, 321.04925817884, 203.0425938801099, 279.6074511751776, 229.64335305121384, 270.33437131804385, 301.2538935983561, 36.27102299283384, 23.619508729524636, 36.26365094831273, 24.80003942497072, 17.725282727793125, 30.10475764260955, 11.960816583854463, 11.980768219015918, 35.57373123826067, 9.358372491039775, 8.902009684290547, 7.961395794503622, 7.770676581169214, 7.523232816157721, 12.280130139132202, 6.985979548424419, 6.9844456859424895, 7.897150280954082, 6.7975873253581405, 8.027365102096558, 7.068744639759387, 6.79215409922443, 10.035509571171255, 6.472643830015788, 6.472673399997527, 6.468020500248524, 6.469078032638369, 6.200400241587743, 8.97022589364614, 6.068358566485125, 16.74791687355077, 11.196332007213552, 18.77881453284478, 11.237813944932418, 10.531868608376467, 7.706820632612614, 127.97527783848504, 10.410820323972272, 71.82166355095943, 12.875147034453965, 9.029005011783966, 12.545772109381677, 19.226016095002585, 14.410344468710539, 321.04925817884, 350.79955695160044, 25.7309269481944, 13.809608070187922, 45.49190032402354, 69.11415106742768, 489.02971095605506, 94.98922772218464, 1853.2675505047828, 4086.531431470761, 148.85596114055843, 73.94653869604146, 105.31331801349727, 3058.6434898017765, 49.74202403900019, 1392.9269654153968, 94.95368532650069, 301.2538935983561, 115.90680411192409, 315.0198264836968, 144.30258672768085, 187.40328099262192, 531.2189305806739, 930.7320095179133, 203.0425938801099, 196.79390880102878, 101.144803918011, 119.30006762095451, 13.097516595117618, 11.557601394318976, 11.105073637141448, 32.81107829365381, 14.47600227288349, 10.00435789307934, 21.011912473193796, 9.744820951750052, 9.476461419090151, 23.4080502563535, 10.2351958543765, 8.20110743975784, 7.935412473119364, 7.857009502465972, 7.667690811572612, 12.995382254720855, 11.361295666283741, 7.4287452067263935, 9.299741540835878, 7.668791771252988, 7.157596642702276, 6.892700166848917, 6.442934129593592, 6.389185118502077, 6.386562438672823, 6.12190430450386, 6.121968500192731, 6.1195596337310665, 6.116011857605268, 6.95112054040309, 8.713522350204665, 9.53344021926976, 13.155286288439623, 10.343932180649885, 35.02634457280883, 8.715051205968564, 13.876005223864682, 16.25095054985224, 15.679706272939073, 25.930770976042695, 23.719243049319928, 58.91860919348238, 68.12393762575161, 23.075339147751112, 23.56005872786577, 1392.9269654153968, 38.669689468371025, 4086.531431470761, 19.011182353329406, 42.88704663829073, 21.345321990091655, 103.42791483324157, 531.2189305806739, 3058.6434898017765, 97.28827894375019, 47.61241330880284, 930.7320095179133, 1853.2675505047828, 56.10134077375635, 83.99055610561005, 38.21751292401558, 673.2518889896737, 115.90680411192409, 229.64335305121384, 436.9534227484123, 112.46241749531964, 203.0425938801099, 270.33437131804385, 145.28682669957968], \"Category\": [\"Default\", \"Default\", \"Default\", \"Default\", \"Default\", \"Default\", \"Default\", \"Default\", \"Default\", \"Default\", \"Default\", \"Default\", \"Default\", \"Default\", \"Default\", \"Default\", \"Default\", \"Default\", \"Default\", \"Default\", \"Default\", \"Default\", \"Default\", \"Default\", \"Default\", \"Default\", \"Default\", \"Default\", \"Default\", \"Default\", \"Topic1\", \"Topic1\", \"Topic1\", \"Topic1\", \"Topic1\", \"Topic1\", \"Topic1\", \"Topic1\", \"Topic1\", \"Topic1\", \"Topic1\", \"Topic1\", \"Topic1\", \"Topic1\", \"Topic1\", \"Topic1\", \"Topic1\", \"Topic1\", \"Topic1\", \"Topic1\", \"Topic1\", \"Topic1\", \"Topic1\", \"Topic1\", \"Topic1\", \"Topic1\", \"Topic1\", \"Topic1\", \"Topic1\", \"Topic1\", \"Topic1\", \"Topic1\", \"Topic1\", \"Topic1\", \"Topic1\", \"Topic1\", \"Topic1\", \"Topic1\", \"Topic1\", \"Topic1\", \"Topic1\", \"Topic1\", \"Topic1\", \"Topic1\", \"Topic1\", \"Topic1\", \"Topic1\", \"Topic1\", \"Topic1\", \"Topic1\", \"Topic1\", \"Topic1\", \"Topic1\", \"Topic1\", \"Topic1\", \"Topic1\", \"Topic1\", \"Topic1\", \"Topic1\", \"Topic1\", \"Topic1\", \"Topic1\", \"Topic1\", \"Topic1\", \"Topic1\", \"Topic1\", \"Topic1\", \"Topic1\", \"Topic1\", \"Topic1\", \"Topic2\", \"Topic2\", \"Topic2\", \"Topic2\", \"Topic2\", \"Topic2\", \"Topic2\", \"Topic2\", \"Topic2\", \"Topic2\", \"Topic2\", \"Topic2\", \"Topic2\", \"Topic2\", \"Topic2\", \"Topic2\", \"Topic2\", \"Topic2\", \"Topic2\", \"Topic2\", \"Topic2\", \"Topic2\", \"Topic2\", \"Topic2\", \"Topic2\", \"Topic2\", \"Topic2\", \"Topic2\", \"Topic2\", \"Topic2\", \"Topic2\", \"Topic2\", \"Topic2\", \"Topic2\", \"Topic2\", \"Topic2\", \"Topic2\", \"Topic2\", \"Topic2\", \"Topic2\", \"Topic2\", \"Topic2\", \"Topic2\", \"Topic2\", \"Topic2\", \"Topic2\", \"Topic2\", \"Topic2\", \"Topic2\", \"Topic2\", \"Topic2\", \"Topic2\", \"Topic2\", \"Topic2\", \"Topic2\", \"Topic2\", \"Topic2\", \"Topic2\", \"Topic2\", \"Topic2\", \"Topic2\", \"Topic2\", \"Topic2\", \"Topic2\", \"Topic2\", \"Topic2\", \"Topic2\", \"Topic2\", \"Topic3\", \"Topic3\", \"Topic3\", \"Topic3\", \"Topic3\", \"Topic3\", \"Topic3\", \"Topic3\", \"Topic3\", \"Topic3\", \"Topic3\", \"Topic3\", \"Topic3\", \"Topic3\", \"Topic3\", \"Topic3\", \"Topic3\", \"Topic3\", \"Topic3\", \"Topic3\", \"Topic3\", \"Topic3\", \"Topic3\", \"Topic3\", \"Topic3\", \"Topic3\", \"Topic3\", \"Topic3\", \"Topic3\", \"Topic3\", \"Topic3\", \"Topic3\", \"Topic3\", \"Topic3\", \"Topic3\", \"Topic3\", \"Topic3\", \"Topic3\", \"Topic3\", \"Topic3\", \"Topic3\", \"Topic3\", \"Topic3\", \"Topic3\", \"Topic3\", \"Topic3\", \"Topic3\", \"Topic3\", \"Topic3\", \"Topic3\", \"Topic3\", \"Topic3\", \"Topic3\", \"Topic3\", \"Topic3\", \"Topic3\", \"Topic3\", \"Topic3\", \"Topic3\", \"Topic3\", \"Topic3\", \"Topic3\", \"Topic3\", \"Topic3\", \"Topic3\", \"Topic3\", \"Topic3\", \"Topic3\", \"Topic3\", \"Topic3\", \"Topic3\", \"Topic3\", \"Topic3\", \"Topic3\", \"Topic3\", \"Topic3\", \"Topic3\", \"Topic3\", \"Topic4\", \"Topic4\", \"Topic4\", \"Topic4\", \"Topic4\", \"Topic4\", \"Topic4\", \"Topic4\", \"Topic4\", \"Topic4\", \"Topic4\", \"Topic4\", \"Topic4\", \"Topic4\", \"Topic4\", \"Topic4\", \"Topic4\", \"Topic4\", \"Topic4\", \"Topic4\", \"Topic4\", \"Topic4\", \"Topic4\", \"Topic4\", \"Topic4\", \"Topic4\", \"Topic4\", \"Topic4\", \"Topic4\", \"Topic4\", \"Topic4\", \"Topic4\", \"Topic4\", \"Topic4\", \"Topic4\", \"Topic4\", \"Topic4\", \"Topic4\", \"Topic4\", \"Topic4\", \"Topic4\", \"Topic4\", \"Topic4\", \"Topic4\", \"Topic4\", \"Topic4\", \"Topic4\", \"Topic4\", \"Topic4\", \"Topic4\", \"Topic4\", \"Topic4\", \"Topic4\", \"Topic4\", \"Topic4\", \"Topic4\", \"Topic4\", \"Topic4\", \"Topic4\", \"Topic4\", \"Topic4\", \"Topic4\", \"Topic4\", \"Topic4\", \"Topic4\", \"Topic4\", \"Topic4\", \"Topic4\", \"Topic4\", \"Topic4\", \"Topic4\", \"Topic4\", \"Topic5\", \"Topic5\", \"Topic5\", \"Topic5\", \"Topic5\", \"Topic5\", \"Topic5\", \"Topic5\", \"Topic5\", \"Topic5\", \"Topic5\", \"Topic5\", \"Topic5\", \"Topic5\", \"Topic5\", \"Topic5\", \"Topic5\", \"Topic5\", \"Topic5\", \"Topic5\", \"Topic5\", \"Topic5\", \"Topic5\", \"Topic5\", \"Topic5\", \"Topic5\", \"Topic5\", \"Topic5\", \"Topic5\", \"Topic5\", \"Topic5\", \"Topic5\", \"Topic5\", \"Topic5\", \"Topic5\", \"Topic5\", \"Topic5\", \"Topic5\", \"Topic5\", \"Topic5\", \"Topic5\", \"Topic5\", \"Topic5\", \"Topic5\", \"Topic5\", \"Topic5\", \"Topic5\", \"Topic5\", \"Topic5\", \"Topic5\", \"Topic5\", \"Topic5\", \"Topic5\", \"Topic5\", \"Topic5\", \"Topic5\", \"Topic5\", \"Topic5\", \"Topic5\", \"Topic5\", \"Topic5\", \"Topic5\", \"Topic5\", \"Topic5\", \"Topic5\", \"Topic5\", \"Topic5\", \"Topic5\", \"Topic5\"], \"logprob\": [30.0, 29.0, 28.0, 27.0, 26.0, 25.0, 24.0, 23.0, 22.0, 21.0, 20.0, 19.0, 18.0, 17.0, 16.0, 15.0, 14.0, 13.0, 12.0, 11.0, 10.0, 9.0, 8.0, 7.0, 6.0, 5.0, 4.0, 3.0, 2.0, 1.0, -6.2307, -6.0857, -6.4725, -6.5616, -6.7887, -6.7887, -6.8056, -6.7308, -6.8414, -6.2928, -6.2259, -5.8237, -6.587, -5.2012, -6.3019, -7.0678, -7.0216, -6.4278, -7.1283, -6.3501, -7.1289, -6.951, -6.288, -7.233, -7.2422, -7.223, -7.2653, -7.3025, -7.3031, -7.272, -5.9271, -5.6824, -5.718, -6.4854, -6.6639, -6.2709, -5.1472, -5.7127, -4.3144, -5.019, -5.0255, -4.1254, -6.2823, -5.0362, -5.4789, -5.2325, -6.1931, -4.8262, -5.7861, -2.3642, -4.6689, -2.6402, -4.8129, -3.9345, -4.7306, -3.4347, -3.2363, -5.3305, -4.462, -5.257, -5.5859, -4.4989, -4.2523, -5.4648, -5.2933, -4.9045, -5.0044, -5.221, -5.3385, -5.5593, -5.7306, -5.7461, -5.8398, -5.8628, -6.6482, -6.6485, -6.6653, -5.3886, -6.7916, -5.5795, -6.9194, -6.9194, -6.9493, -6.9768, -5.5724, -5.7084, -7.0459, -7.0616, -7.0745, -7.0938, -7.1699, -7.2103, -7.2441, -7.247, -7.2132, -7.2689, -7.2929, -7.2943, -6.6058, -7.0961, -6.5966, -7.0137, -5.2384, -6.1405, -6.1094, -5.6546, -5.36, -6.1897, -4.9454, -6.0503, -5.8026, -4.5762, -6.418, -5.7287, -3.3076, -5.4755, -5.4581, -6.1447, -5.0775, -4.4789, -2.6392, -2.8795, -3.2801, -4.8062, -4.7074, -5.1362, -5.137, -5.1068, -5.5677, -4.8719, -4.5295, -5.1491, -5.4732, -5.3625, -5.4273, -5.4658, -5.5496, -5.6494, -5.6534, -6.5252, -6.7692, -6.9868, -7.0082, -7.0061, -7.0528, -7.0755, -6.2603, -7.078, -7.091, -7.1251, -7.0974, -6.5636, -6.8316, -7.1781, -7.1904, -7.1787, -7.178, -7.2305, -7.2254, -7.2585, -7.2585, -7.2601, -6.4291, -7.2832, -6.5878, -7.3482, -7.3491, -6.8924, -5.7959, -6.3863, -6.4859, -6.8236, -6.9688, -6.5137, -6.3948, -5.505, -5.7269, -5.7211, -5.726, -5.6784, -4.3205, -6.5624, -6.4809, -4.5053, -5.6178, -3.6978, -3.9521, -5.2875, -4.1272, -5.2955, -2.7442, -3.4183, -6.1531, -2.7021, -5.8097, -5.3722, -5.114, -5.9542, -5.9242, -3.5313, -6.0603, -4.8396, -5.147, -5.4925, -5.2881, -4.6812, -5.4762, -5.1432, -4.5337, -5.5745, -5.2373, -5.4222, -5.3735, -5.4178, -5.436, -5.441, -5.3866, -5.8174, -5.3959, -5.782, -6.1191, -5.5943, -6.529, -6.5289, -5.4431, -6.7973, -6.8509, -6.9688, -6.9952, -7.0316, -6.5432, -7.1134, -7.1142, -6.9937, -7.1436, -6.9775, -7.1053, -7.1469, -6.7595, -7.1985, -7.1985, -7.2029, -7.2039, -7.2481, -6.8795, -7.2715, -6.26, -6.6602, -6.1513, -6.6641, -6.7349, -7.0341, -4.413, -6.7527, -4.9992, -6.5761, -6.8894, -6.6084, -6.2449, -6.4924, -3.9572, -3.898, -6.0241, -6.5342, -5.6046, -5.2815, -3.8189, -5.1554, -3.1121, -2.5967, -4.9081, -5.4007, -5.1689, -3.1895, -5.7632, -3.8728, -5.4066, -4.774, -5.2994, -4.8491, -5.2699, -5.1898, -4.7821, -4.7071, -5.302, -5.3216, -5.5932, -5.583, -6.1451, -6.2769, -6.3198, -5.2436, -6.0634, -6.434, -5.6924, -6.461, -6.4916, -5.5912, -6.4209, -6.6475, -6.6835, -6.6946, -6.722, -6.1948, -6.3296, -6.7562, -6.5348, -6.7301, -6.8008, -6.8409, -6.9161, -6.9252, -6.9271, -6.9741, -6.9744, -6.9759, -6.9796, -6.8547, -6.6395, -6.5553, -6.2543, -6.487, -5.3793, -6.6478, -6.2431, -6.1081, -6.1634, -5.7831, -5.8886, -5.2843, -5.1983, -5.9995, -5.9961, -3.3917, -5.6921, -2.8465, -6.1382, -5.6667, -6.0776, -5.2321, -4.4688, -3.6827, -5.3685, -5.7022, -4.619, -4.3833, -5.7154, -5.6124, -5.8999, -5.0181, -5.5882, -5.4137, -5.3032, -5.7045, -5.6563, -5.7196, -5.8554], \"loglift\": [30.0, 29.0, 28.0, 27.0, 26.0, 25.0, 24.0, 23.0, 22.0, 21.0, 20.0, 19.0, 18.0, 17.0, 16.0, 15.0, 14.0, 13.0, 12.0, 11.0, 10.0, 9.0, 8.0, 7.0, 6.0, 5.0, 4.0, 3.0, 2.0, 1.0, 1.1865, 1.1843, 1.1812, 1.1807, 1.1732, 1.1732, 1.1725, 1.1721, 1.171, 1.1706, 1.1675, 1.1672, 1.1618, 1.1611, 1.1611, 1.1601, 1.1573, 1.1562, 1.1557, 1.1555, 1.1549, 1.1538, 1.152, 1.151, 1.1502, 1.1496, 1.1479, 1.1468, 1.1462, 1.1459, 1.1409, 1.1239, 1.1243, 1.1283, 1.1286, 1.1016, 1.0331, 1.0511, 0.9424, 0.9803, 0.9791, 0.8822, 1.0914, 0.935, 0.977, 0.9171, 1.0715, 0.7983, 0.9897, 0.2105, 0.7264, 0.2243, 0.7036, 0.4436, 0.6622, 0.2163, 0.1292, 0.8119, 0.3484, 0.6968, 0.8337, 0.1989, -0.1981, 0.686, 0.5165, 0.1255, 0.1331, -0.1025, -0.7235, -0.2688, 1.4582, 1.4579, 1.4563, 1.4474, 1.4309, 1.4308, 1.4306, 1.4268, 1.4224, 1.4196, 1.4181, 1.4181, 1.4162, 1.4145, 1.4144, 1.4111, 1.4106, 1.41, 1.4094, 1.404, 1.4032, 1.3989, 1.3976, 1.3971, 1.3964, 1.3959, 1.3935, 1.3925, 1.3925, 1.39, 1.3602, 1.3806, 1.2651, 1.3226, 1.3163, 1.269, 1.2415, 1.3136, 1.1848, 1.2933, 1.2631, 1.0807, 1.3138, 1.1875, 0.7466, 1.1416, 1.1233, 1.2553, 0.992, 0.7034, -0.0645, -0.015, 0.0854, 0.6474, 0.5831, 0.7753, 0.7502, 0.47, 0.7691, -0.2569, -0.8785, -0.1414, 0.4806, 0.1071, 0.1972, -0.3283, -0.0331, 0.7096, 1.4697, 1.4552, 1.447, 1.4328, 1.4326, 1.4303, 1.4297, 1.4292, 1.4273, 1.4271, 1.4256, 1.4248, 1.4244, 1.4239, 1.4233, 1.4208, 1.4206, 1.42, 1.4196, 1.4172, 1.4168, 1.4158, 1.4157, 1.4143, 1.4141, 1.413, 1.4123, 1.4081, 1.4074, 1.4055, 1.4038, 1.3947, 1.3947, 1.4027, 1.4019, 1.3755, 1.3524, 1.272, 1.2805, 1.2588, 1.2477, 1.237, 1.0144, 1.3404, 1.3249, 0.9643, 1.1112, 0.6803, 0.6629, 0.9946, 0.6831, 0.9782, 0.1202, 0.2328, 1.1779, -0.1273, 1.0502, 0.8588, 0.7469, 1.0983, 1.0734, -0.1658, 1.1422, 0.2979, 0.4611, 0.7065, 0.5217, 0.0166, 0.6323, 0.2496, -0.4795, 0.5763, -0.1187, 0.1546, -0.1167, 0.0358, -0.1455, -0.2588, 1.9126, 1.9107, 1.9035, 1.8973, 1.8961, 1.8912, 1.8796, 1.8779, 1.8755, 1.8566, 1.853, 1.8468, 1.8447, 1.8405, 1.839, 1.8328, 1.8323, 1.83, 1.83, 1.8298, 1.8292, 1.8275, 1.8246, 1.8241, 1.8241, 1.8204, 1.8193, 1.8174, 1.8167, 1.8156, 1.8119, 1.8144, 1.8062, 1.8068, 1.8009, 1.814, 1.6253, 1.7946, 1.6168, 1.7588, 1.8004, 1.7524, 1.689, 1.7298, 1.1613, 1.132, 1.6184, 1.7306, 1.468, 1.3729, 0.8789, 1.181, 0.2534, -0.0219, 0.9791, 1.1862, 1.0644, -0.3251, 1.2201, -0.2218, 0.9302, 0.4082, 0.838, 0.2885, 0.6483, 0.4671, -0.1671, -0.6529, 0.2747, 0.2865, 0.6804, 0.5255, 2.1726, 2.1659, 2.163, 2.1558, 2.1543, 2.1531, 2.1527, 2.1525, 2.1497, 2.1459, 2.1434, 2.1384, 2.1353, 2.1342, 2.1311, 2.1308, 2.1304, 2.1287, 2.1254, 2.1229, 2.1212, 2.1188, 2.1111, 2.1103, 2.1089, 2.1042, 2.1039, 2.1028, 2.0997, 2.0966, 2.0858, 2.0801, 2.0591, 2.0668, 1.9548, 2.0773, 2.017, 1.994, 1.9744, 1.8516, 1.8353, 1.5297, 1.4706, 1.7519, 1.7345, 0.2593, 1.543, -0.2718, 1.8069, 1.4649, 1.7518, 1.0192, 0.1462, -0.8183, 0.944, 1.3249, -0.5648, -1.0178, 1.1476, 0.847, 1.347, -0.64, 0.5492, 0.04, -0.4928, 0.463, -0.0796, -0.429, 0.056]}, \"token.table\": {\"Topic\": [1, 2, 3, 4, 3, 5, 1, 2, 3, 4, 1, 2, 3, 5, 1, 2, 5, 3, 1, 3, 4, 5, 2, 1, 5, 2, 5, 2, 4, 5, 1, 5, 2, 3, 4, 1, 1, 2, 3, 4, 5, 1, 1, 2, 3, 4, 5, 4, 5, 4, 2, 3, 1, 3, 4, 5, 1, 4, 5, 1, 2, 3, 5, 4, 1, 2, 3, 4, 5, 1, 4, 5, 1, 4, 1, 5, 1, 2, 5, 3, 4, 3, 1, 2, 5, 1, 2, 3, 4, 5, 1, 2, 4, 5, 1, 2, 3, 4, 5, 1, 2, 3, 4, 5, 1, 2, 3, 4, 5, 1, 2, 3, 4, 5, 1, 2, 3, 4, 5, 3, 2, 4, 5, 2, 4, 5, 1, 3, 2, 4, 5, 1, 2, 1, 5, 2, 5, 3, 4, 4, 1, 3, 4, 2, 1, 5, 1, 3, 1, 2, 5, 2, 3, 1, 5, 1, 2, 1, 4, 5, 4, 5, 1, 2, 3, 4, 1, 2, 3, 1, 2, 3, 4, 5, 1, 2, 3, 4, 5, 2, 2, 3, 1, 2, 3, 4, 5, 1, 2, 3, 4, 5, 3, 4, 5, 1, 2, 3, 1, 4, 5, 1, 2, 3, 4, 5, 1, 2, 1, 3, 2, 4, 1, 2, 3, 4, 5, 1, 3, 2, 2, 4, 1, 2, 3, 4, 5, 1, 2, 3, 4, 5, 3, 4, 1, 2, 3, 4, 5, 1, 2, 3, 4, 5, 4, 1, 2, 3, 4, 5, 3, 1, 2, 3, 5, 2, 3, 2, 1, 2, 3, 4, 5, 1, 2, 3, 5, 1, 2, 3, 4, 4, 1, 2, 4, 2, 3, 4, 5, 1, 2, 3, 5, 1, 3, 2, 3, 4, 5, 1, 2, 3, 4, 5, 3, 2, 4, 1, 2, 3, 4, 5, 3, 1, 2, 2, 5, 1, 1, 2, 3, 4, 5, 4, 5, 5, 1, 2, 3, 4, 5, 1, 2, 3, 4, 3, 1, 2, 3, 4, 5, 4, 4, 4, 1, 2, 3, 4, 3, 2, 3, 1, 5, 1, 2, 3, 4, 5, 5, 1, 2, 1, 2, 3, 4, 5, 1, 2, 3, 4, 5, 2, 5, 3, 1, 3, 5, 1, 2, 4, 1, 2, 3, 4, 5, 1, 2, 3, 4, 5, 1, 2, 3, 5, 3, 1, 2, 3, 4, 5, 1, 3, 4, 4, 5, 1, 2, 3, 4, 3, 1, 4, 1, 2, 3, 4, 5, 1, 2, 3, 4, 5, 1, 3, 5, 3, 5, 1, 4, 1, 1, 2, 3, 5, 4, 2, 5, 4, 1, 3, 3, 1, 2, 3, 1, 2, 3, 5, 1, 2, 3, 4, 5, 5, 1, 2, 3, 4, 1, 2, 3, 4, 5, 2, 1, 2, 3, 4, 5, 3, 1, 2, 3, 4, 5, 1, 2, 3, 4, 5, 1, 2, 3, 4, 1, 3, 2, 1, 2, 3, 5, 5, 2, 3, 1, 2, 3, 4, 5, 1, 2, 3, 4, 5, 1, 2, 3, 4, 1, 3, 5, 1, 3, 4, 1, 2, 3, 4, 5, 2, 3, 1, 2, 3, 4, 5, 1, 2, 3, 4, 5, 2, 4, 1, 2, 4, 5, 1, 5, 2, 5, 3, 5, 1, 1, 4, 1, 3, 4, 1, 2, 3, 4, 2, 5, 2, 4, 5, 2, 3, 1, 1, 2, 3, 4, 5, 3, 1, 2, 3, 4, 5, 1, 2, 3, 4, 5, 1, 2, 3, 5, 1, 2, 3, 1, 2, 3, 5, 1, 5, 1, 2, 3, 4, 5, 4, 1, 2, 3, 4, 5, 1, 3, 4, 5, 5, 1, 2, 2, 1, 2, 3, 5, 2, 3, 4, 1, 2, 3, 4, 5, 1, 2, 3, 1, 3, 5, 2, 1, 2, 5, 5, 4, 1, 1, 3, 1, 1, 2, 3, 4, 5, 1, 2, 3, 4, 5, 4, 2, 1, 4, 1, 4, 5, 1, 2, 3, 4, 5, 1, 2, 3, 4, 5, 2, 1, 4, 5, 1, 1, 2, 3, 4, 5, 1, 2, 3, 4, 5, 1, 2, 3, 4, 5, 1, 2, 3, 1, 2, 1, 2, 3, 4, 5, 3, 5, 1, 2, 3, 4, 5, 5, 1, 2, 3, 4, 5, 1, 5, 1, 2, 3, 4, 5, 1, 1, 3, 5, 3, 1, 2, 3, 1, 2, 3, 4, 5, 1, 2, 3, 4, 5, 2, 1, 2, 3, 4, 5, 1, 2, 3, 4, 1, 4, 5, 1, 2, 3, 4, 5, 5, 4, 1, 2, 3, 4, 5, 2, 3, 1, 2, 4, 2, 3, 1, 2, 4], \"Freq\": [0.03399214695377033, 0.9517801147055692, 0.016996073476885164, 0.926978242210087, 0.8981990001817748, 0.07484991668181457, 0.18781902612426177, 0.01878190261242618, 0.7700580071094733, 0.01878190261242618, 0.038564221670227036, 0.038564221670227036, 0.23138533002136222, 0.6941559900640867, 0.07601506938535901, 0.07601506938535901, 0.8361657632389492, 0.9102332588249809, 0.8789205885440051, 0.05326791445721243, 0.026633957228606214, 0.026633957228606214, 0.9875724795452344, 0.11474401886648045, 0.8032081320653631, 0.06907984546764022, 0.8980379910793228, 0.09494991223159158, 0.8545492100843242, 0.09494991223159158, 0.9579295131729139, 0.899607960469495, 0.06939459373586242, 0.06939459373586242, 0.832735124830349, 0.9509837933311825, 0.025696920606093642, 0.7452106975767155, 0.11135332262640578, 0.08565640202031213, 0.017131280404062428, 0.9596014322223585, 0.13990238242805547, 0.13990238242805547, 0.09326825495203699, 0.1632194461660647, 0.4663412747601849, 0.8956337742330703, 0.05970891828220468, 0.9276408446400966, 0.9046918324854809, 0.10643433323358599, 0.8554702634148384, 0.04842284509895312, 0.08070474183158853, 0.016140948366317708, 0.03047751101168218, 0.03047751101168218, 0.9143253303504654, 0.7598729738486104, 0.01461294180478097, 0.16074235985259067, 0.06575823812151436, 0.8792428087588173, 0.1880139493413354, 0.20833978170256082, 0.3557020663214453, 0.19309540743164175, 0.06097749708367634, 0.98770031960467, 0.8957559794050631, 0.08143236176409664, 0.15941625454079533, 0.7970812727039767, 0.9049521929202269, 0.8909242120431452, 0.12306972406719831, 0.061534862033599154, 0.799953206436789, 0.09605391015128457, 0.8644851913615612, 0.945648708815828, 0.05546910670595003, 0.9429748140011506, 0.05546910670595003, 0.4210975138783681, 0.061791483014760534, 0.4416946748832883, 0.009154293779964524, 0.06636862990474279, 0.44228196228506744, 0.04020745111682431, 0.4824894134018917, 0.020103725558412156, 0.3690071430605951, 0.09476448031906334, 0.2821397027681204, 0.11486603675037982, 0.1392750695598355, 0.3363744271098962, 0.09977207583768108, 0.11117459879055891, 0.44469839516223564, 0.008551892214658378, 0.3668147486780747, 0.21436272170913503, 0.19674386787002804, 0.14046141810621404, 0.08197661161251169, 0.14494965365001491, 0.17695152523508315, 0.43296649791562897, 0.12047763420260979, 0.12424256027144134, 0.7617822740587583, 0.01788221300607414, 0.20028078566803034, 0.0035764426012148275, 0.01788221300607414, 0.947179085194564, 0.934457187336215, 0.08801813009476041, 0.8801813009476042, 0.9445074339134997, 0.023036766680817066, 0.023036766680817066, 0.9627801467787741, 0.9630289082006086, 0.04759205052256724, 0.04759205052256724, 0.9042489599287776, 0.9418598821143133, 0.03247792696945908, 0.14413370186401306, 0.7927353602520718, 0.9721924308536876, 0.8170522552701269, 0.8724154266354055, 0.8826661156109358, 0.9617056821169598, 0.5945784398132725, 0.3934710263470186, 0.008743800585489302, 0.9624801468360292, 0.11476415160357187, 0.9181132128285749, 0.06967359845416211, 0.9057567799041075, 0.2630031055971832, 0.10520124223887328, 0.6312074534332397, 0.05487310138370161, 0.9328427235229274, 0.8900811478463639, 0.0890081147846364, 0.9693874462917577, 0.030293357696617427, 0.9789566291930598, 0.9196696498839854, 0.8167393267355585, 0.8488070096989999, 0.9390868927282984, 0.16473411098582305, 0.02059176387322788, 0.8030787910558873, 0.02059176387322788, 0.08630741056799372, 0.04315370528399686, 0.8630741056799373, 0.05172009466576797, 0.23274042599595585, 0.07758014199865194, 0.12930023666441992, 0.4913408993247957, 0.4974270532482701, 0.06839621982163713, 0.3792881281018059, 0.0062178381656033755, 0.049742705324827004, 0.963599377825693, 0.8830483502159557, 0.9558021525901759, 0.1321121519640095, 0.20550779194401475, 0.11743302396800843, 0.07339563998000527, 0.46973209587203374, 0.6611943842409658, 0.27894138085165743, 0.03615906788817781, 0.02066232450753018, 0.005165581126882545, 0.046848672531817175, 0.3279407077227202, 0.6090327429136233, 0.045760402339527245, 0.09152080467905449, 0.8236872421114905, 0.07241335126366058, 0.7965468639002664, 0.14482670252732116, 0.052657250561759364, 0.494978155280538, 0.06318870067411124, 0.3686007539323155, 0.03159435033705562, 0.5276274843625574, 0.4630200372977544, 0.9490428290450409, 0.03389438675160861, 0.9785989368979838, 0.8986734775314464, 0.8005048634017181, 0.04901050184092152, 0.016336833946973838, 0.016336833946973838, 0.1306946715757907, 0.952087690506811, 0.020257184904400233, 0.8834271535648655, 0.9622109643036555, 0.9590820220511412, 0.17853771709584992, 0.4354578465752437, 0.23079265868487917, 0.04354578465752437, 0.11321904010956337, 0.7192423216569414, 0.1979310265024916, 0.03624089217651255, 0.033453131239857735, 0.013938804683274056, 0.0996461607562683, 0.8968154468064147, 0.21826263115655303, 0.09354112763852274, 0.6859682693491667, 0.015590187939753789, 0.015590187939753789, 0.2678716670701473, 0.07164009700713243, 0.19934635688941196, 0.4578736634803681, 0.003114786826397062, 0.9304510668559972, 0.07772747573481198, 0.11659121360221797, 0.07772747573481198, 0.7384110194807139, 0.03886373786740599, 0.8725430763606905, 0.013723750676172198, 0.7959775392179874, 0.15096125743789418, 0.04117125202851659, 0.989431202343849, 0.8724126282152, 0.9014912373796871, 0.09148841289304994, 0.7928995784064329, 0.030496137631016648, 0.060992275262033296, 0.030496137631016648, 0.04244471593006877, 0.1697788637202751, 0.1697788637202751, 0.5942260230209628, 0.02017402737350531, 0.9481792865547495, 0.02017402737350531, 0.02017402737350531, 0.9082863522706637, 0.053251497758336465, 0.053251497758336465, 0.8520239641333834, 0.8358905768217101, 0.05764762598770415, 0.028823812993852074, 0.05764762598770415, 0.6864834854297281, 0.27459339417189127, 0.022882782847657605, 0.011441391423828802, 0.8910853241353724, 0.08910853241353725, 0.11448755542529689, 0.8014128879770782, 0.0163553650607567, 0.08177682530378348, 0.29765251189151437, 0.4048074161724595, 0.03571830142698172, 0.011906100475660574, 0.25002810998887204, 0.921303132139342, 0.11075417487252212, 0.886033398980177, 0.024884727262201325, 0.808753636021543, 0.062211818155503314, 0.08709654541770465, 0.024884727262201325, 0.9656918116286437, 0.12515578511992487, 0.8448015495594929, 0.9039020716226233, 0.8793187866699846, 0.9564420652036151, 0.08545927684897872, 0.25637783054693614, 0.20890045451972575, 0.4178009090394515, 0.02848642561632624, 0.09667503445843091, 0.8700753101258781, 0.8167307623099647, 0.17918833603063006, 0.01990981511451445, 0.7764827894660636, 0.01990981511451445, 0.01990981511451445, 0.793273546666908, 0.20398462628577632, 0.0075549861587324565, 0.8720171452238749, 0.9497847747025716, 0.9506724191730992, 0.010803095672421582, 0.010803095672421582, 0.010803095672421582, 0.010803095672421582, 0.8863956935050634, 0.8588630926286076, 0.9008224608090363, 0.13189161053427123, 0.04396387017809041, 0.21981935089045204, 0.6154941824932657, 0.9505753991614135, 0.9647611568243654, 0.9362958679137069, 0.9238980253109705, 0.900489301264471, 0.08372627474429306, 0.3644555488869228, 0.261028974202796, 0.1871528494284198, 0.09850149969916831, 0.9312527304044421, 0.7423979555327863, 0.2532887142405977, 0.11504085110843924, 0.2522049428146553, 0.5840535517813069, 0.03097253683688749, 0.013273944358666067, 0.18932596774471414, 0.13523283410336723, 0.12170955069303051, 0.4733149193617853, 0.08113970046202033, 0.934460023962424, 0.9127904641041368, 0.9204994584429439, 0.909513634833352, 0.03368569017901304, 0.05052853526851955, 0.03247919099763874, 0.8444589659386073, 0.06495838199527748, 0.08681290166099859, 0.1591569863784974, 0.17362580332199717, 0.5642838607964908, 0.014468816943499765, 0.11215907555734776, 0.3364772266720433, 0.03451048478687623, 0.3278496054753242, 0.18980766632781929, 0.01893772546700948, 0.8143221950814075, 0.13256407826906633, 0.03787545093401896, 0.9002654058700782, 0.40013367133845196, 0.12448603108307395, 0.23118834343999448, 0.0800267342676904, 0.1689453278984575, 0.9031307700363407, 0.045156538501817035, 0.045156538501817035, 0.9651537858084439, 0.027575822451669826, 0.16725949072229412, 0.71085283556975, 0.05575316357409804, 0.05575316357409804, 0.9470177925441083, 0.04032251654378895, 0.9677403970509347, 0.2682823347632186, 0.18321720422853954, 0.47112995373053024, 0.006543471579590698, 0.07197818737549767, 0.3383213610086796, 0.24874983640351084, 0.189395211665146, 0.18507851168417402, 0.0388502998287479, 0.2665242293354787, 0.639658150405149, 0.0888414097784929, 0.9710183935483744, 0.02311948556067558, 0.9627675330569457, 0.8833721838974645, 0.9302696952696594, 0.028462288266066095, 0.14231144133033047, 0.7115572066516523, 0.08538686479819828, 0.8590517085809871, 0.9141018611491608, 0.8602389609293319, 0.9181381192685759, 0.0994756494494968, 0.8952808450454711, 0.9298603607322088, 0.9255185405569631, 0.08050690662485603, 0.8855759728734163, 0.15699608742016408, 0.2878261602703008, 0.15699608742016408, 0.41865623312043754, 0.035649771866692714, 0.44562214833365893, 0.035649771866692714, 0.16042397340011721, 0.3386728327335808, 0.9235675077625422, 0.10875496885551048, 0.009886815350500953, 0.5932089210300572, 0.28671764516452763, 0.6161820281772603, 0.15609944713823928, 0.15609944713823928, 0.024647281127090415, 0.045186682066332425, 0.9522942295148974, 0.42541706531492857, 0.12569140566122888, 0.10635426632873214, 0.038674278664993504, 0.2997256596536997, 0.9208308002778004, 0.9078227446083902, 0.017458129704007504, 0.05237438911202251, 0.017458129704007504, 0.9497215893128285, 0.6028134625588403, 0.2225772784832641, 0.16693295886244808, 0.004637026635068002, 0.004637026635068002, 0.1803065438597079, 0.020034060428856432, 0.7813283567254009, 0.020034060428856432, 0.9594788320664979, 0.9100278063037827, 0.9776380911770467, 0.044636928282632264, 0.044636928282632264, 0.8927385656526453, 0.044636928282632264, 0.8382702043034884, 0.05557085999990468, 0.8891337599984749, 0.12281998933872668, 0.4614048248130543, 0.17261187690848073, 0.21576484613560093, 0.029875132541852437, 0.29337787226746226, 0.03352889968770997, 0.4191112460963746, 0.24308452273589728, 0.008382224921927493, 0.1406521658246949, 0.0312560368499322, 0.0937681105497966, 0.7267028567609236, 0.07487414888222503, 0.8984897865867004, 0.024958049627408347, 0.9062784480852064, 0.07552320400710053, 0.9269740073710953, 0.1856093797622701, 0.09280468988113505, 0.6148310704625196, 0.046402344940567525, 0.0580029311757094, 0.960984326112921, 0.9314782557808569, 0.032016515229721196, 0.6723468198241451, 0.06403303045944239, 0.22945169247966857, 0.005336085871620199, 0.24389405078866697, 0.4824159859211959, 0.1386005839283614, 0.07520961918593254, 0.06124211847997364, 0.11147991275318136, 0.8918393020254509, 0.26001784682695556, 0.08667261560898519, 0.043336307804492595, 0.6067083092628963, 0.9409291827507946, 0.04376414803492068, 0.8870700661892595, 0.9162042218349438, 0.1048939288441458, 0.8391514307531664, 0.9785504649365747, 0.964030159736415, 0.026778615548233752, 0.028110630096751518, 0.028110630096751518, 0.9276507931928001, 0.0696168781505926, 0.04177012689035556, 0.16708050756142223, 0.724015532766163, 0.9393956496056558, 0.04084328911328938, 0.08898527817778476, 0.8898527817778477, 0.9394725343430363, 0.04750532021009061, 0.9026010839917216, 0.9770843968733467, 0.8375400115336137, 0.03602322630252102, 0.04502903287815127, 0.027017419726890764, 0.05403483945378153, 0.909096235589472, 0.29808318447864746, 0.31864064547717486, 0.08222984399410964, 0.02055746099852741, 0.27752572348012006, 0.37206036067765164, 0.22526325879341122, 0.2517455867502564, 0.10364071558419645, 0.047406636465957365, 0.1192799910730214, 0.3486645892903702, 0.4495938125060037, 0.07340307142955163, 0.04365868930455426, 0.8076857521342538, 0.13097606791366279, 0.5959918880514888, 0.3662118830195895, 0.028722500628987412, 0.007180625157246853, 0.9617296722239093, 0.8175262109380141, 0.14212007492347686, 0.1894934332313025, 0.530581613047647, 0.05684802996939075, 0.075797373292521, 0.964957619389865, 0.7890021535077222, 0.20288626804484283, 0.0075143062238830684, 0.9737713118160564, 0.9517545747344203, 0.10083598493132989, 0.8571058719163042, 0.050417992465664946, 0.050417992465664946, 0.8631701845947366, 0.08243011178692189, 0.9067312296561408, 0.9756315455700768, 0.2242998478709889, 0.040781790521997985, 0.6525086483519678, 0.08156358104399597, 0.8499460230124913, 0.08499460230124913, 0.04249730115062456, 0.05709987794594508, 0.11419975589189016, 0.02854993897297254, 0.02854993897297254, 0.7708483522702585, 0.04931059715261354, 0.04931059715261354, 0.8875907487470437, 0.12755340981429694, 0.06377670490714847, 0.7653204588857816, 0.9196837043417926, 0.16863944568900088, 0.16863944568900088, 0.6745577827560035, 0.8821217578433376, 0.9274891985733152, 0.9678834144914281, 0.9422416871127317, 0.032491092659059716, 0.9826175626628301, 0.15080471760651457, 0.04308706217328988, 0.6678494636859931, 0.06463059325993481, 0.06463059325993481, 0.07519087270108046, 0.7519087270108046, 0.03759543635054023, 0.07519087270108046, 0.07519087270108046, 0.8063995557034629, 0.9034553487818856, 0.08931496487918739, 0.8931496487918739, 0.9521882922001489, 0.03173960974000496, 0.03173960974000496, 0.46342239079077496, 0.01633860993172604, 0.4411424681566031, 0.022279922634171872, 0.056442470673235406, 0.361941199143022, 0.05930110042456292, 0.2269800740388443, 0.34558227488797016, 0.00408973106376296, 0.9199718324451971, 0.04272034573783334, 0.04272034573783334, 0.9398476062323335, 0.9581289632792548, 0.1473851334063464, 0.05263754764512371, 0.2631877382256186, 0.46321041927708867, 0.0736925667031732, 0.13578053028592138, 0.033945132571480345, 0.08486283142870085, 0.2545884942861026, 0.492204422286465, 0.03358951809312299, 0.48368906054097105, 0.08733274704211977, 0.38292050626160207, 0.013435807237249195, 0.04065896663474062, 0.04065896663474062, 0.9351562325990342, 0.9530806445764829, 0.03665694786832627, 0.02100292613848907, 0.3990555966312923, 0.1260175568309344, 0.04200585227697814, 0.3990555966312923, 0.8917873457499922, 0.9422856492186347, 0.0894781742799095, 0.49557142678103727, 0.15830753911060913, 0.1445416661444692, 0.11700992021218935, 0.9129215264438041, 0.2256464825489561, 0.41060261578580537, 0.19235437856632323, 0.0998763119478986, 0.07028333063000272, 0.07695041056885635, 0.9234049268262763, 0.7948944314646772, 0.04745638396804042, 0.011864095992010106, 0.04745638396804042, 0.10677686392809096, 0.9283581674181841, 0.050061717983486666, 0.7008640517688134, 0.2503085899174333, 0.932045561258922, 0.9579124752972794, 0.9499943643660406, 0.9806960960354502, 0.33966116099533045, 0.165068975436983, 0.3015683205098728, 0.1904642024272881, 0.0031744033737881347, 0.31877460441376865, 0.09008847516041286, 0.29105507359518007, 0.2771953081858858, 0.027719530818588575, 0.9795586733791861, 0.6676391257568218, 0.008670637996841842, 0.19942467392736238, 0.008670637996841842, 0.11271829395894395, 0.25924696155240073, 0.05982622189670786, 0.6082332559498632, 0.07976829586227714, 0.07766901592067216, 0.8543591751273938, 0.8535432624702567, 0.08867875315639745, 0.6126895672623823, 0.008061704832399768, 0.16929580148039514, 0.11286386765359675, 0.8704861454524829, 0.8239460383264839, 0.5777458438913667, 0.12292464763646102, 0.286824177818409, 0.008194976509097401, 0.0040974882545487005, 0.6993852301722223, 0.282444035261859, 0.052012855656556424, 0.15603856696966925, 0.7801928348483463, 0.8453825591066942, 0.13526120945707107, 0.0332173409888085, 0.0332173409888085, 0.9633028886754463], \"Term\": [\"100\", \"100\", \"100\", \"116gc7\", \"13\", \"13\", \"14\", \"14\", \"14\", \"14\", \"15\", \"15\", \"15\", \"15\", \"15th\", \"15th\", \"15th\", \"183\", \"19\", \"19\", \"19\", \"19\", \"200\", \"200k\", \"200k\", \"40\", \"40\", \"4chan\", \"4chan\", \"4chan\", \"abc\", \"absolutely\", \"act\", \"act\", \"act\", \"actual\", \"affected\", \"affected\", \"affected\", \"affected\", \"affected\", \"aid\", \"america\", \"america\", \"america\", \"america\", \"america\", \"amid\", \"amid\", \"anniversary\", \"anthem\", \"anthem\", \"ap\", \"ap\", \"ap\", \"ap\", \"april\", \"april\", \"april\", \"arrest\", \"arrest\", \"arrest\", \"arrest\", \"asks\", \"attack\", \"attack\", \"attack\", \"attack\", \"attack\", \"attention\", \"aunt\", \"aunt\", \"baptist\", \"baptist\", \"bauman\", \"benghazi\", \"blames\", \"blames\", \"blames\", \"blaming\", \"blaming\", \"blog\", \"blood\", \"blood\", \"blood\", \"bomb\", \"bomb\", \"bomb\", \"bomb\", \"bomb\", \"bombers\", \"bombers\", \"bombers\", \"bombers\", \"bombing\", \"bombing\", \"bombing\", \"bombing\", \"bombing\", \"bombings\", \"bombings\", \"bombings\", \"bombings\", \"bombings\", \"boston\", \"boston\", \"boston\", \"boston\", \"boston\", \"bostonmarathon\", \"bostonmarathon\", \"bostonmarathon\", \"bostonmarathon\", \"bostonmarathon\", \"breaking\", \"breaking\", \"breaking\", \"breaking\", \"breaking\", \"breaks\", \"campbell\", \"carrying\", \"carrying\", \"catch\", \"catch\", \"catch\", \"caucasus\", \"cctv\", \"chechen\", \"chechen\", \"chechen\", \"chechnya\", \"chechnya\", \"check\", \"check\", \"china\", \"christian\", \"cispa\", \"civic\", \"clip\", \"cnn\", \"cnn\", \"cnn\", \"commissioner\", \"communities\", \"communities\", \"condolences\", \"condolences\", \"connected\", \"connected\", \"connected\", \"contained\", \"contained\", \"cooker\", \"cooker\", \"court\", \"court\", \"courthouse\", \"cover\", \"crowdsourcing\", \"culprit\", \"daily\", \"dare\", \"dare\", \"dare\", \"dare\", \"dark\", \"dark\", \"dark\", \"days\", \"days\", \"days\", \"days\", \"days\", \"dead\", \"dead\", \"dead\", \"dead\", \"dead\", \"deported\", \"deserves\", \"device\", \"did\", \"did\", \"did\", \"did\", \"did\", \"died\", \"died\", \"died\", \"died\", \"died\", \"disaster\", \"disaster\", \"disaster\", \"doctors\", \"doctors\", \"doctors\", \"domestic\", \"domestic\", \"domestic\", \"don\", \"don\", \"don\", \"don\", \"don\", \"donate\", \"donate\", \"donatetoboston\", \"donatetoboston\", \"dont\", \"dude\", \"dzhokhar\", \"dzhokhar\", \"dzhokhar\", \"dzhokhar\", \"dzhokhar\", \"enforcement\", \"enforcement\", \"especially\", \"evil\", \"expected\", \"explosion\", \"explosion\", \"explosion\", \"explosion\", \"explosion\", \"explosions\", \"explosions\", \"explosions\", \"explosions\", \"explosions\", \"fact\", \"fact\", \"far\", \"far\", \"far\", \"far\", \"far\", \"fbi\", \"fbi\", \"fbi\", \"fbi\", \"fbi\", \"fears\", \"feel\", \"feel\", \"feel\", \"feel\", \"feel\", \"finding\", \"finish\", \"finish\", \"finish\", \"finish\", \"fo\", \"forgiveness\", \"forward\", \"friends\", \"friends\", \"friends\", \"friends\", \"friends\", \"fuck\", \"fuck\", \"fuck\", \"fuck\", \"fund\", \"fund\", \"fund\", \"fund\", \"funds\", \"funny\", \"funny\", \"funny\", \"game\", \"game\", \"game\", \"game\", \"girl\", \"girl\", \"girl\", \"girl\", \"globe\", \"globe\", \"goes\", \"goes\", \"goes\", \"goes\", \"going\", \"going\", \"going\", \"going\", \"going\", \"google\", \"green\", \"green\", \"gt\", \"gt\", \"gt\", \"gt\", \"gt\", \"gunfight\", \"hate\", \"hate\", \"head\", \"heartless\", \"hellos\", \"help\", \"help\", \"help\", \"help\", \"help\", \"hillsborough\", \"hillsborough\", \"hold\", \"homeless\", \"homeless\", \"homeless\", \"homeless\", \"homeless\", \"hook\", \"hook\", \"hook\", \"horror\", \"iconic\", \"identified\", \"identified\", \"identified\", \"identified\", \"identified\", \"identifying\", \"idiot\", \"illustrated\", \"images\", \"images\", \"images\", \"images\", \"information\", \"insurance\", \"islamic\", \"jeff\", \"job\", \"just\", \"just\", \"just\", \"just\", \"just\", \"kept\", \"kids\", \"kids\", \"killed\", \"killed\", \"killed\", \"killed\", \"killed\", \"know\", \"know\", \"know\", \"know\", \"know\", \"krystle\", \"later\", \"laurel\", \"law\", \"law\", \"law\", \"legs\", \"legs\", \"legs\", \"life\", \"life\", \"life\", \"life\", \"life\", \"like\", \"like\", \"like\", \"like\", \"like\", \"line\", \"line\", \"line\", \"line\", \"linked\", \"live\", \"live\", \"live\", \"live\", \"live\", \"lived\", \"lived\", \"lived\", \"loss\", \"loss\", \"love\", \"love\", \"love\", \"love\", \"male\", \"malik\", \"malik\", \"man\", \"man\", \"man\", \"man\", \"man\", \"marathon\", \"marathon\", \"marathon\", \"marathon\", \"marathon\", \"martin\", \"martin\", \"martin\", \"massive\", \"massive\", \"meaning\", \"means\", \"medical\", \"men\", \"men\", \"men\", \"men\", \"met\", \"middle\", \"military\", \"mind\", \"mitshooting\", \"mitshooting\", \"moments\", \"mt\", \"mulugeta\", \"mulugeta\", \"muslim\", \"muslim\", \"muslim\", \"muslim\", \"need\", \"need\", \"need\", \"need\", \"need\", \"nephews\", \"new\", \"new\", \"new\", \"new\", \"news\", \"news\", \"news\", \"news\", \"news\", \"newtown\", \"obama\", \"obama\", \"obama\", \"obama\", \"obama\", \"offer\", \"official\", \"official\", \"official\", \"official\", \"okc\", \"old\", \"old\", \"old\", \"old\", \"old\", \"olds\", \"olds\", \"olds\", \"olds\", \"online\", \"p2\", \"pass\", \"passed\", \"passed\", \"passed\", \"passed\", \"past\", \"pellets\", \"pellets\", \"people\", \"people\", \"people\", \"people\", \"people\", \"photo\", \"photo\", \"photo\", \"photo\", \"photo\", \"photos\", \"photos\", \"photos\", \"photos\", \"picture\", \"picture\", \"picture\", \"pinned\", \"pinned\", \"plates\", \"police\", \"police\", \"police\", \"police\", \"police\", \"politicians\", \"poor\", \"prayers\", \"prayers\", \"prayers\", \"prayers\", \"prayers\", \"prayforboston\", \"prayforboston\", \"prayforboston\", \"prayforboston\", \"prayforboston\", \"predicted\", \"predicted\", \"press\", \"press\", \"press\", \"press\", \"pressure\", \"pressure\", \"purple\", \"question\", \"questions\", \"questions\", \"racists\", \"region\", \"region\", \"release\", \"release\", \"release\", \"releases\", \"releases\", \"releases\", \"releases\", \"relief\", \"relief\", \"remain\", \"remain\", \"remaining\", \"reported\", \"reported\", \"reportedly\", \"reports\", \"reports\", \"reports\", \"reports\", \"reports\", \"resolution\", \"right\", \"right\", \"right\", \"right\", \"right\", \"rt\", \"rt\", \"rt\", \"rt\", \"rt\", \"run\", \"run\", \"run\", \"run\", \"runners\", \"runners\", \"runners\", \"running\", \"running\", \"running\", \"running\", \"russia\", \"sabres\", \"sad\", \"sad\", \"sad\", \"sad\", \"sad\", \"saddened\", \"sandy\", \"sandy\", \"sandy\", \"sarasota\", \"save\", \"scanner\", \"scanner\", \"scanner\", \"scanner\", \"schools\", \"scrolling\", \"scrolling\", \"season\", \"second\", \"second\", \"second\", \"second\", \"sending\", \"sending\", \"sending\", \"shit\", \"shit\", \"shit\", \"shit\", \"shit\", \"shrapnel\", \"shrapnel\", \"shrapnel\", \"shut\", \"shut\", \"shut\", \"slowly\", \"social\", \"social\", \"social\", \"soldiers\", \"solidarity\", \"sons\", \"sources\", \"sources\", \"ss\", \"stay\", \"stay\", \"stay\", \"stay\", \"stay\", \"stop\", \"stop\", \"stop\", \"stop\", \"stop\", \"suffered\", \"suffering\", \"sun\", \"sun\", \"surviving\", \"surviving\", \"surviving\", \"suspect\", \"suspect\", \"suspect\", \"suspect\", \"suspect\", \"suspects\", \"suspects\", \"suspects\", \"suspects\", \"suspects\", \"ta\", \"tcot\", \"tcot\", \"tcot\", \"tells\", \"terrorist\", \"terrorist\", \"terrorist\", \"terrorist\", \"terrorist\", \"terrorists\", \"terrorists\", \"terrorists\", \"terrorists\", \"terrorists\", \"thoughts\", \"thoughts\", \"thoughts\", \"thoughts\", \"thoughts\", \"threa\", \"threa\", \"threa\", \"threats\", \"threats\", \"time\", \"time\", \"time\", \"time\", \"time\", \"tips\", \"titanic\", \"today\", \"today\", \"today\", \"today\", \"today\", \"traffic\", \"tragedy\", \"tragedy\", \"tragedy\", \"tragedy\", \"tragedy\", \"transit\", \"transit\", \"tsarnaev\", \"tsarnaev\", \"tsarnaev\", \"tsarnaev\", \"tsarnaev\", \"tx\", \"uncle\", \"uncle\", \"uncle\", \"unde\", \"underway\", \"urging\", \"use\", \"victims\", \"victims\", \"victims\", \"victims\", \"victims\", \"video\", \"video\", \"video\", \"video\", \"video\", \"volunteer\", \"watertown\", \"watertown\", \"watertown\", \"watertown\", \"watertown\", \"week\", \"week\", \"week\", \"week\", \"westboro\", \"westboro\", \"wing\", \"world\", \"world\", \"world\", \"world\", \"world\", \"yahoo\", \"yankees\", \"year\", \"year\", \"year\", \"year\", \"year\", \"yesterday\", \"yesterday\", \"youtube\", \"youtube\", \"youtube\", \"yr\", \"yr\", \"zayn\", \"zayn\", \"zayn\"]}, \"R\": 30, \"lambda.step\": 0.01, \"plot.opts\": {\"xlab\": \"PC1\", \"ylab\": \"PC2\"}, \"topic.order\": [1, 2, 4, 3, 5]};\n",
       "\n",
       "function LDAvis_load_lib(url, callback){\n",
       "  var s = document.createElement('script');\n",
       "  s.src = url;\n",
       "  s.async = true;\n",
       "  s.onreadystatechange = s.onload = callback;\n",
       "  s.onerror = function(){console.warn(\"failed to load library \" + url);};\n",
       "  document.getElementsByTagName(\"head\")[0].appendChild(s);\n",
       "}\n",
       "\n",
       "if(typeof(LDAvis) !== \"undefined\"){\n",
       "   // already loaded: just create the visualization\n",
       "   !function(LDAvis){\n",
       "       new LDAvis(\"#\" + \"ldavis_el1021404233388646243048412356\", ldavis_el1021404233388646243048412356_data);\n",
       "   }(LDAvis);\n",
       "}else if(typeof define === \"function\" && define.amd){\n",
       "   // require.js is available: use it to load d3/LDAvis\n",
       "   require.config({paths: {d3: \"https://d3js.org/d3.v5\"}});\n",
       "   require([\"d3\"], function(d3){\n",
       "      window.d3 = d3;\n",
       "      LDAvis_load_lib(\"https://cdn.jsdelivr.net/gh/bmabey/pyLDAvis@3.4.0/pyLDAvis/js/ldavis.v3.0.0.js\", function(){\n",
       "        new LDAvis(\"#\" + \"ldavis_el1021404233388646243048412356\", ldavis_el1021404233388646243048412356_data);\n",
       "      });\n",
       "    });\n",
       "}else{\n",
       "    // require.js not available: dynamically load d3 & LDAvis\n",
       "    LDAvis_load_lib(\"https://d3js.org/d3.v5.js\", function(){\n",
       "         LDAvis_load_lib(\"https://cdn.jsdelivr.net/gh/bmabey/pyLDAvis@3.4.0/pyLDAvis/js/ldavis.v3.0.0.js\", function(){\n",
       "                 new LDAvis(\"#\" + \"ldavis_el1021404233388646243048412356\", ldavis_el1021404233388646243048412356_data);\n",
       "            })\n",
       "         });\n",
       "}\n",
       "</script>"
      ],
      "text/plain": [
       "<IPython.core.display.HTML object>"
      ]
     },
     "execution_count": 16,
     "metadata": {},
     "output_type": "execute_result"
    }
   ],
   "source": [
    "# Fit and transform the processed titles\n",
    "count_data_boom = count_vectorizer.fit_transform(boom)\n",
    "\n",
    "# Convert the count data to a gensim corpus\n",
    "corpus = gensim.matutils.Sparse2Corpus(count_data_boom.T)\n",
    "\n",
    "# Create a gensim Dictionary\n",
    "dictionary = gensim.corpora.Dictionary.from_corpus(corpus, id2word=dict(zip(range(len(count_vectorizer.get_feature_names_out())), count_vectorizer.get_feature_names_out())))\n",
    "\n",
    "# Create and fit the LDA model with gensim\n",
    "lda_model = gensim.models.LdaModel(corpus=corpus, id2word=dictionary, num_topics=number_topics, random_state=5)\n",
    "\n",
    "# Generate the pyLDAvis visualization\n",
    "panel = pyLDAvis.gensim.prepare(lda_model, corpus, dictionary)\n",
    "pyLDAvis.display(panel)"
   ]
  },
  {
   "cell_type": "code",
   "execution_count": 29,
   "id": "ca8c11fa-ee8b-4074-b21c-300f7feebd1e",
   "metadata": {
    "tags": []
   },
   "outputs": [],
   "source": [
    "# Topic Analysis here"
   ]
  },
  {
   "cell_type": "markdown",
   "id": "f9465fe4-6f71-488b-950a-4edd4e90fe34",
   "metadata": {
    "tags": []
   },
   "source": [
    "## Hurricane Sandy"
   ]
  },
  {
   "cell_type": "code",
   "execution_count": 17,
   "id": "6748e787-ae28-4412-9ceb-03ca1a016e33",
   "metadata": {
    "tags": []
   },
   "outputs": [
    {
     "name": "stdout",
     "output_type": "stream",
     "text": [
      "\n",
      "Topic #1:\n",
      "hurricane sandy storm rt power lt going really away don\n",
      "\n",
      "Topic #2:\n",
      "hurricane rt sandy just like school new people power don\n",
      "\n",
      "Topic #3:\n",
      "hurricane sandy rt frankenstorm stay safe new hit ny apocalypse\n",
      "\n",
      "Topic #4:\n",
      "hurricane rt fuck water went bout gonna house sandy irene\n",
      "\n",
      "Topic #5:\n",
      "hurricane sandy rt east coast like safe shit new affected\n"
     ]
    }
   ],
   "source": [
    "# We will only use the 'text_cleaned' column for our analysis\n",
    "natural = sandy['clean_text']\n",
    "\n",
    "# Fit and transform the processed titles\n",
    "count_data_natural = count_vectorizer.fit_transform(natural)\n",
    "\n",
    "# Tweak the two parameters below (use int values below 15)\n",
    "number_topics = 5\n",
    "number_words = 10\n",
    "\n",
    "# Create and fit the LDA model with a fixed random state to prevent changes with every update\n",
    "lda_model = LDA(n_components=number_topics, n_jobs=-1, random_state=5)\n",
    "lda_model.fit(count_data_natural)\n",
    "\n",
    "def print_topics(model, count_vectorizer, n_top_words):\n",
    "    words = count_vectorizer.get_feature_names_out()\n",
    "    topic_word_distributions = model.components_\n",
    "    for topic_idx, topic in enumerate(topic_word_distributions):\n",
    "        print(\"\\nTopic #%d:\" % (topic_idx + 1))\n",
    "        print(\" \".join([words[i]\n",
    "                        for i in topic.argsort()[:-n_top_words - 1:-1]]))\n",
    "\n",
    "print_topics(lda_model, count_vectorizer, number_words)"
   ]
  },
  {
   "cell_type": "code",
   "execution_count": 32,
   "id": "09b64495-c877-4657-b113-8231cecc9d19",
   "metadata": {
    "tags": []
   },
   "outputs": [],
   "source": [
    "### add explanation about top 5 topics about Hurricane Sandy here"
   ]
  },
  {
   "cell_type": "markdown",
   "id": "e7779209-1027-4176-952e-d15f5f3ac0f3",
   "metadata": {},
   "source": [
    "### Visualization"
   ]
  },
  {
   "cell_type": "code",
   "execution_count": null,
   "id": "9cbcc0a8-7cf7-4e6d-9076-78eb00345e30",
   "metadata": {
    "tags": []
   },
   "outputs": [
    {
     "name": "stdout",
     "output_type": "stream",
     "text": [
      "[t-SNE] Computing 91 nearest neighbors...\n",
      "[t-SNE] Indexed 6128 samples in 0.003s...\n",
      "[t-SNE] Computed neighbors for 6128 samples in 0.269s...\n",
      "[t-SNE] Computed conditional probabilities for sample 1000 / 6128\n",
      "[t-SNE] Computed conditional probabilities for sample 2000 / 6128\n",
      "[t-SNE] Computed conditional probabilities for sample 3000 / 6128\n",
      "[t-SNE] Computed conditional probabilities for sample 4000 / 6128\n",
      "[t-SNE] Computed conditional probabilities for sample 5000 / 6128\n",
      "[t-SNE] Computed conditional probabilities for sample 6000 / 6128\n",
      "[t-SNE] Computed conditional probabilities for sample 6128 / 6128\n",
      "[t-SNE] Mean sigma: 0.000000\n",
      "[t-SNE] KL divergence after 250 iterations with early exaggeration: 55.279282\n"
     ]
    }
   ],
   "source": [
    "# Get topic weights\n",
    "topic_weights = lda_model.transform(count_data_natural)\n",
    "\n",
    "# Array of topic weights    \n",
    "arr_natural = pd.DataFrame(topic_weights).fillna(0).values\n",
    "\n",
    "# Keep the well separated points (optional)\n",
    "arr_natural = arr_natural[np.amax(arr_natural, axis=1) > 0.35]\n",
    "\n",
    "# Dominant topic number in each doc\n",
    "topic_num_natural = np.argmax(arr_natural, axis=1)\n",
    "\n",
    "# tSNE Dimension Reduction\n",
    "tsne_model_natural = TSNE(n_components=2, verbose=1, random_state=5, angle=.99, init='pca')\n",
    "tsne_lda_natural = tsne_model_natural.fit_transform(arr_natural)\n",
    "\n",
    "from bokeh.io import output_notebook\n",
    "from bokeh.plotting import figure, show\n",
    "from bokeh.models import Legend\n",
    "\n",
    "# Plot the Topic Clusters using Bokeh\n",
    "output_notebook()\n",
    "mycolors_natural = np.array([color for name, color in mcolors.TABLEAU_COLORS.items()])\n",
    "plot_natural = figure(title=\"Clustering of Top {} Natural Disaster Topics\".format(number_words), \n",
    "              width=900, height=700)\n",
    "\n",
    "scatter_list_natural = []\n",
    "for topic in np.unique(topic_num_natural):\n",
    "    indices = np.where(topic_num_natural == topic)[0]\n",
    "    scatter = plot_natural.scatter(x=tsne_lda_natural[indices, 0], \n",
    "                                y=tsne_lda_natural[indices, 1], \n",
    "                                color=mycolors_natural[topic])\n",
    "    scatter_list_natural.append(scatter)\n",
    "\n",
    "# Define topic labels\n",
    "topic_labels_natural = ['Topic 1', 'Topic 2', 'Topic 3', 'Topic 4', 'Topic 5']\n",
    "\n",
    "# Create legend\n",
    "legend_natural = Legend(items=[(label, [scatter]) for label, scatter in zip(topic_labels_natural, scatter_list_natural)],\n",
    "                location='top_left')\n",
    "plot_natural.add_layout(legend_natural, 'right')\n",
    "\n",
    "show(plot_natural)"
   ]
  },
  {
   "cell_type": "code",
   "execution_count": null,
   "id": "415c8ee4-b910-40df-b734-f9e132d63b9d",
   "metadata": {
    "tags": []
   },
   "outputs": [],
   "source": [
    "# Insert topic analysis here"
   ]
  },
  {
   "cell_type": "markdown",
   "id": "68519db9-817f-41da-80d7-a61494991460",
   "metadata": {
    "tags": []
   },
   "source": [
    "## pyLDAvis with Hurricane Sandy"
   ]
  },
  {
   "cell_type": "code",
   "execution_count": null,
   "id": "422c557f-2462-470a-8eee-9e097c9c725e",
   "metadata": {
    "tags": []
   },
   "outputs": [],
   "source": [
    "# Fit and transform the processed titles\n",
    "count_data_natural = count_vectorizer.fit_transform(natural)\n",
    "\n",
    "# Convert the count data to a gensim corpus\n",
    "corpus = gensim.matutils.Sparse2Corpus(count_data_natural.T)\n",
    "\n",
    "# Create a gensim Dictionary\n",
    "dictionary = gensim.corpora.Dictionary.from_corpus(corpus, id2word=dict(zip(range(len(count_vectorizer.get_feature_names_out())), count_vectorizer.get_feature_names_out())))\n",
    "\n",
    "# Create and fit the LDA model with gensim\n",
    "lda_model = gensim.models.LdaModel(corpus=corpus, id2word=dictionary, num_topics=number_topics, random_state=5)\n",
    "\n",
    "# Generate the pyLDAvis visualization\n",
    "panel = pyLDAvis.gensim.prepare(lda_model, corpus, dictionary)\n",
    "pyLDAvis.display(panel)"
   ]
  },
  {
   "cell_type": "markdown",
   "id": "07b03bac-3518-4097-adf6-b5f3061cfb7f",
   "metadata": {
    "tags": []
   },
   "source": [
    "# Results/Findings"
   ]
  },
  {
   "cell_type": "markdown",
   "id": "8cfbfe45-a183-4c1f-82ce-50cf2d13a4fc",
   "metadata": {
    "tags": []
   },
   "source": [
    "## Sentiment Analysis\n",
    "Taking a look at our first research question, we can see that there are major disparities in the way that TextBlob and Vader calculate sentiment scores for the Boston Bombings tweets. Vader produced nearly twice as many \"negative\" labels as TextBlob, while the opposite effect occurred in \"neutral\" tweets. The positive tweets from both libraries are much fewer in frequencies, but TextBlob and Vader label them very similarly. Since Vader has a wider scope of what gets included in calculating the score, it would be a reasonable assumption that the emojis and capitalizations used in these tweets provide more negative context in a addition to the words written. Without these non-textual cues and components, these tweets can be defined as more neutral as they are in TextBlob's processing. In other words, these disparities in how the tweets are processed can show us how important non-textual aspects of written communication can be important in understanding context.\n",
    "\n",
    "In regards to comparing TextBlob and Vader's processing capabilities between man-made (Boston Bombing) and natural (Hurricane Sandy) disasters, we can clearly see a lot less variability between the two libraries when it comes to Hurricane Sandy. The overall trends are the same with Hurricane Sandy as they are with the Bombings: Vader produces more negative labels while TextBlob produces more positive and neutral labels. However, these differences are much less significant, the counts for labels are distribtued much more evenly. Opposite to the Boston Bombings, the most popular label was \"Positive\", which may imply that negative feelings to Hurricane Sandy, a natural disaster, are not as intense or prevalent as feelings toward a man-made disaster such as the Boston Bombings. Since we can connect the Boston Bombings to rhuman emotion and morality more easily than we can with Hurricane Sandy, these assumptions are logically sensible, but not able to be definitively made based on these types of analyses.\n",
    "\n",
    "Further research could be done to investigate the causes of these discrepancies and would be a great pathway into understand how connecting disaster with humanity may influence the tweets that we post and the feelings we share when disaster strikes, but it's safe to say that TextBlob and Vader's different processing abilities give insight to how emojis can change the sentiments of tweets.\n",
    "\n",
    "\n",
    "## Topic Modeling"
   ]
  },
  {
   "attachments": {},
   "cell_type": "markdown",
   "id": "6a1bad11-5a68-4d38-a00b-90105e453927",
   "metadata": {},
   "source": [
    "Discussing our third research question, we found that the main topic cluster that are coming up the most in tweets that are ‘on-topic’ for the Boston Marathon Bombing are most involved during the actual events of the Bombing itself. There is indication that many Twitter users that are in the dataset were sharing information in relation to the initial attack, following specific words such as explosions, bombing, and #prayforboston. From the Topic Cluster we can see that the topics themselves start to intertwine as certain words start to mix, however, Topic 5 ends up being the center of everything surrounded by all the other topics. Leading into Topic 5 which was the political response in the aftermath of the Boston Marathon Bombing. Words such as Boston, bombing, explosion, prayforboston, Obama were coming up the most. There was also some on-topic tweets concerning the law enforcement response. Because Textblob and Vader detected such large numbers of tweets that were negative, the negative sentiment scores were much higher than the Hurricane Sandy event.\n",
    "\n",
    "In comparison to the Sandy Hurricane event, the on-topic clusters were more focused on the the relevant terms ‘hurricane, sandy, rt’, and overall seemed less negative when ran in Textblob and Vader. However, salient terms were also pretty relevant in as terms such as f*ck was extremely used to really demonstrate just how un-pleasurable the event truly was. In comparison in terms of the Topic Cluster, Topic 4 which was the topic regarding the more salient terms was the center of the model as everything else revolved around it. Sandy and rt were still very used in the thousands, however, there was a much larger marginal for topic distribution."
   ]
  }
 ],
 "metadata": {
  "kernelspec": {
   "display_name": "Python 3 (ipykernel)",
   "language": "python",
   "name": "python3"
  },
  "language_info": {
   "codemirror_mode": {
    "name": "ipython",
    "version": 3
   },
   "file_extension": ".py",
   "mimetype": "text/x-python",
   "name": "python",
   "nbconvert_exporter": "python",
   "pygments_lexer": "ipython3",
   "version": "3.10.9"
  }
 },
 "nbformat": 4,
 "nbformat_minor": 5
}
